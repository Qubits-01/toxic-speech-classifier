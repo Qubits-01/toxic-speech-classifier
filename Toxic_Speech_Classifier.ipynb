{
  "cells": [
    {
      "attachments": {},
      "cell_type": "markdown",
      "metadata": {
        "id": "JgcMidzvYYl_"
      },
      "source": [
        "# [ DATA COLLECTION AND PROCESSING ]"
      ]
    },
    {
      "attachments": {},
      "cell_type": "markdown",
      "metadata": {
        "id": "G5uZVLAKYFSo"
      },
      "source": [
        "# 1 | Preparing the data frame."
      ]
    },
    {
      "attachments": {},
      "cell_type": "markdown",
      "metadata": {
        "id": "xNZvL9SZYFSr"
      },
      "source": [
        "## 1.1 | Hate Speech Filipino Dataset (source 1)."
      ]
    },
    {
      "attachments": {},
      "cell_type": "markdown",
      "metadata": {
        "id": "QJjAvLliYFSr"
      },
      "source": [
        "### Load the dataset."
      ]
    },
    {
      "cell_type": "code",
      "execution_count": 1,
      "metadata": {
        "id": "SI4tZ71kYFSs"
      },
      "outputs": [],
      "source": [
        "# Hate Speech in Filipino: Contains 10k tweets (training set) that are labeled as hate speech\n",
        "# or non-hate speech. It also comes with 4,232 validation and 10k testing samples.\n",
        "# Collected during the 2016 Philippine Presidential Elections.\n",
        "#\n",
        "# Load the datasets from the local csv files.\n",
        "# Datasets are from Hugging Face (ref: https://huggingface.co/datasets/hate_speech_filipino)\n",
        "#\n",
        "# Dataset Columns\n",
        "# - text (String) : The input text (i.e., tweet).\n",
        "# - label (int) : 0 means 'non-hate speech' while 1 means 'hate speech.'\n",
        "\n",
        "import pandas as pd\n",
        "\n",
        "local_sub_path = 'datasets/Hate Speech Filipino/'\n",
        "\n",
        "hate_speech_fil_train_df = pd.read_csv(local_sub_path + 'hate_speech_filipino_train.csv')\n",
        "hate_speech_fil_test_df = pd.read_csv(local_sub_path + 'hate_speech_filipino_train.csv')\n",
        "hate_speech_fil_validate_df = pd.read_csv(local_sub_path + 'hate_speech_filipino_validate.csv')\n",
        "\n",
        "# Combine all the datasets into a single data frame.\n",
        "hate_speech_fil_df = pd.concat([hate_speech_fil_test_df, hate_speech_fil_train_df, hate_speech_fil_validate_df])\n",
        "\n",
        "# Reset the index of hate_speech_fil_df.\n",
        "hate_speech_fil_df.reset_index(drop=True, inplace=True)"
      ]
    },
    {
      "attachments": {},
      "cell_type": "markdown",
      "metadata": {
        "id": "zVNp1lUfYFSt"
      },
      "source": [
        "### Inspect the dataset."
      ]
    },
    {
      "cell_type": "code",
      "execution_count": 2,
      "metadata": {
        "id": "WLXgy5qhYFSt",
        "outputId": "b36e7760-4151-408c-80fd-f13d29ef9b41"
      },
      "outputs": [
        {
          "data": {
            "text/html": [
              "<div>\n",
              "<style scoped>\n",
              "    .dataframe tbody tr th:only-of-type {\n",
              "        vertical-align: middle;\n",
              "    }\n",
              "\n",
              "    .dataframe tbody tr th {\n",
              "        vertical-align: top;\n",
              "    }\n",
              "\n",
              "    .dataframe thead th {\n",
              "        text-align: right;\n",
              "    }\n",
              "</style>\n",
              "<table border=\"1\" class=\"dataframe\">\n",
              "  <thead>\n",
              "    <tr style=\"text-align: right;\">\n",
              "      <th></th>\n",
              "      <th>text</th>\n",
              "      <th>label</th>\n",
              "    </tr>\n",
              "  </thead>\n",
              "  <tbody>\n",
              "    <tr>\n",
              "      <th>0</th>\n",
              "      <td>Inaasahan na ni Vice President Jejomar Binay n...</td>\n",
              "      <td>0</td>\n",
              "    </tr>\n",
              "    <tr>\n",
              "      <th>1</th>\n",
              "      <td>Mar Roxas TANG INA TUWID NA DAAN DAW .. EH SYA...</td>\n",
              "      <td>1</td>\n",
              "    </tr>\n",
              "    <tr>\n",
              "      <th>2</th>\n",
              "      <td>Salamat sa walang sawang suporta ng mga taga m...</td>\n",
              "      <td>0</td>\n",
              "    </tr>\n",
              "    <tr>\n",
              "      <th>3</th>\n",
              "      <td>@rapplerdotcom putangina mo binay TAKBO PA</td>\n",
              "      <td>1</td>\n",
              "    </tr>\n",
              "    <tr>\n",
              "      <th>4</th>\n",
              "      <td>Binay with selective amnesia, forgetting about...</td>\n",
              "      <td>0</td>\n",
              "    </tr>\n",
              "    <tr>\n",
              "      <th>...</th>\n",
              "      <td>...</td>\n",
              "      <td>...</td>\n",
              "    </tr>\n",
              "    <tr>\n",
              "      <th>9995</th>\n",
              "      <td>Mar Roxas on the rise, w/ momentum, machinery,...</td>\n",
              "      <td>0</td>\n",
              "    </tr>\n",
              "    <tr>\n",
              "      <th>9996</th>\n",
              "      <td>@chelseapailmao</td>\n",
              "      <td>1</td>\n",
              "    </tr>\n",
              "    <tr>\n",
              "      <th>9997</th>\n",
              "      <td>Alan Cayetano 'confirms' Palace, Roxas, Poe be...</td>\n",
              "      <td>0</td>\n",
              "    </tr>\n",
              "    <tr>\n",
              "      <th>9998</th>\n",
              "      <td>Mas nakakainis ad ni Mar kaysa kay Binay.</td>\n",
              "      <td>1</td>\n",
              "    </tr>\n",
              "    <tr>\n",
              "      <th>9999</th>\n",
              "      <td>Preliminary and partial results coming in sugg...</td>\n",
              "      <td>0</td>\n",
              "    </tr>\n",
              "  </tbody>\n",
              "</table>\n",
              "<p>10000 rows × 2 columns</p>\n",
              "</div>"
            ],
            "text/plain": [
              "                                                   text  label\n",
              "0     Inaasahan na ni Vice President Jejomar Binay n...      0\n",
              "1     Mar Roxas TANG INA TUWID NA DAAN DAW .. EH SYA...      1\n",
              "2     Salamat sa walang sawang suporta ng mga taga m...      0\n",
              "3            @rapplerdotcom putangina mo binay TAKBO PA      1\n",
              "4     Binay with selective amnesia, forgetting about...      0\n",
              "...                                                 ...    ...\n",
              "9995  Mar Roxas on the rise, w/ momentum, machinery,...      0\n",
              "9996                                    @chelseapailmao      1\n",
              "9997  Alan Cayetano 'confirms' Palace, Roxas, Poe be...      0\n",
              "9998          Mas nakakainis ad ni Mar kaysa kay Binay.      1\n",
              "9999  Preliminary and partial results coming in sugg...      0\n",
              "\n",
              "[10000 rows x 2 columns]"
            ]
          },
          "execution_count": 2,
          "metadata": {},
          "output_type": "execute_result"
        }
      ],
      "source": [
        "hate_speech_fil_train_df"
      ]
    },
    {
      "cell_type": "code",
      "execution_count": 3,
      "metadata": {
        "id": "xn70ZixAYFSu",
        "outputId": "6633a817-3e90-4724-e1e2-973665d11205"
      },
      "outputs": [
        {
          "data": {
            "text/html": [
              "<div>\n",
              "<style scoped>\n",
              "    .dataframe tbody tr th:only-of-type {\n",
              "        vertical-align: middle;\n",
              "    }\n",
              "\n",
              "    .dataframe tbody tr th {\n",
              "        vertical-align: top;\n",
              "    }\n",
              "\n",
              "    .dataframe thead th {\n",
              "        text-align: right;\n",
              "    }\n",
              "</style>\n",
              "<table border=\"1\" class=\"dataframe\">\n",
              "  <thead>\n",
              "    <tr style=\"text-align: right;\">\n",
              "      <th></th>\n",
              "      <th>text</th>\n",
              "      <th>label</th>\n",
              "    </tr>\n",
              "  </thead>\n",
              "  <tbody>\n",
              "    <tr>\n",
              "      <th>0</th>\n",
              "      <td>Inaasahan na ni Vice President Jejomar Binay n...</td>\n",
              "      <td>0</td>\n",
              "    </tr>\n",
              "    <tr>\n",
              "      <th>1</th>\n",
              "      <td>Mar Roxas TANG INA TUWID NA DAAN DAW .. EH SYA...</td>\n",
              "      <td>1</td>\n",
              "    </tr>\n",
              "    <tr>\n",
              "      <th>2</th>\n",
              "      <td>Salamat sa walang sawang suporta ng mga taga m...</td>\n",
              "      <td>0</td>\n",
              "    </tr>\n",
              "    <tr>\n",
              "      <th>3</th>\n",
              "      <td>@rapplerdotcom putangina mo binay TAKBO PA</td>\n",
              "      <td>1</td>\n",
              "    </tr>\n",
              "    <tr>\n",
              "      <th>4</th>\n",
              "      <td>Binay with selective amnesia, forgetting about...</td>\n",
              "      <td>0</td>\n",
              "    </tr>\n",
              "    <tr>\n",
              "      <th>...</th>\n",
              "      <td>...</td>\n",
              "      <td>...</td>\n",
              "    </tr>\n",
              "    <tr>\n",
              "      <th>9995</th>\n",
              "      <td>Mar Roxas on the rise, w/ momentum, machinery,...</td>\n",
              "      <td>0</td>\n",
              "    </tr>\n",
              "    <tr>\n",
              "      <th>9996</th>\n",
              "      <td>@chelseapailmao</td>\n",
              "      <td>1</td>\n",
              "    </tr>\n",
              "    <tr>\n",
              "      <th>9997</th>\n",
              "      <td>Alan Cayetano 'confirms' Palace, Roxas, Poe be...</td>\n",
              "      <td>0</td>\n",
              "    </tr>\n",
              "    <tr>\n",
              "      <th>9998</th>\n",
              "      <td>Mas nakakainis ad ni Mar kaysa kay Binay.</td>\n",
              "      <td>1</td>\n",
              "    </tr>\n",
              "    <tr>\n",
              "      <th>9999</th>\n",
              "      <td>Preliminary and partial results coming in sugg...</td>\n",
              "      <td>0</td>\n",
              "    </tr>\n",
              "  </tbody>\n",
              "</table>\n",
              "<p>10000 rows × 2 columns</p>\n",
              "</div>"
            ],
            "text/plain": [
              "                                                   text  label\n",
              "0     Inaasahan na ni Vice President Jejomar Binay n...      0\n",
              "1     Mar Roxas TANG INA TUWID NA DAAN DAW .. EH SYA...      1\n",
              "2     Salamat sa walang sawang suporta ng mga taga m...      0\n",
              "3            @rapplerdotcom putangina mo binay TAKBO PA      1\n",
              "4     Binay with selective amnesia, forgetting about...      0\n",
              "...                                                 ...    ...\n",
              "9995  Mar Roxas on the rise, w/ momentum, machinery,...      0\n",
              "9996                                    @chelseapailmao      1\n",
              "9997  Alan Cayetano 'confirms' Palace, Roxas, Poe be...      0\n",
              "9998          Mas nakakainis ad ni Mar kaysa kay Binay.      1\n",
              "9999  Preliminary and partial results coming in sugg...      0\n",
              "\n",
              "[10000 rows x 2 columns]"
            ]
          },
          "execution_count": 3,
          "metadata": {},
          "output_type": "execute_result"
        }
      ],
      "source": [
        "hate_speech_fil_test_df"
      ]
    },
    {
      "cell_type": "code",
      "execution_count": 4,
      "metadata": {
        "id": "M_OiRSiUYFSu",
        "outputId": "88837994-d2eb-4405-f28a-3440ebb46440"
      },
      "outputs": [
        {
          "data": {
            "text/html": [
              "<div>\n",
              "<style scoped>\n",
              "    .dataframe tbody tr th:only-of-type {\n",
              "        vertical-align: middle;\n",
              "    }\n",
              "\n",
              "    .dataframe tbody tr th {\n",
              "        vertical-align: top;\n",
              "    }\n",
              "\n",
              "    .dataframe thead th {\n",
              "        text-align: right;\n",
              "    }\n",
              "</style>\n",
              "<table border=\"1\" class=\"dataframe\">\n",
              "  <thead>\n",
              "    <tr style=\"text-align: right;\">\n",
              "      <th></th>\n",
              "      <th>text</th>\n",
              "      <th>label</th>\n",
              "    </tr>\n",
              "  </thead>\n",
              "  <tbody>\n",
              "    <tr>\n",
              "      <th>0</th>\n",
              "      <td>Escudero denies betraying Poe after meeting wi...</td>\n",
              "      <td>0</td>\n",
              "    </tr>\n",
              "    <tr>\n",
              "      <th>1</th>\n",
              "      <td>Hndi ko makita yung sa one more chance saka ka...</td>\n",
              "      <td>1</td>\n",
              "    </tr>\n",
              "    <tr>\n",
              "      <th>2</th>\n",
              "      <td>Mar Roxas is now addressing the crowd gathered...</td>\n",
              "      <td>0</td>\n",
              "    </tr>\n",
              "    <tr>\n",
              "      <th>3</th>\n",
              "      <td>@ImYourBaeMax perfect! Para makaharap ni Duter...</td>\n",
              "      <td>0</td>\n",
              "    </tr>\n",
              "    <tr>\n",
              "      <th>4</th>\n",
              "      <td>#OnlyBinayPriority4Ps Wag nating hayaan na mal...</td>\n",
              "      <td>0</td>\n",
              "    </tr>\n",
              "    <tr>\n",
              "      <th>...</th>\n",
              "      <td>...</td>\n",
              "      <td>...</td>\n",
              "    </tr>\n",
              "    <tr>\n",
              "      <th>4227</th>\n",
              "      <td>Walang katumbas na halaga ng pera ang BOTO at ...</td>\n",
              "      <td>0</td>\n",
              "    </tr>\n",
              "    <tr>\n",
              "      <th>4228</th>\n",
              "      <td>Mar Roxas says presidential race is now only b...</td>\n",
              "      <td>0</td>\n",
              "    </tr>\n",
              "    <tr>\n",
              "      <th>4229</th>\n",
              "      <td>Ms Miriam to withdraw presidency to give away ...</td>\n",
              "      <td>0</td>\n",
              "    </tr>\n",
              "    <tr>\n",
              "      <th>4230</th>\n",
              "      <td>@B_RA_Ve I feel legitimately sick. Apparently,...</td>\n",
              "      <td>0</td>\n",
              "    </tr>\n",
              "    <tr>\n",
              "      <th>4231</th>\n",
              "      <td>@TheJhonitor absolutely, but don't be so sure ...</td>\n",
              "      <td>0</td>\n",
              "    </tr>\n",
              "  </tbody>\n",
              "</table>\n",
              "<p>4232 rows × 2 columns</p>\n",
              "</div>"
            ],
            "text/plain": [
              "                                                   text  label\n",
              "0     Escudero denies betraying Poe after meeting wi...      0\n",
              "1     Hndi ko makita yung sa one more chance saka ka...      1\n",
              "2     Mar Roxas is now addressing the crowd gathered...      0\n",
              "3     @ImYourBaeMax perfect! Para makaharap ni Duter...      0\n",
              "4     #OnlyBinayPriority4Ps Wag nating hayaan na mal...      0\n",
              "...                                                 ...    ...\n",
              "4227  Walang katumbas na halaga ng pera ang BOTO at ...      0\n",
              "4228  Mar Roxas says presidential race is now only b...      0\n",
              "4229  Ms Miriam to withdraw presidency to give away ...      0\n",
              "4230  @B_RA_Ve I feel legitimately sick. Apparently,...      0\n",
              "4231  @TheJhonitor absolutely, but don't be so sure ...      0\n",
              "\n",
              "[4232 rows x 2 columns]"
            ]
          },
          "execution_count": 4,
          "metadata": {},
          "output_type": "execute_result"
        }
      ],
      "source": [
        "hate_speech_fil_validate_df"
      ]
    },
    {
      "cell_type": "code",
      "execution_count": 5,
      "metadata": {
        "id": "cHHNq12-YFSu",
        "outputId": "8d01ac0c-8193-482a-e10a-86a96fd303e8"
      },
      "outputs": [
        {
          "data": {
            "text/html": [
              "<div>\n",
              "<style scoped>\n",
              "    .dataframe tbody tr th:only-of-type {\n",
              "        vertical-align: middle;\n",
              "    }\n",
              "\n",
              "    .dataframe tbody tr th {\n",
              "        vertical-align: top;\n",
              "    }\n",
              "\n",
              "    .dataframe thead th {\n",
              "        text-align: right;\n",
              "    }\n",
              "</style>\n",
              "<table border=\"1\" class=\"dataframe\">\n",
              "  <thead>\n",
              "    <tr style=\"text-align: right;\">\n",
              "      <th></th>\n",
              "      <th>text</th>\n",
              "      <th>label</th>\n",
              "    </tr>\n",
              "  </thead>\n",
              "  <tbody>\n",
              "    <tr>\n",
              "      <th>0</th>\n",
              "      <td>Inaasahan na ni Vice President Jejomar Binay n...</td>\n",
              "      <td>0</td>\n",
              "    </tr>\n",
              "    <tr>\n",
              "      <th>1</th>\n",
              "      <td>Mar Roxas TANG INA TUWID NA DAAN DAW .. EH SYA...</td>\n",
              "      <td>1</td>\n",
              "    </tr>\n",
              "    <tr>\n",
              "      <th>2</th>\n",
              "      <td>Salamat sa walang sawang suporta ng mga taga m...</td>\n",
              "      <td>0</td>\n",
              "    </tr>\n",
              "    <tr>\n",
              "      <th>3</th>\n",
              "      <td>@rapplerdotcom putangina mo binay TAKBO PA</td>\n",
              "      <td>1</td>\n",
              "    </tr>\n",
              "    <tr>\n",
              "      <th>4</th>\n",
              "      <td>Binay with selective amnesia, forgetting about...</td>\n",
              "      <td>0</td>\n",
              "    </tr>\n",
              "    <tr>\n",
              "      <th>...</th>\n",
              "      <td>...</td>\n",
              "      <td>...</td>\n",
              "    </tr>\n",
              "    <tr>\n",
              "      <th>24227</th>\n",
              "      <td>Walang katumbas na halaga ng pera ang BOTO at ...</td>\n",
              "      <td>0</td>\n",
              "    </tr>\n",
              "    <tr>\n",
              "      <th>24228</th>\n",
              "      <td>Mar Roxas says presidential race is now only b...</td>\n",
              "      <td>0</td>\n",
              "    </tr>\n",
              "    <tr>\n",
              "      <th>24229</th>\n",
              "      <td>Ms Miriam to withdraw presidency to give away ...</td>\n",
              "      <td>0</td>\n",
              "    </tr>\n",
              "    <tr>\n",
              "      <th>24230</th>\n",
              "      <td>@B_RA_Ve I feel legitimately sick. Apparently,...</td>\n",
              "      <td>0</td>\n",
              "    </tr>\n",
              "    <tr>\n",
              "      <th>24231</th>\n",
              "      <td>@TheJhonitor absolutely, but don't be so sure ...</td>\n",
              "      <td>0</td>\n",
              "    </tr>\n",
              "  </tbody>\n",
              "</table>\n",
              "<p>24232 rows × 2 columns</p>\n",
              "</div>"
            ],
            "text/plain": [
              "                                                    text  label\n",
              "0      Inaasahan na ni Vice President Jejomar Binay n...      0\n",
              "1      Mar Roxas TANG INA TUWID NA DAAN DAW .. EH SYA...      1\n",
              "2      Salamat sa walang sawang suporta ng mga taga m...      0\n",
              "3             @rapplerdotcom putangina mo binay TAKBO PA      1\n",
              "4      Binay with selective amnesia, forgetting about...      0\n",
              "...                                                  ...    ...\n",
              "24227  Walang katumbas na halaga ng pera ang BOTO at ...      0\n",
              "24228  Mar Roxas says presidential race is now only b...      0\n",
              "24229  Ms Miriam to withdraw presidency to give away ...      0\n",
              "24230  @B_RA_Ve I feel legitimately sick. Apparently,...      0\n",
              "24231  @TheJhonitor absolutely, but don't be so sure ...      0\n",
              "\n",
              "[24232 rows x 2 columns]"
            ]
          },
          "execution_count": 5,
          "metadata": {},
          "output_type": "execute_result"
        }
      ],
      "source": [
        "hate_speech_fil_df"
      ]
    },
    {
      "cell_type": "code",
      "execution_count": 6,
      "metadata": {
        "id": "97qK7jjAYFSv",
        "outputId": "ead1e2fe-fe66-4c59-ce57-f1bbcabf5f91"
      },
      "outputs": [
        {
          "name": "stdout",
          "output_type": "stream",
          "text": [
            "<class 'pandas.core.frame.DataFrame'>\n",
            "RangeIndex: 24232 entries, 0 to 24231\n",
            "Data columns (total 2 columns):\n",
            " #   Column  Non-Null Count  Dtype \n",
            "---  ------  --------------  ----- \n",
            " 0   text    24232 non-null  object\n",
            " 1   label   24232 non-null  int64 \n",
            "dtypes: int64(1), object(1)\n",
            "memory usage: 378.8+ KB\n"
          ]
        }
      ],
      "source": [
        "# Check the basic information of the data frame.\n",
        "hate_speech_fil_df.info()"
      ]
    },
    {
      "attachments": {},
      "cell_type": "markdown",
      "metadata": {
        "id": "weZlr19ZYFSv"
      },
      "source": [
        "### Clean the dataset."
      ]
    },
    {
      "cell_type": "code",
      "execution_count": 7,
      "metadata": {
        "id": "nTXxasqnYFSv",
        "outputId": "1e7fcb94-080b-46e7-d8b5-605a0e959d98"
      },
      "outputs": [
        {
          "data": {
            "text/plain": [
              "text     0\n",
              "label    0\n",
              "dtype: int64"
            ]
          },
          "execution_count": 7,
          "metadata": {},
          "output_type": "execute_result"
        }
      ],
      "source": [
        "# Check for null values.\n",
        "hate_speech_fil_df.isnull().sum()"
      ]
    },
    {
      "attachments": {},
      "cell_type": "markdown",
      "metadata": {
        "id": "v5CALYlDaJMV"
      },
      "source": [
        "It is important to remove the duplicate entries, since they might potentially skew the results/model later on."
      ]
    },
    {
      "cell_type": "code",
      "execution_count": 8,
      "metadata": {
        "id": "_172sgXXYFSv",
        "outputId": "c99bd366-44df-4a40-a287-2475b8e6e110"
      },
      "outputs": [
        {
          "data": {
            "text/plain": [
              "10356"
            ]
          },
          "execution_count": 8,
          "metadata": {},
          "output_type": "execute_result"
        }
      ],
      "source": [
        "# Check for duplicates.\n",
        "hate_speech_fil_df.duplicated().sum()"
      ]
    },
    {
      "cell_type": "code",
      "execution_count": 9,
      "metadata": {
        "id": "YrKFAKKjYFSw",
        "outputId": "58fa243e-19bc-4eba-f2fc-538ba8b45e84"
      },
      "outputs": [
        {
          "data": {
            "text/html": [
              "<div>\n",
              "<style scoped>\n",
              "    .dataframe tbody tr th:only-of-type {\n",
              "        vertical-align: middle;\n",
              "    }\n",
              "\n",
              "    .dataframe tbody tr th {\n",
              "        vertical-align: top;\n",
              "    }\n",
              "\n",
              "    .dataframe thead th {\n",
              "        text-align: right;\n",
              "    }\n",
              "</style>\n",
              "<table border=\"1\" class=\"dataframe\">\n",
              "  <thead>\n",
              "    <tr style=\"text-align: right;\">\n",
              "      <th></th>\n",
              "      <th>text</th>\n",
              "      <th>label</th>\n",
              "    </tr>\n",
              "  </thead>\n",
              "  <tbody>\n",
              "    <tr>\n",
              "      <th>452</th>\n",
              "      <td>#NogNogHambog</td>\n",
              "      <td>1</td>\n",
              "    </tr>\n",
              "    <tr>\n",
              "      <th>481</th>\n",
              "      <td>#OnlyBinayInMakatiSanKaPa</td>\n",
              "      <td>0</td>\n",
              "    </tr>\n",
              "    <tr>\n",
              "      <th>543</th>\n",
              "      <td>#OnlyBinayInMakatiSanKaPa</td>\n",
              "      <td>0</td>\n",
              "    </tr>\n",
              "    <tr>\n",
              "      <th>576</th>\n",
              "      <td>#OnlyBinayInMakatiSanKaPa</td>\n",
              "      <td>0</td>\n",
              "    </tr>\n",
              "    <tr>\n",
              "      <th>598</th>\n",
              "      <td>#OnlyBinayUNAsaIlocos</td>\n",
              "      <td>0</td>\n",
              "    </tr>\n",
              "    <tr>\n",
              "      <th>...</th>\n",
              "      <td>...</td>\n",
              "      <td>...</td>\n",
              "    </tr>\n",
              "    <tr>\n",
              "      <th>24013</th>\n",
              "      <td>#OnlyBinayUNAsaIlocos</td>\n",
              "      <td>0</td>\n",
              "    </tr>\n",
              "    <tr>\n",
              "      <th>24029</th>\n",
              "      <td>#onlybinay</td>\n",
              "      <td>0</td>\n",
              "    </tr>\n",
              "    <tr>\n",
              "      <th>24042</th>\n",
              "      <td>#PHvote</td>\n",
              "      <td>0</td>\n",
              "    </tr>\n",
              "    <tr>\n",
              "      <th>24158</th>\n",
              "      <td>#PiliPinasDebates2016</td>\n",
              "      <td>1</td>\n",
              "    </tr>\n",
              "    <tr>\n",
              "      <th>24209</th>\n",
              "      <td>#OnlyBinayNangabakIlocos</td>\n",
              "      <td>0</td>\n",
              "    </tr>\n",
              "  </tbody>\n",
              "</table>\n",
              "<p>10356 rows × 2 columns</p>\n",
              "</div>"
            ],
            "text/plain": [
              "                            text  label\n",
              "452                #NogNogHambog      1\n",
              "481    #OnlyBinayInMakatiSanKaPa      0\n",
              "543    #OnlyBinayInMakatiSanKaPa      0\n",
              "576    #OnlyBinayInMakatiSanKaPa      0\n",
              "598        #OnlyBinayUNAsaIlocos      0\n",
              "...                          ...    ...\n",
              "24013      #OnlyBinayUNAsaIlocos      0\n",
              "24029                 #onlybinay      0\n",
              "24042                    #PHvote      0\n",
              "24158      #PiliPinasDebates2016      1\n",
              "24209   #OnlyBinayNangabakIlocos      0\n",
              "\n",
              "[10356 rows x 2 columns]"
            ]
          },
          "execution_count": 9,
          "metadata": {},
          "output_type": "execute_result"
        }
      ],
      "source": [
        "# Show the duplicates.\n",
        "hate_speech_fil_df[hate_speech_fil_df.duplicated()]\n"
      ]
    },
    {
      "cell_type": "code",
      "execution_count": 10,
      "metadata": {
        "id": "cSXz1AjsYFSw"
      },
      "outputs": [],
      "source": [
        "# Drop the duplicates.\n",
        "hate_speech_fil_df.drop_duplicates(inplace=True)\n",
        "\n",
        "# Reset the index.\n",
        "hate_speech_fil_df.reset_index(drop=True, inplace=True)"
      ]
    },
    {
      "cell_type": "code",
      "execution_count": 11,
      "metadata": {
        "id": "23wsd7ZCYFSw",
        "outputId": "78f160e1-e73f-4140-81fa-ae5934168eb7"
      },
      "outputs": [
        {
          "data": {
            "text/plain": [
              "0"
            ]
          },
          "execution_count": 11,
          "metadata": {},
          "output_type": "execute_result"
        }
      ],
      "source": [
        "# Verify that there are no duplicates.\n",
        "hate_speech_fil_df.duplicated().sum()"
      ]
    },
    {
      "cell_type": "code",
      "execution_count": 12,
      "metadata": {
        "id": "Sf9sfLowYFSw",
        "outputId": "27fcf782-eb01-42d1-c90f-3b53c663583c"
      },
      "outputs": [
        {
          "data": {
            "text/html": [
              "<div>\n",
              "<style scoped>\n",
              "    .dataframe tbody tr th:only-of-type {\n",
              "        vertical-align: middle;\n",
              "    }\n",
              "\n",
              "    .dataframe tbody tr th {\n",
              "        vertical-align: top;\n",
              "    }\n",
              "\n",
              "    .dataframe thead th {\n",
              "        text-align: right;\n",
              "    }\n",
              "</style>\n",
              "<table border=\"1\" class=\"dataframe\">\n",
              "  <thead>\n",
              "    <tr style=\"text-align: right;\">\n",
              "      <th></th>\n",
              "      <th>text</th>\n",
              "      <th>label</th>\n",
              "    </tr>\n",
              "  </thead>\n",
              "  <tbody>\n",
              "    <tr>\n",
              "      <th>0</th>\n",
              "      <td>Inaasahan na ni Vice President Jejomar Binay n...</td>\n",
              "      <td>0</td>\n",
              "    </tr>\n",
              "    <tr>\n",
              "      <th>1</th>\n",
              "      <td>Mar Roxas TANG INA TUWID NA DAAN DAW .. EH SYA...</td>\n",
              "      <td>1</td>\n",
              "    </tr>\n",
              "    <tr>\n",
              "      <th>2</th>\n",
              "      <td>Salamat sa walang sawang suporta ng mga taga m...</td>\n",
              "      <td>0</td>\n",
              "    </tr>\n",
              "    <tr>\n",
              "      <th>3</th>\n",
              "      <td>@rapplerdotcom putangina mo binay TAKBO PA</td>\n",
              "      <td>1</td>\n",
              "    </tr>\n",
              "    <tr>\n",
              "      <th>4</th>\n",
              "      <td>Binay with selective amnesia, forgetting about...</td>\n",
              "      <td>0</td>\n",
              "    </tr>\n",
              "    <tr>\n",
              "      <th>...</th>\n",
              "      <td>...</td>\n",
              "      <td>...</td>\n",
              "    </tr>\n",
              "    <tr>\n",
              "      <th>13871</th>\n",
              "      <td>Walang katumbas na halaga ng pera ang BOTO at ...</td>\n",
              "      <td>0</td>\n",
              "    </tr>\n",
              "    <tr>\n",
              "      <th>13872</th>\n",
              "      <td>Mar Roxas says presidential race is now only b...</td>\n",
              "      <td>0</td>\n",
              "    </tr>\n",
              "    <tr>\n",
              "      <th>13873</th>\n",
              "      <td>Ms Miriam to withdraw presidency to give away ...</td>\n",
              "      <td>0</td>\n",
              "    </tr>\n",
              "    <tr>\n",
              "      <th>13874</th>\n",
              "      <td>@B_RA_Ve I feel legitimately sick. Apparently,...</td>\n",
              "      <td>0</td>\n",
              "    </tr>\n",
              "    <tr>\n",
              "      <th>13875</th>\n",
              "      <td>@TheJhonitor absolutely, but don't be so sure ...</td>\n",
              "      <td>0</td>\n",
              "    </tr>\n",
              "  </tbody>\n",
              "</table>\n",
              "<p>13876 rows × 2 columns</p>\n",
              "</div>"
            ],
            "text/plain": [
              "                                                    text  label\n",
              "0      Inaasahan na ni Vice President Jejomar Binay n...      0\n",
              "1      Mar Roxas TANG INA TUWID NA DAAN DAW .. EH SYA...      1\n",
              "2      Salamat sa walang sawang suporta ng mga taga m...      0\n",
              "3             @rapplerdotcom putangina mo binay TAKBO PA      1\n",
              "4      Binay with selective amnesia, forgetting about...      0\n",
              "...                                                  ...    ...\n",
              "13871  Walang katumbas na halaga ng pera ang BOTO at ...      0\n",
              "13872  Mar Roxas says presidential race is now only b...      0\n",
              "13873  Ms Miriam to withdraw presidency to give away ...      0\n",
              "13874  @B_RA_Ve I feel legitimately sick. Apparently,...      0\n",
              "13875  @TheJhonitor absolutely, but don't be so sure ...      0\n",
              "\n",
              "[13876 rows x 2 columns]"
            ]
          },
          "execution_count": 12,
          "metadata": {},
          "output_type": "execute_result"
        }
      ],
      "source": [
        "hate_speech_fil_df"
      ]
    },
    {
      "attachments": {},
      "cell_type": "markdown",
      "metadata": {
        "id": "kOXwkMKYYFSw"
      },
      "source": [
        "## 1.2 | Toxic Tweets Dataset (source 2)."
      ]
    },
    {
      "attachments": {},
      "cell_type": "markdown",
      "metadata": {
        "id": "yo7choHuYFSw"
      },
      "source": [
        "### Load the dataset."
      ]
    },
    {
      "cell_type": "code",
      "execution_count": 13,
      "metadata": {
        "id": "CjO5QcbDYFSx"
      },
      "outputs": [],
      "source": [
        "# Toxic Tweets Dataset\n",
        "# A balanced dataset of tweets containing hate speech and offensive language.\n",
        "#\n",
        "# Load the dataset from the local csv file.\n",
        "# Dataset is from Kaggle (ref: https://www.kaggle.com/datasets/ashwiniyer176/toxic-tweets-dataset)\n",
        "#\n",
        "# Dataset Columns\n",
        "# - tweet (String) : The input text (i.e., tweet).\n",
        "# - Toxicity (int) : Label indicating whether a tweet is toxic(1) or not(0).\n",
        "\n",
        "local_sub_path = 'datasets/Toxic Tweets/'\n",
        "\n",
        "raw_toxic_tweets_df = pd.read_csv(local_sub_path + 'FinalBalancedDataset.csv')"
      ]
    },
    {
      "attachments": {},
      "cell_type": "markdown",
      "metadata": {
        "id": "_JjsnNWnYFSx"
      },
      "source": [
        "### Inspect the dataset."
      ]
    },
    {
      "cell_type": "code",
      "execution_count": 14,
      "metadata": {
        "id": "R3ePDSVNYFSx",
        "outputId": "8fc67c14-67ae-4253-9ff3-a9bd0126300f"
      },
      "outputs": [
        {
          "data": {
            "text/html": [
              "<div>\n",
              "<style scoped>\n",
              "    .dataframe tbody tr th:only-of-type {\n",
              "        vertical-align: middle;\n",
              "    }\n",
              "\n",
              "    .dataframe tbody tr th {\n",
              "        vertical-align: top;\n",
              "    }\n",
              "\n",
              "    .dataframe thead th {\n",
              "        text-align: right;\n",
              "    }\n",
              "</style>\n",
              "<table border=\"1\" class=\"dataframe\">\n",
              "  <thead>\n",
              "    <tr style=\"text-align: right;\">\n",
              "      <th></th>\n",
              "      <th>Unnamed: 0</th>\n",
              "      <th>Toxicity</th>\n",
              "      <th>tweet</th>\n",
              "    </tr>\n",
              "  </thead>\n",
              "  <tbody>\n",
              "    <tr>\n",
              "      <th>0</th>\n",
              "      <td>0</td>\n",
              "      <td>0</td>\n",
              "      <td>@user when a father is dysfunctional and is s...</td>\n",
              "    </tr>\n",
              "    <tr>\n",
              "      <th>1</th>\n",
              "      <td>1</td>\n",
              "      <td>0</td>\n",
              "      <td>@user @user thanks for #lyft credit i can't us...</td>\n",
              "    </tr>\n",
              "    <tr>\n",
              "      <th>2</th>\n",
              "      <td>2</td>\n",
              "      <td>0</td>\n",
              "      <td>bihday your majesty</td>\n",
              "    </tr>\n",
              "    <tr>\n",
              "      <th>3</th>\n",
              "      <td>3</td>\n",
              "      <td>0</td>\n",
              "      <td>#model   i love u take with u all the time in ...</td>\n",
              "    </tr>\n",
              "    <tr>\n",
              "      <th>4</th>\n",
              "      <td>4</td>\n",
              "      <td>0</td>\n",
              "      <td>factsguide: society now    #motivation</td>\n",
              "    </tr>\n",
              "    <tr>\n",
              "      <th>...</th>\n",
              "      <td>...</td>\n",
              "      <td>...</td>\n",
              "      <td>...</td>\n",
              "    </tr>\n",
              "    <tr>\n",
              "      <th>56740</th>\n",
              "      <td>56740</td>\n",
              "      <td>1</td>\n",
              "      <td>you's a muthaf***in lie &amp;#8220;@LifeAsKing: @2...</td>\n",
              "    </tr>\n",
              "    <tr>\n",
              "      <th>56741</th>\n",
              "      <td>56741</td>\n",
              "      <td>1</td>\n",
              "      <td>you've gone and broke the wrong heart baby, an...</td>\n",
              "    </tr>\n",
              "    <tr>\n",
              "      <th>56742</th>\n",
              "      <td>56742</td>\n",
              "      <td>1</td>\n",
              "      <td>young buck wanna eat!!.. dat nigguh like I ain...</td>\n",
              "    </tr>\n",
              "    <tr>\n",
              "      <th>56743</th>\n",
              "      <td>56743</td>\n",
              "      <td>1</td>\n",
              "      <td>youu got wild bitches tellin you lies</td>\n",
              "    </tr>\n",
              "    <tr>\n",
              "      <th>56744</th>\n",
              "      <td>56744</td>\n",
              "      <td>0</td>\n",
              "      <td>~~Ruffled | Ntac Eileen Dahlia - Beautiful col...</td>\n",
              "    </tr>\n",
              "  </tbody>\n",
              "</table>\n",
              "<p>56745 rows × 3 columns</p>\n",
              "</div>"
            ],
            "text/plain": [
              "       Unnamed: 0  Toxicity                                              tweet\n",
              "0               0         0   @user when a father is dysfunctional and is s...\n",
              "1               1         0  @user @user thanks for #lyft credit i can't us...\n",
              "2               2         0                                bihday your majesty\n",
              "3               3         0  #model   i love u take with u all the time in ...\n",
              "4               4         0             factsguide: society now    #motivation\n",
              "...           ...       ...                                                ...\n",
              "56740       56740         1  you's a muthaf***in lie &#8220;@LifeAsKing: @2...\n",
              "56741       56741         1  you've gone and broke the wrong heart baby, an...\n",
              "56742       56742         1  young buck wanna eat!!.. dat nigguh like I ain...\n",
              "56743       56743         1              youu got wild bitches tellin you lies\n",
              "56744       56744         0  ~~Ruffled | Ntac Eileen Dahlia - Beautiful col...\n",
              "\n",
              "[56745 rows x 3 columns]"
            ]
          },
          "execution_count": 14,
          "metadata": {},
          "output_type": "execute_result"
        }
      ],
      "source": [
        "raw_toxic_tweets_df"
      ]
    },
    {
      "cell_type": "code",
      "execution_count": 15,
      "metadata": {
        "id": "NWdYtRrVYFSx",
        "outputId": "41943c20-3f26-49f8-966f-78f2152047ce"
      },
      "outputs": [
        {
          "name": "stdout",
          "output_type": "stream",
          "text": [
            "<class 'pandas.core.frame.DataFrame'>\n",
            "RangeIndex: 56745 entries, 0 to 56744\n",
            "Data columns (total 3 columns):\n",
            " #   Column      Non-Null Count  Dtype \n",
            "---  ------      --------------  ----- \n",
            " 0   Unnamed: 0  56745 non-null  int64 \n",
            " 1   Toxicity    56745 non-null  int64 \n",
            " 2   tweet       56745 non-null  object\n",
            "dtypes: int64(2), object(1)\n",
            "memory usage: 1.3+ MB\n"
          ]
        }
      ],
      "source": [
        "# Check the basic information of the data frame.\n",
        "raw_toxic_tweets_df.info()"
      ]
    },
    {
      "attachments": {},
      "cell_type": "markdown",
      "metadata": {
        "id": "xmt6kkJQYFSx"
      },
      "source": [
        "### Clean the dataset."
      ]
    },
    {
      "cell_type": "code",
      "execution_count": 16,
      "metadata": {
        "id": "sePvxHANYFSx",
        "outputId": "7404a123-5afe-4931-a1a5-4fc8980d8345"
      },
      "outputs": [
        {
          "data": {
            "text/plain": [
              "Unnamed: 0    0\n",
              "Toxicity      0\n",
              "tweet         0\n",
              "dtype: int64"
            ]
          },
          "execution_count": 16,
          "metadata": {},
          "output_type": "execute_result"
        }
      ],
      "source": [
        "# Check for null values.\n",
        "raw_toxic_tweets_df.isnull().sum()"
      ]
    },
    {
      "cell_type": "code",
      "execution_count": 17,
      "metadata": {
        "id": "PjQ_lnEhYFSx",
        "outputId": "1b83cd68-32a8-4455-e383-fe9058105416"
      },
      "outputs": [
        {
          "data": {
            "text/plain": [
              "0"
            ]
          },
          "execution_count": 17,
          "metadata": {},
          "output_type": "execute_result"
        }
      ],
      "source": [
        "# Check for duplicates.\n",
        "raw_toxic_tweets_df.duplicated().sum()"
      ]
    },
    {
      "attachments": {},
      "cell_type": "markdown",
      "metadata": {
        "id": "D__XNEEWYFSx"
      },
      "source": [
        "### Restructure the data frame."
      ]
    },
    {
      "cell_type": "code",
      "execution_count": 18,
      "metadata": {
        "id": "eSPRN1RRYFSx",
        "outputId": "20c64ab9-2d4d-4ab8-aecf-5166f9391201"
      },
      "outputs": [
        {
          "data": {
            "text/html": [
              "<div>\n",
              "<style scoped>\n",
              "    .dataframe tbody tr th:only-of-type {\n",
              "        vertical-align: middle;\n",
              "    }\n",
              "\n",
              "    .dataframe tbody tr th {\n",
              "        vertical-align: top;\n",
              "    }\n",
              "\n",
              "    .dataframe thead th {\n",
              "        text-align: right;\n",
              "    }\n",
              "</style>\n",
              "<table border=\"1\" class=\"dataframe\">\n",
              "  <thead>\n",
              "    <tr style=\"text-align: right;\">\n",
              "      <th></th>\n",
              "      <th>text</th>\n",
              "      <th>label</th>\n",
              "    </tr>\n",
              "  </thead>\n",
              "  <tbody>\n",
              "    <tr>\n",
              "      <th>0</th>\n",
              "      <td>@user when a father is dysfunctional and is s...</td>\n",
              "      <td>0</td>\n",
              "    </tr>\n",
              "    <tr>\n",
              "      <th>1</th>\n",
              "      <td>@user @user thanks for #lyft credit i can't us...</td>\n",
              "      <td>0</td>\n",
              "    </tr>\n",
              "    <tr>\n",
              "      <th>2</th>\n",
              "      <td>bihday your majesty</td>\n",
              "      <td>0</td>\n",
              "    </tr>\n",
              "    <tr>\n",
              "      <th>3</th>\n",
              "      <td>#model   i love u take with u all the time in ...</td>\n",
              "      <td>0</td>\n",
              "    </tr>\n",
              "    <tr>\n",
              "      <th>4</th>\n",
              "      <td>factsguide: society now    #motivation</td>\n",
              "      <td>0</td>\n",
              "    </tr>\n",
              "    <tr>\n",
              "      <th>...</th>\n",
              "      <td>...</td>\n",
              "      <td>...</td>\n",
              "    </tr>\n",
              "    <tr>\n",
              "      <th>56740</th>\n",
              "      <td>you's a muthaf***in lie &amp;#8220;@LifeAsKing: @2...</td>\n",
              "      <td>1</td>\n",
              "    </tr>\n",
              "    <tr>\n",
              "      <th>56741</th>\n",
              "      <td>you've gone and broke the wrong heart baby, an...</td>\n",
              "      <td>1</td>\n",
              "    </tr>\n",
              "    <tr>\n",
              "      <th>56742</th>\n",
              "      <td>young buck wanna eat!!.. dat nigguh like I ain...</td>\n",
              "      <td>1</td>\n",
              "    </tr>\n",
              "    <tr>\n",
              "      <th>56743</th>\n",
              "      <td>youu got wild bitches tellin you lies</td>\n",
              "      <td>1</td>\n",
              "    </tr>\n",
              "    <tr>\n",
              "      <th>56744</th>\n",
              "      <td>~~Ruffled | Ntac Eileen Dahlia - Beautiful col...</td>\n",
              "      <td>0</td>\n",
              "    </tr>\n",
              "  </tbody>\n",
              "</table>\n",
              "<p>56745 rows × 2 columns</p>\n",
              "</div>"
            ],
            "text/plain": [
              "                                                    text  label\n",
              "0       @user when a father is dysfunctional and is s...      0\n",
              "1      @user @user thanks for #lyft credit i can't us...      0\n",
              "2                                    bihday your majesty      0\n",
              "3      #model   i love u take with u all the time in ...      0\n",
              "4                 factsguide: society now    #motivation      0\n",
              "...                                                  ...    ...\n",
              "56740  you's a muthaf***in lie &#8220;@LifeAsKing: @2...      1\n",
              "56741  you've gone and broke the wrong heart baby, an...      1\n",
              "56742  young buck wanna eat!!.. dat nigguh like I ain...      1\n",
              "56743              youu got wild bitches tellin you lies      1\n",
              "56744  ~~Ruffled | Ntac Eileen Dahlia - Beautiful col...      0\n",
              "\n",
              "[56745 rows x 2 columns]"
            ]
          },
          "execution_count": 18,
          "metadata": {},
          "output_type": "execute_result"
        }
      ],
      "source": [
        "# The data frame should have only a text and label features.\n",
        "\n",
        "toxic_tweets_df = raw_toxic_tweets_df.copy()\n",
        "toxic_tweets_df.rename(columns={'tweet': 'text', 'Toxicity': 'label'}, inplace=True)\n",
        "toxic_tweets_df = toxic_tweets_df[['text', 'label']]\n",
        "\n",
        "toxic_tweets_df"
      ]
    },
    {
      "attachments": {},
      "cell_type": "markdown",
      "metadata": {
        "id": "5MhyZABhYFSy"
      },
      "source": [
        "### Clean the dataset again."
      ]
    },
    {
      "cell_type": "code",
      "execution_count": 19,
      "metadata": {
        "id": "YtqXOxZJYFSy",
        "outputId": "55f9a373-a8a2-403b-b4bf-64186c927c8c"
      },
      "outputs": [
        {
          "data": {
            "text/plain": [
              "2432"
            ]
          },
          "execution_count": 19,
          "metadata": {},
          "output_type": "execute_result"
        }
      ],
      "source": [
        "# Check for duplicates.\n",
        "toxic_tweets_df.duplicated().sum()"
      ]
    },
    {
      "cell_type": "code",
      "execution_count": 20,
      "metadata": {
        "id": "3MqkOaGrYFSy",
        "outputId": "8a8cffc0-9b15-4acc-8424-ebc37e4dce72"
      },
      "outputs": [
        {
          "data": {
            "text/html": [
              "<div>\n",
              "<style scoped>\n",
              "    .dataframe tbody tr th:only-of-type {\n",
              "        vertical-align: middle;\n",
              "    }\n",
              "\n",
              "    .dataframe tbody tr th {\n",
              "        vertical-align: top;\n",
              "    }\n",
              "\n",
              "    .dataframe thead th {\n",
              "        text-align: right;\n",
              "    }\n",
              "</style>\n",
              "<table border=\"1\" class=\"dataframe\">\n",
              "  <thead>\n",
              "    <tr style=\"text-align: right;\">\n",
              "      <th></th>\n",
              "      <th>text</th>\n",
              "      <th>label</th>\n",
              "    </tr>\n",
              "  </thead>\n",
              "  <tbody>\n",
              "    <tr>\n",
              "      <th>46</th>\n",
              "      <td>#model   i love u take with u all the time in ...</td>\n",
              "      <td>0</td>\n",
              "    </tr>\n",
              "    <tr>\n",
              "      <th>96</th>\n",
              "      <td>#model   i love u take with u all the time in ...</td>\n",
              "      <td>0</td>\n",
              "    </tr>\n",
              "    <tr>\n",
              "      <th>117</th>\n",
              "      <td>#model   i love u take with u all the time in ...</td>\n",
              "      <td>0</td>\n",
              "    </tr>\n",
              "    <tr>\n",
              "      <th>162</th>\n",
              "      <td>#model   i love u take with u all the time in ...</td>\n",
              "      <td>0</td>\n",
              "    </tr>\n",
              "    <tr>\n",
              "      <th>218</th>\n",
              "      <td>#model   i love u take with u all the time in ...</td>\n",
              "      <td>0</td>\n",
              "    </tr>\n",
              "    <tr>\n",
              "      <th>...</th>\n",
              "      <td>...</td>\n",
              "      <td>...</td>\n",
              "    </tr>\n",
              "    <tr>\n",
              "      <th>31886</th>\n",
              "      <td>100 amazing health benefits of cucumbers!    #...</td>\n",
              "      <td>0</td>\n",
              "    </tr>\n",
              "    <tr>\n",
              "      <th>31904</th>\n",
              "      <td>#model   i love u take with u all the time in ...</td>\n",
              "      <td>0</td>\n",
              "    </tr>\n",
              "    <tr>\n",
              "      <th>31930</th>\n",
              "      <td>@user #feminismiscancer #feminismisterrorism #...</td>\n",
              "      <td>1</td>\n",
              "    </tr>\n",
              "    <tr>\n",
              "      <th>31951</th>\n",
              "      <td>i've just posted a new blog: #secondlife #lone...</td>\n",
              "      <td>0</td>\n",
              "    </tr>\n",
              "    <tr>\n",
              "      <th>31960</th>\n",
              "      <td>@user #sikh #temple vandalised in in #calgary,...</td>\n",
              "      <td>1</td>\n",
              "    </tr>\n",
              "  </tbody>\n",
              "</table>\n",
              "<p>2432 rows × 2 columns</p>\n",
              "</div>"
            ],
            "text/plain": [
              "                                                    text  label\n",
              "46     #model   i love u take with u all the time in ...      0\n",
              "96     #model   i love u take with u all the time in ...      0\n",
              "117    #model   i love u take with u all the time in ...      0\n",
              "162    #model   i love u take with u all the time in ...      0\n",
              "218    #model   i love u take with u all the time in ...      0\n",
              "...                                                  ...    ...\n",
              "31886  100 amazing health benefits of cucumbers!    #...      0\n",
              "31904  #model   i love u take with u all the time in ...      0\n",
              "31930  @user #feminismiscancer #feminismisterrorism #...      1\n",
              "31951  i've just posted a new blog: #secondlife #lone...      0\n",
              "31960  @user #sikh #temple vandalised in in #calgary,...      1\n",
              "\n",
              "[2432 rows x 2 columns]"
            ]
          },
          "execution_count": 20,
          "metadata": {},
          "output_type": "execute_result"
        }
      ],
      "source": [
        "# Show the duplicates.\n",
        "toxic_tweets_df[toxic_tweets_df.duplicated()]"
      ]
    },
    {
      "cell_type": "code",
      "execution_count": 21,
      "metadata": {
        "id": "-jr5qVa9YFSy",
        "outputId": "11b7e5c0-c584-44f0-8047-77c5a1285edb"
      },
      "outputs": [
        {
          "data": {
            "text/html": [
              "<div>\n",
              "<style scoped>\n",
              "    .dataframe tbody tr th:only-of-type {\n",
              "        vertical-align: middle;\n",
              "    }\n",
              "\n",
              "    .dataframe tbody tr th {\n",
              "        vertical-align: top;\n",
              "    }\n",
              "\n",
              "    .dataframe thead th {\n",
              "        text-align: right;\n",
              "    }\n",
              "</style>\n",
              "<table border=\"1\" class=\"dataframe\">\n",
              "  <thead>\n",
              "    <tr style=\"text-align: right;\">\n",
              "      <th></th>\n",
              "      <th>text</th>\n",
              "      <th>label</th>\n",
              "    </tr>\n",
              "  </thead>\n",
              "  <tbody>\n",
              "    <tr>\n",
              "      <th>0</th>\n",
              "      <td>@user when a father is dysfunctional and is s...</td>\n",
              "      <td>0</td>\n",
              "    </tr>\n",
              "    <tr>\n",
              "      <th>1</th>\n",
              "      <td>@user @user thanks for #lyft credit i can't us...</td>\n",
              "      <td>0</td>\n",
              "    </tr>\n",
              "    <tr>\n",
              "      <th>2</th>\n",
              "      <td>bihday your majesty</td>\n",
              "      <td>0</td>\n",
              "    </tr>\n",
              "    <tr>\n",
              "      <th>3</th>\n",
              "      <td>#model   i love u take with u all the time in ...</td>\n",
              "      <td>0</td>\n",
              "    </tr>\n",
              "    <tr>\n",
              "      <th>4</th>\n",
              "      <td>factsguide: society now    #motivation</td>\n",
              "      <td>0</td>\n",
              "    </tr>\n",
              "    <tr>\n",
              "      <th>...</th>\n",
              "      <td>...</td>\n",
              "      <td>...</td>\n",
              "    </tr>\n",
              "    <tr>\n",
              "      <th>54308</th>\n",
              "      <td>you's a muthaf***in lie &amp;#8220;@LifeAsKing: @2...</td>\n",
              "      <td>1</td>\n",
              "    </tr>\n",
              "    <tr>\n",
              "      <th>54309</th>\n",
              "      <td>you've gone and broke the wrong heart baby, an...</td>\n",
              "      <td>1</td>\n",
              "    </tr>\n",
              "    <tr>\n",
              "      <th>54310</th>\n",
              "      <td>young buck wanna eat!!.. dat nigguh like I ain...</td>\n",
              "      <td>1</td>\n",
              "    </tr>\n",
              "    <tr>\n",
              "      <th>54311</th>\n",
              "      <td>youu got wild bitches tellin you lies</td>\n",
              "      <td>1</td>\n",
              "    </tr>\n",
              "    <tr>\n",
              "      <th>54312</th>\n",
              "      <td>~~Ruffled | Ntac Eileen Dahlia - Beautiful col...</td>\n",
              "      <td>0</td>\n",
              "    </tr>\n",
              "  </tbody>\n",
              "</table>\n",
              "<p>54313 rows × 2 columns</p>\n",
              "</div>"
            ],
            "text/plain": [
              "                                                    text  label\n",
              "0       @user when a father is dysfunctional and is s...      0\n",
              "1      @user @user thanks for #lyft credit i can't us...      0\n",
              "2                                    bihday your majesty      0\n",
              "3      #model   i love u take with u all the time in ...      0\n",
              "4                 factsguide: society now    #motivation      0\n",
              "...                                                  ...    ...\n",
              "54308  you's a muthaf***in lie &#8220;@LifeAsKing: @2...      1\n",
              "54309  you've gone and broke the wrong heart baby, an...      1\n",
              "54310  young buck wanna eat!!.. dat nigguh like I ain...      1\n",
              "54311              youu got wild bitches tellin you lies      1\n",
              "54312  ~~Ruffled | Ntac Eileen Dahlia - Beautiful col...      0\n",
              "\n",
              "[54313 rows x 2 columns]"
            ]
          },
          "execution_count": 21,
          "metadata": {},
          "output_type": "execute_result"
        }
      ],
      "source": [
        "# Drop the duplicates.\n",
        "toxic_tweets_df.drop_duplicates(inplace=True)\n",
        "\n",
        "# Reset the index.\n",
        "toxic_tweets_df.reset_index(drop=True, inplace=True)\n",
        "\n",
        "toxic_tweets_df"
      ]
    },
    {
      "cell_type": "code",
      "execution_count": 22,
      "metadata": {
        "id": "YJbJyDP1YFSy",
        "outputId": "8f0a64f4-080a-4ce6-ca18-5baf0a255b9a"
      },
      "outputs": [
        {
          "data": {
            "text/plain": [
              "0"
            ]
          },
          "execution_count": 22,
          "metadata": {},
          "output_type": "execute_result"
        }
      ],
      "source": [
        "# Verify that there are no duplicates.\n",
        "toxic_tweets_df.duplicated().sum()"
      ]
    },
    {
      "attachments": {},
      "cell_type": "markdown",
      "metadata": {
        "id": "LGvkwbmWYFSy"
      },
      "source": [
        "## 1.3 | Hate Speech and Offensive Language Dataset (source 3)"
      ]
    },
    {
      "attachments": {},
      "cell_type": "markdown",
      "metadata": {
        "id": "8-mag_8BYFSy"
      },
      "source": [
        "### Load the dataset."
      ]
    },
    {
      "cell_type": "code",
      "execution_count": 23,
      "metadata": {
        "id": "EuNuhx-WYFSy"
      },
      "outputs": [],
      "source": [
        "# Dataset using Twitter data. The text is classified as: hate-speech, offensive language, and neither.\n",
        "# This dataset contains text that can be considered racist, sexist, homophobic, or generally offensive.\n",
        "#\n",
        "# Load the dataset from the local csv file.\n",
        "# Dataset is from Kaggle (ref: https://www.kaggle.com/datasets/mrmorj/hate-speech-and-offensive-language-dataset)\n",
        "# \n",
        "# Dataset Columns\n",
        "# - counts (int) : Number of CrowdFlower users who coded each tweet (min is 3, sometimes more users coded a tweet when judgments were determined to be unreliable by CF).\n",
        "# - hate_speeches (int) : Number of CF users who judged the tweet to be hate speech.\n",
        "# - offensive_languages (int) : Number of CF users who judged the tweet to be offensive.\n",
        "# - neither (int) : Number of CF users who judged the tweet to be neither offensive nor non-offensive.\n",
        "# - class (int) : Class label for majority of CF users. 0 - hate speech 1 - offensive language 2 - neither.\n",
        "# - tweet (String) : Text tweet.\n",
        "#\n",
        "# Note: For simplicity sake, we will be only using the 'tweet' and 'class' columns. They are more than enough for this context.\n",
        "\n",
        "local_sub_path = 'datasets/Hate Speech and Offensive Language/'\n",
        "\n",
        "raw_hs_and_offensive_lang_df = pd.read_csv(local_sub_path + 'labeled_data.csv')"
      ]
    },
    {
      "attachments": {},
      "cell_type": "markdown",
      "metadata": {
        "id": "YFCwVrIBYFSy"
      },
      "source": [
        "### Inspect the dataset."
      ]
    },
    {
      "cell_type": "code",
      "execution_count": 24,
      "metadata": {
        "id": "wLeb3GhSYFSy",
        "outputId": "d45e8204-cb91-480c-9e94-705671d635c0"
      },
      "outputs": [
        {
          "data": {
            "text/html": [
              "<div>\n",
              "<style scoped>\n",
              "    .dataframe tbody tr th:only-of-type {\n",
              "        vertical-align: middle;\n",
              "    }\n",
              "\n",
              "    .dataframe tbody tr th {\n",
              "        vertical-align: top;\n",
              "    }\n",
              "\n",
              "    .dataframe thead th {\n",
              "        text-align: right;\n",
              "    }\n",
              "</style>\n",
              "<table border=\"1\" class=\"dataframe\">\n",
              "  <thead>\n",
              "    <tr style=\"text-align: right;\">\n",
              "      <th></th>\n",
              "      <th>Unnamed: 0</th>\n",
              "      <th>count</th>\n",
              "      <th>hate_speech</th>\n",
              "      <th>offensive_language</th>\n",
              "      <th>neither</th>\n",
              "      <th>class</th>\n",
              "      <th>tweet</th>\n",
              "    </tr>\n",
              "  </thead>\n",
              "  <tbody>\n",
              "    <tr>\n",
              "      <th>0</th>\n",
              "      <td>0</td>\n",
              "      <td>3</td>\n",
              "      <td>0</td>\n",
              "      <td>0</td>\n",
              "      <td>3</td>\n",
              "      <td>2</td>\n",
              "      <td>!!! RT @mayasolovely: As a woman you shouldn't...</td>\n",
              "    </tr>\n",
              "    <tr>\n",
              "      <th>1</th>\n",
              "      <td>1</td>\n",
              "      <td>3</td>\n",
              "      <td>0</td>\n",
              "      <td>3</td>\n",
              "      <td>0</td>\n",
              "      <td>1</td>\n",
              "      <td>!!!!! RT @mleew17: boy dats cold...tyga dwn ba...</td>\n",
              "    </tr>\n",
              "    <tr>\n",
              "      <th>2</th>\n",
              "      <td>2</td>\n",
              "      <td>3</td>\n",
              "      <td>0</td>\n",
              "      <td>3</td>\n",
              "      <td>0</td>\n",
              "      <td>1</td>\n",
              "      <td>!!!!!!! RT @UrKindOfBrand Dawg!!!! RT @80sbaby...</td>\n",
              "    </tr>\n",
              "    <tr>\n",
              "      <th>3</th>\n",
              "      <td>3</td>\n",
              "      <td>3</td>\n",
              "      <td>0</td>\n",
              "      <td>2</td>\n",
              "      <td>1</td>\n",
              "      <td>1</td>\n",
              "      <td>!!!!!!!!! RT @C_G_Anderson: @viva_based she lo...</td>\n",
              "    </tr>\n",
              "    <tr>\n",
              "      <th>4</th>\n",
              "      <td>4</td>\n",
              "      <td>6</td>\n",
              "      <td>0</td>\n",
              "      <td>6</td>\n",
              "      <td>0</td>\n",
              "      <td>1</td>\n",
              "      <td>!!!!!!!!!!!!! RT @ShenikaRoberts: The shit you...</td>\n",
              "    </tr>\n",
              "    <tr>\n",
              "      <th>...</th>\n",
              "      <td>...</td>\n",
              "      <td>...</td>\n",
              "      <td>...</td>\n",
              "      <td>...</td>\n",
              "      <td>...</td>\n",
              "      <td>...</td>\n",
              "      <td>...</td>\n",
              "    </tr>\n",
              "    <tr>\n",
              "      <th>24778</th>\n",
              "      <td>25291</td>\n",
              "      <td>3</td>\n",
              "      <td>0</td>\n",
              "      <td>2</td>\n",
              "      <td>1</td>\n",
              "      <td>1</td>\n",
              "      <td>you's a muthaf***in lie &amp;#8220;@LifeAsKing: @2...</td>\n",
              "    </tr>\n",
              "    <tr>\n",
              "      <th>24779</th>\n",
              "      <td>25292</td>\n",
              "      <td>3</td>\n",
              "      <td>0</td>\n",
              "      <td>1</td>\n",
              "      <td>2</td>\n",
              "      <td>2</td>\n",
              "      <td>you've gone and broke the wrong heart baby, an...</td>\n",
              "    </tr>\n",
              "    <tr>\n",
              "      <th>24780</th>\n",
              "      <td>25294</td>\n",
              "      <td>3</td>\n",
              "      <td>0</td>\n",
              "      <td>3</td>\n",
              "      <td>0</td>\n",
              "      <td>1</td>\n",
              "      <td>young buck wanna eat!!.. dat nigguh like I ain...</td>\n",
              "    </tr>\n",
              "    <tr>\n",
              "      <th>24781</th>\n",
              "      <td>25295</td>\n",
              "      <td>6</td>\n",
              "      <td>0</td>\n",
              "      <td>6</td>\n",
              "      <td>0</td>\n",
              "      <td>1</td>\n",
              "      <td>youu got wild bitches tellin you lies</td>\n",
              "    </tr>\n",
              "    <tr>\n",
              "      <th>24782</th>\n",
              "      <td>25296</td>\n",
              "      <td>3</td>\n",
              "      <td>0</td>\n",
              "      <td>0</td>\n",
              "      <td>3</td>\n",
              "      <td>2</td>\n",
              "      <td>~~Ruffled | Ntac Eileen Dahlia - Beautiful col...</td>\n",
              "    </tr>\n",
              "  </tbody>\n",
              "</table>\n",
              "<p>24783 rows × 7 columns</p>\n",
              "</div>"
            ],
            "text/plain": [
              "       Unnamed: 0  count  hate_speech  offensive_language  neither  class  \\\n",
              "0               0      3            0                   0        3      2   \n",
              "1               1      3            0                   3        0      1   \n",
              "2               2      3            0                   3        0      1   \n",
              "3               3      3            0                   2        1      1   \n",
              "4               4      6            0                   6        0      1   \n",
              "...           ...    ...          ...                 ...      ...    ...   \n",
              "24778       25291      3            0                   2        1      1   \n",
              "24779       25292      3            0                   1        2      2   \n",
              "24780       25294      3            0                   3        0      1   \n",
              "24781       25295      6            0                   6        0      1   \n",
              "24782       25296      3            0                   0        3      2   \n",
              "\n",
              "                                                   tweet  \n",
              "0      !!! RT @mayasolovely: As a woman you shouldn't...  \n",
              "1      !!!!! RT @mleew17: boy dats cold...tyga dwn ba...  \n",
              "2      !!!!!!! RT @UrKindOfBrand Dawg!!!! RT @80sbaby...  \n",
              "3      !!!!!!!!! RT @C_G_Anderson: @viva_based she lo...  \n",
              "4      !!!!!!!!!!!!! RT @ShenikaRoberts: The shit you...  \n",
              "...                                                  ...  \n",
              "24778  you's a muthaf***in lie &#8220;@LifeAsKing: @2...  \n",
              "24779  you've gone and broke the wrong heart baby, an...  \n",
              "24780  young buck wanna eat!!.. dat nigguh like I ain...  \n",
              "24781              youu got wild bitches tellin you lies  \n",
              "24782  ~~Ruffled | Ntac Eileen Dahlia - Beautiful col...  \n",
              "\n",
              "[24783 rows x 7 columns]"
            ]
          },
          "execution_count": 24,
          "metadata": {},
          "output_type": "execute_result"
        }
      ],
      "source": [
        "raw_hs_and_offensive_lang_df"
      ]
    },
    {
      "cell_type": "code",
      "execution_count": 25,
      "metadata": {
        "id": "Fh-4Msu3YFSz",
        "outputId": "bc63355f-3e98-495f-c8a0-4b259d07f9a3"
      },
      "outputs": [
        {
          "name": "stdout",
          "output_type": "stream",
          "text": [
            "<class 'pandas.core.frame.DataFrame'>\n",
            "RangeIndex: 24783 entries, 0 to 24782\n",
            "Data columns (total 7 columns):\n",
            " #   Column              Non-Null Count  Dtype \n",
            "---  ------              --------------  ----- \n",
            " 0   Unnamed: 0          24783 non-null  int64 \n",
            " 1   count               24783 non-null  int64 \n",
            " 2   hate_speech         24783 non-null  int64 \n",
            " 3   offensive_language  24783 non-null  int64 \n",
            " 4   neither             24783 non-null  int64 \n",
            " 5   class               24783 non-null  int64 \n",
            " 6   tweet               24783 non-null  object\n",
            "dtypes: int64(6), object(1)\n",
            "memory usage: 1.3+ MB\n"
          ]
        }
      ],
      "source": [
        "# Check the basic information of the data frame.\n",
        "raw_hs_and_offensive_lang_df.info()"
      ]
    },
    {
      "attachments": {},
      "cell_type": "markdown",
      "metadata": {
        "id": "u7KMemvcYFS2"
      },
      "source": [
        "### Clean the dataset."
      ]
    },
    {
      "cell_type": "code",
      "execution_count": 26,
      "metadata": {
        "id": "R-vAz_y0YFS2",
        "outputId": "e5c83ef0-08bf-429d-f259-e044c430ca34"
      },
      "outputs": [
        {
          "data": {
            "text/plain": [
              "Unnamed: 0            0\n",
              "count                 0\n",
              "hate_speech           0\n",
              "offensive_language    0\n",
              "neither               0\n",
              "class                 0\n",
              "tweet                 0\n",
              "dtype: int64"
            ]
          },
          "execution_count": 26,
          "metadata": {},
          "output_type": "execute_result"
        }
      ],
      "source": [
        "# Check for null values.\n",
        "raw_hs_and_offensive_lang_df.isnull().sum()"
      ]
    },
    {
      "cell_type": "code",
      "execution_count": 27,
      "metadata": {
        "id": "p7wpMmGAYFS2",
        "outputId": "ac703ccc-c1b3-41d8-c113-2f44640eab59"
      },
      "outputs": [
        {
          "data": {
            "text/plain": [
              "0"
            ]
          },
          "execution_count": 27,
          "metadata": {},
          "output_type": "execute_result"
        }
      ],
      "source": [
        "# Check for duplicates.\n",
        "raw_hs_and_offensive_lang_df.duplicated().sum()"
      ]
    },
    {
      "attachments": {},
      "cell_type": "markdown",
      "metadata": {
        "id": "bpgvKqWrYFS2"
      },
      "source": [
        "### Restructure the data frame."
      ]
    },
    {
      "cell_type": "code",
      "execution_count": 28,
      "metadata": {
        "id": "X-UyelKwYFS3",
        "outputId": "2de4fa87-bd29-466a-cea1-208408f4d100"
      },
      "outputs": [
        {
          "data": {
            "text/html": [
              "<div>\n",
              "<style scoped>\n",
              "    .dataframe tbody tr th:only-of-type {\n",
              "        vertical-align: middle;\n",
              "    }\n",
              "\n",
              "    .dataframe tbody tr th {\n",
              "        vertical-align: top;\n",
              "    }\n",
              "\n",
              "    .dataframe thead th {\n",
              "        text-align: right;\n",
              "    }\n",
              "</style>\n",
              "<table border=\"1\" class=\"dataframe\">\n",
              "  <thead>\n",
              "    <tr style=\"text-align: right;\">\n",
              "      <th></th>\n",
              "      <th>text</th>\n",
              "      <th>label</th>\n",
              "    </tr>\n",
              "  </thead>\n",
              "  <tbody>\n",
              "    <tr>\n",
              "      <th>0</th>\n",
              "      <td>!!! RT @mayasolovely: As a woman you shouldn't...</td>\n",
              "      <td>0</td>\n",
              "    </tr>\n",
              "    <tr>\n",
              "      <th>1</th>\n",
              "      <td>!!!!! RT @mleew17: boy dats cold...tyga dwn ba...</td>\n",
              "      <td>1</td>\n",
              "    </tr>\n",
              "    <tr>\n",
              "      <th>2</th>\n",
              "      <td>!!!!!!! RT @UrKindOfBrand Dawg!!!! RT @80sbaby...</td>\n",
              "      <td>1</td>\n",
              "    </tr>\n",
              "    <tr>\n",
              "      <th>3</th>\n",
              "      <td>!!!!!!!!! RT @C_G_Anderson: @viva_based she lo...</td>\n",
              "      <td>1</td>\n",
              "    </tr>\n",
              "    <tr>\n",
              "      <th>4</th>\n",
              "      <td>!!!!!!!!!!!!! RT @ShenikaRoberts: The shit you...</td>\n",
              "      <td>1</td>\n",
              "    </tr>\n",
              "    <tr>\n",
              "      <th>...</th>\n",
              "      <td>...</td>\n",
              "      <td>...</td>\n",
              "    </tr>\n",
              "    <tr>\n",
              "      <th>24778</th>\n",
              "      <td>you's a muthaf***in lie &amp;#8220;@LifeAsKing: @2...</td>\n",
              "      <td>1</td>\n",
              "    </tr>\n",
              "    <tr>\n",
              "      <th>24779</th>\n",
              "      <td>you've gone and broke the wrong heart baby, an...</td>\n",
              "      <td>0</td>\n",
              "    </tr>\n",
              "    <tr>\n",
              "      <th>24780</th>\n",
              "      <td>young buck wanna eat!!.. dat nigguh like I ain...</td>\n",
              "      <td>1</td>\n",
              "    </tr>\n",
              "    <tr>\n",
              "      <th>24781</th>\n",
              "      <td>youu got wild bitches tellin you lies</td>\n",
              "      <td>1</td>\n",
              "    </tr>\n",
              "    <tr>\n",
              "      <th>24782</th>\n",
              "      <td>~~Ruffled | Ntac Eileen Dahlia - Beautiful col...</td>\n",
              "      <td>0</td>\n",
              "    </tr>\n",
              "  </tbody>\n",
              "</table>\n",
              "<p>24783 rows × 2 columns</p>\n",
              "</div>"
            ],
            "text/plain": [
              "                                                    text  label\n",
              "0      !!! RT @mayasolovely: As a woman you shouldn't...      0\n",
              "1      !!!!! RT @mleew17: boy dats cold...tyga dwn ba...      1\n",
              "2      !!!!!!! RT @UrKindOfBrand Dawg!!!! RT @80sbaby...      1\n",
              "3      !!!!!!!!! RT @C_G_Anderson: @viva_based she lo...      1\n",
              "4      !!!!!!!!!!!!! RT @ShenikaRoberts: The shit you...      1\n",
              "...                                                  ...    ...\n",
              "24778  you's a muthaf***in lie &#8220;@LifeAsKing: @2...      1\n",
              "24779  you've gone and broke the wrong heart baby, an...      0\n",
              "24780  young buck wanna eat!!.. dat nigguh like I ain...      1\n",
              "24781              youu got wild bitches tellin you lies      1\n",
              "24782  ~~Ruffled | Ntac Eileen Dahlia - Beautiful col...      0\n",
              "\n",
              "[24783 rows x 2 columns]"
            ]
          },
          "execution_count": 28,
          "metadata": {},
          "output_type": "execute_result"
        }
      ],
      "source": [
        "# The data frame should have only a text and label features.\n",
        "\n",
        "hs_and_offensive_lang_df = raw_hs_and_offensive_lang_df.copy()\n",
        "hs_and_offensive_lang_df = hs_and_offensive_lang_df[['tweet', 'class']]\n",
        "hs_and_offensive_lang_df.rename(columns={'tweet': 'text', 'class': 'label'}, inplace=True)\n",
        "\n",
        "# The original labels are 0, 1, and 2. They each means 'hate speech', 'offensive language', and 'neither' respectively.\n",
        "# The original labels 0 and 1 will be mapped to 1 (means toxic) and 2 will be mapped to 0 (means non-toxic)\n",
        "mapping = {0: 1, 1: 1, 2: 0}\n",
        "hs_and_offensive_lang_df['label'] = hs_and_offensive_lang_df['label'].map(mapping)\n",
        "\n",
        "hs_and_offensive_lang_df\n"
      ]
    },
    {
      "attachments": {},
      "cell_type": "markdown",
      "metadata": {
        "id": "zqporNwsYFS3"
      },
      "source": [
        "### Clean the dataset again."
      ]
    },
    {
      "cell_type": "code",
      "execution_count": 29,
      "metadata": {
        "id": "5fdIWLLVYFS3",
        "outputId": "393ad7e2-c789-4d0d-9249-ab4df6191293"
      },
      "outputs": [
        {
          "data": {
            "text/plain": [
              "0"
            ]
          },
          "execution_count": 29,
          "metadata": {},
          "output_type": "execute_result"
        }
      ],
      "source": [
        "# Check for duplicates.\n",
        "hs_and_offensive_lang_df.duplicated().sum()"
      ]
    },
    {
      "attachments": {},
      "cell_type": "markdown",
      "metadata": {
        "id": "aQaimF_RYFS3"
      },
      "source": [
        "## 1.4 | Combine the different data frames."
      ]
    },
    {
      "cell_type": "code",
      "execution_count": 30,
      "metadata": {
        "id": "sdUm3M3kYFS3",
        "outputId": "16a850aa-1c78-43a4-9361-4265447b03d0"
      },
      "outputs": [
        {
          "data": {
            "text/html": [
              "<div>\n",
              "<style scoped>\n",
              "    .dataframe tbody tr th:only-of-type {\n",
              "        vertical-align: middle;\n",
              "    }\n",
              "\n",
              "    .dataframe tbody tr th {\n",
              "        vertical-align: top;\n",
              "    }\n",
              "\n",
              "    .dataframe thead th {\n",
              "        text-align: right;\n",
              "    }\n",
              "</style>\n",
              "<table border=\"1\" class=\"dataframe\">\n",
              "  <thead>\n",
              "    <tr style=\"text-align: right;\">\n",
              "      <th></th>\n",
              "      <th>text</th>\n",
              "      <th>label</th>\n",
              "    </tr>\n",
              "  </thead>\n",
              "  <tbody>\n",
              "    <tr>\n",
              "      <th>0</th>\n",
              "      <td>Inaasahan na ni Vice President Jejomar Binay n...</td>\n",
              "      <td>0</td>\n",
              "    </tr>\n",
              "    <tr>\n",
              "      <th>1</th>\n",
              "      <td>Mar Roxas TANG INA TUWID NA DAAN DAW .. EH SYA...</td>\n",
              "      <td>1</td>\n",
              "    </tr>\n",
              "    <tr>\n",
              "      <th>2</th>\n",
              "      <td>Salamat sa walang sawang suporta ng mga taga m...</td>\n",
              "      <td>0</td>\n",
              "    </tr>\n",
              "    <tr>\n",
              "      <th>3</th>\n",
              "      <td>@rapplerdotcom putangina mo binay TAKBO PA</td>\n",
              "      <td>1</td>\n",
              "    </tr>\n",
              "    <tr>\n",
              "      <th>4</th>\n",
              "      <td>Binay with selective amnesia, forgetting about...</td>\n",
              "      <td>0</td>\n",
              "    </tr>\n",
              "    <tr>\n",
              "      <th>...</th>\n",
              "      <td>...</td>\n",
              "      <td>...</td>\n",
              "    </tr>\n",
              "    <tr>\n",
              "      <th>92967</th>\n",
              "      <td>you's a muthaf***in lie &amp;#8220;@LifeAsKing: @2...</td>\n",
              "      <td>1</td>\n",
              "    </tr>\n",
              "    <tr>\n",
              "      <th>92968</th>\n",
              "      <td>you've gone and broke the wrong heart baby, an...</td>\n",
              "      <td>0</td>\n",
              "    </tr>\n",
              "    <tr>\n",
              "      <th>92969</th>\n",
              "      <td>young buck wanna eat!!.. dat nigguh like I ain...</td>\n",
              "      <td>1</td>\n",
              "    </tr>\n",
              "    <tr>\n",
              "      <th>92970</th>\n",
              "      <td>youu got wild bitches tellin you lies</td>\n",
              "      <td>1</td>\n",
              "    </tr>\n",
              "    <tr>\n",
              "      <th>92971</th>\n",
              "      <td>~~Ruffled | Ntac Eileen Dahlia - Beautiful col...</td>\n",
              "      <td>0</td>\n",
              "    </tr>\n",
              "  </tbody>\n",
              "</table>\n",
              "<p>92972 rows × 2 columns</p>\n",
              "</div>"
            ],
            "text/plain": [
              "                                                    text  label\n",
              "0      Inaasahan na ni Vice President Jejomar Binay n...      0\n",
              "1      Mar Roxas TANG INA TUWID NA DAAN DAW .. EH SYA...      1\n",
              "2      Salamat sa walang sawang suporta ng mga taga m...      0\n",
              "3             @rapplerdotcom putangina mo binay TAKBO PA      1\n",
              "4      Binay with selective amnesia, forgetting about...      0\n",
              "...                                                  ...    ...\n",
              "92967  you's a muthaf***in lie &#8220;@LifeAsKing: @2...      1\n",
              "92968  you've gone and broke the wrong heart baby, an...      0\n",
              "92969  young buck wanna eat!!.. dat nigguh like I ain...      1\n",
              "92970              youu got wild bitches tellin you lies      1\n",
              "92971  ~~Ruffled | Ntac Eileen Dahlia - Beautiful col...      0\n",
              "\n",
              "[92972 rows x 2 columns]"
            ]
          },
          "execution_count": 30,
          "metadata": {},
          "output_type": "execute_result"
        }
      ],
      "source": [
        "# Make a single data frame for all the datasets.\n",
        "df = pd.concat([hate_speech_fil_df, toxic_tweets_df, hs_and_offensive_lang_df], ignore_index=True)\n",
        "\n",
        "df"
      ]
    },
    {
      "attachments": {},
      "cell_type": "markdown",
      "metadata": {
        "id": "dU05fRcUYFS3"
      },
      "source": [
        "### Clean the data."
      ]
    },
    {
      "attachments": {},
      "cell_type": "markdown",
      "metadata": {
        "id": "ReepG4_zYFS3"
      },
      "source": [
        "After countless experiments, removing the substrings that starts with @, http, and, https reduces the accuracy rate on sufficiently large data sets. For now, we will comment this subsequent code out.\n",
        "\n",
        "Adding more to this, we initially thought that urls and twitter handler names would be useless in classifiying the text since they just 'bloat' the extracted tokens by the CountVectorizer. But we were wrong, the total model accuracy would decrease by 2% to 3% if we remove these said substrings. Our hypothesis is that these subtrings adds more 'context' in classifying the text. For instance, people with '@deeznuts' or any other 'toxic' twitter handler names are more likely to tweet toxic speeches."
      ]
    },
    {
      "cell_type": "code",
      "execution_count": 31,
      "metadata": {
        "id": "SXTpv5KrYFS3"
      },
      "outputs": [],
      "source": [
        "# # Remove the substrings that starts with @, http, and https.\n",
        "# # They are irrelevant to the classification.\n",
        "\n",
        "# import re\n",
        "\n",
        "# for index, row in df.iterrows():\n",
        "#     df.loc[index, 'text'] = re.sub(r'@\\S+', '', df.loc[index, 'text'])\n",
        "#     df.loc[index, 'text'] = re.sub(r'http\\S+', '', df.loc[index, 'text'])\n",
        "#     df.loc[index, 'text'] = re.sub(r'https\\S+', '', df.loc[index, 'text'])\n",
        "\n",
        "# df"
      ]
    },
    {
      "cell_type": "code",
      "execution_count": 32,
      "metadata": {
        "id": "rBBFaOujYFS4",
        "outputId": "da71692a-9c7f-42b8-a343-11cf6ac1faba"
      },
      "outputs": [
        {
          "data": {
            "text/plain": [
              "23492"
            ]
          },
          "execution_count": 32,
          "metadata": {},
          "output_type": "execute_result"
        }
      ],
      "source": [
        "# Check for duplicates.\n",
        "df.duplicated().sum()"
      ]
    },
    {
      "cell_type": "code",
      "execution_count": 33,
      "metadata": {
        "id": "HXNMO14aYFS4",
        "outputId": "2d441524-f22d-48ab-eeb1-31603f2aedaf"
      },
      "outputs": [
        {
          "data": {
            "text/html": [
              "<div>\n",
              "<style scoped>\n",
              "    .dataframe tbody tr th:only-of-type {\n",
              "        vertical-align: middle;\n",
              "    }\n",
              "\n",
              "    .dataframe tbody tr th {\n",
              "        vertical-align: top;\n",
              "    }\n",
              "\n",
              "    .dataframe thead th {\n",
              "        text-align: right;\n",
              "    }\n",
              "</style>\n",
              "<table border=\"1\" class=\"dataframe\">\n",
              "  <thead>\n",
              "    <tr style=\"text-align: right;\">\n",
              "      <th></th>\n",
              "      <th>text</th>\n",
              "      <th>label</th>\n",
              "    </tr>\n",
              "  </thead>\n",
              "  <tbody>\n",
              "    <tr>\n",
              "      <th>68189</th>\n",
              "      <td>!!! RT @mayasolovely: As a woman you shouldn't...</td>\n",
              "      <td>0</td>\n",
              "    </tr>\n",
              "    <tr>\n",
              "      <th>68190</th>\n",
              "      <td>!!!!! RT @mleew17: boy dats cold...tyga dwn ba...</td>\n",
              "      <td>1</td>\n",
              "    </tr>\n",
              "    <tr>\n",
              "      <th>68191</th>\n",
              "      <td>!!!!!!! RT @UrKindOfBrand Dawg!!!! RT @80sbaby...</td>\n",
              "      <td>1</td>\n",
              "    </tr>\n",
              "    <tr>\n",
              "      <th>68192</th>\n",
              "      <td>!!!!!!!!! RT @C_G_Anderson: @viva_based she lo...</td>\n",
              "      <td>1</td>\n",
              "    </tr>\n",
              "    <tr>\n",
              "      <th>68193</th>\n",
              "      <td>!!!!!!!!!!!!! RT @ShenikaRoberts: The shit you...</td>\n",
              "      <td>1</td>\n",
              "    </tr>\n",
              "    <tr>\n",
              "      <th>...</th>\n",
              "      <td>...</td>\n",
              "      <td>...</td>\n",
              "    </tr>\n",
              "    <tr>\n",
              "      <th>92966</th>\n",
              "      <td>you're such a retard i hope you get type 2 dia...</td>\n",
              "      <td>1</td>\n",
              "    </tr>\n",
              "    <tr>\n",
              "      <th>92967</th>\n",
              "      <td>you's a muthaf***in lie &amp;#8220;@LifeAsKing: @2...</td>\n",
              "      <td>1</td>\n",
              "    </tr>\n",
              "    <tr>\n",
              "      <th>92969</th>\n",
              "      <td>young buck wanna eat!!.. dat nigguh like I ain...</td>\n",
              "      <td>1</td>\n",
              "    </tr>\n",
              "    <tr>\n",
              "      <th>92970</th>\n",
              "      <td>youu got wild bitches tellin you lies</td>\n",
              "      <td>1</td>\n",
              "    </tr>\n",
              "    <tr>\n",
              "      <th>92971</th>\n",
              "      <td>~~Ruffled | Ntac Eileen Dahlia - Beautiful col...</td>\n",
              "      <td>0</td>\n",
              "    </tr>\n",
              "  </tbody>\n",
              "</table>\n",
              "<p>23492 rows × 2 columns</p>\n",
              "</div>"
            ],
            "text/plain": [
              "                                                    text  label\n",
              "68189  !!! RT @mayasolovely: As a woman you shouldn't...      0\n",
              "68190  !!!!! RT @mleew17: boy dats cold...tyga dwn ba...      1\n",
              "68191  !!!!!!! RT @UrKindOfBrand Dawg!!!! RT @80sbaby...      1\n",
              "68192  !!!!!!!!! RT @C_G_Anderson: @viva_based she lo...      1\n",
              "68193  !!!!!!!!!!!!! RT @ShenikaRoberts: The shit you...      1\n",
              "...                                                  ...    ...\n",
              "92966  you're such a retard i hope you get type 2 dia...      1\n",
              "92967  you's a muthaf***in lie &#8220;@LifeAsKing: @2...      1\n",
              "92969  young buck wanna eat!!.. dat nigguh like I ain...      1\n",
              "92970              youu got wild bitches tellin you lies      1\n",
              "92971  ~~Ruffled | Ntac Eileen Dahlia - Beautiful col...      0\n",
              "\n",
              "[23492 rows x 2 columns]"
            ]
          },
          "execution_count": 33,
          "metadata": {},
          "output_type": "execute_result"
        }
      ],
      "source": [
        "# Show the duplicates.\n",
        "df[df.duplicated()]"
      ]
    },
    {
      "cell_type": "code",
      "execution_count": 34,
      "metadata": {
        "id": "tV_554QHYFS4",
        "outputId": "86afd3e3-9179-4e28-cfb8-bd1a0ea9ca8a"
      },
      "outputs": [
        {
          "data": {
            "text/html": [
              "<div>\n",
              "<style scoped>\n",
              "    .dataframe tbody tr th:only-of-type {\n",
              "        vertical-align: middle;\n",
              "    }\n",
              "\n",
              "    .dataframe tbody tr th {\n",
              "        vertical-align: top;\n",
              "    }\n",
              "\n",
              "    .dataframe thead th {\n",
              "        text-align: right;\n",
              "    }\n",
              "</style>\n",
              "<table border=\"1\" class=\"dataframe\">\n",
              "  <thead>\n",
              "    <tr style=\"text-align: right;\">\n",
              "      <th></th>\n",
              "      <th>text</th>\n",
              "      <th>label</th>\n",
              "    </tr>\n",
              "  </thead>\n",
              "  <tbody>\n",
              "    <tr>\n",
              "      <th>0</th>\n",
              "      <td>Inaasahan na ni Vice President Jejomar Binay n...</td>\n",
              "      <td>0</td>\n",
              "    </tr>\n",
              "    <tr>\n",
              "      <th>1</th>\n",
              "      <td>Mar Roxas TANG INA TUWID NA DAAN DAW .. EH SYA...</td>\n",
              "      <td>1</td>\n",
              "    </tr>\n",
              "    <tr>\n",
              "      <th>2</th>\n",
              "      <td>Salamat sa walang sawang suporta ng mga taga m...</td>\n",
              "      <td>0</td>\n",
              "    </tr>\n",
              "    <tr>\n",
              "      <th>3</th>\n",
              "      <td>@rapplerdotcom putangina mo binay TAKBO PA</td>\n",
              "      <td>1</td>\n",
              "    </tr>\n",
              "    <tr>\n",
              "      <th>4</th>\n",
              "      <td>Binay with selective amnesia, forgetting about...</td>\n",
              "      <td>0</td>\n",
              "    </tr>\n",
              "    <tr>\n",
              "      <th>...</th>\n",
              "      <td>...</td>\n",
              "      <td>...</td>\n",
              "    </tr>\n",
              "    <tr>\n",
              "      <th>69475</th>\n",
              "      <td>when baylor wins im talking so much trash</td>\n",
              "      <td>0</td>\n",
              "    </tr>\n",
              "    <tr>\n",
              "      <th>69476</th>\n",
              "      <td>who's downie like a brownie 4 brunch? Need mim...</td>\n",
              "      <td>0</td>\n",
              "    </tr>\n",
              "    <tr>\n",
              "      <th>69477</th>\n",
              "      <td>yea so about @N_tel 's new friend.. all my fri...</td>\n",
              "      <td>0</td>\n",
              "    </tr>\n",
              "    <tr>\n",
              "      <th>69478</th>\n",
              "      <td>you know what they say, the early bird gets th...</td>\n",
              "      <td>0</td>\n",
              "    </tr>\n",
              "    <tr>\n",
              "      <th>69479</th>\n",
              "      <td>you've gone and broke the wrong heart baby, an...</td>\n",
              "      <td>0</td>\n",
              "    </tr>\n",
              "  </tbody>\n",
              "</table>\n",
              "<p>69480 rows × 2 columns</p>\n",
              "</div>"
            ],
            "text/plain": [
              "                                                    text  label\n",
              "0      Inaasahan na ni Vice President Jejomar Binay n...      0\n",
              "1      Mar Roxas TANG INA TUWID NA DAAN DAW .. EH SYA...      1\n",
              "2      Salamat sa walang sawang suporta ng mga taga m...      0\n",
              "3             @rapplerdotcom putangina mo binay TAKBO PA      1\n",
              "4      Binay with selective amnesia, forgetting about...      0\n",
              "...                                                  ...    ...\n",
              "69475          when baylor wins im talking so much trash      0\n",
              "69476  who's downie like a brownie 4 brunch? Need mim...      0\n",
              "69477  yea so about @N_tel 's new friend.. all my fri...      0\n",
              "69478  you know what they say, the early bird gets th...      0\n",
              "69479  you've gone and broke the wrong heart baby, an...      0\n",
              "\n",
              "[69480 rows x 2 columns]"
            ]
          },
          "execution_count": 34,
          "metadata": {},
          "output_type": "execute_result"
        }
      ],
      "source": [
        "# Drop the duplicates.\n",
        "df.drop_duplicates(inplace=True)\n",
        "\n",
        "# Reset the index.\n",
        "df.reset_index(drop=True, inplace=True)\n",
        "\n",
        "df"
      ]
    },
    {
      "cell_type": "code",
      "execution_count": 35,
      "metadata": {
        "id": "biABX9z6YFS4",
        "outputId": "86993c0d-6d21-4c60-90ee-0bb8d1666f8c"
      },
      "outputs": [
        {
          "data": {
            "text/plain": [
              "0"
            ]
          },
          "execution_count": 35,
          "metadata": {},
          "output_type": "execute_result"
        }
      ],
      "source": [
        "# Verify that there are no duplicates.\n",
        "df.duplicated().sum()"
      ]
    },
    {
      "cell_type": "code",
      "execution_count": 36,
      "metadata": {
        "id": "bigDTdATYFS4",
        "outputId": "221c1914-3c1d-4e6e-95b0-30139586bd18"
      },
      "outputs": [
        {
          "data": {
            "text/html": [
              "<div>\n",
              "<style scoped>\n",
              "    .dataframe tbody tr th:only-of-type {\n",
              "        vertical-align: middle;\n",
              "    }\n",
              "\n",
              "    .dataframe tbody tr th {\n",
              "        vertical-align: top;\n",
              "    }\n",
              "\n",
              "    .dataframe thead th {\n",
              "        text-align: right;\n",
              "    }\n",
              "</style>\n",
              "<table border=\"1\" class=\"dataframe\">\n",
              "  <thead>\n",
              "    <tr style=\"text-align: right;\">\n",
              "      <th></th>\n",
              "      <th>text</th>\n",
              "      <th>label</th>\n",
              "    </tr>\n",
              "  </thead>\n",
              "  <tbody>\n",
              "  </tbody>\n",
              "</table>\n",
              "</div>"
            ],
            "text/plain": [
              "Empty DataFrame\n",
              "Columns: [text, label]\n",
              "Index: []"
            ]
          },
          "execution_count": 36,
          "metadata": {},
          "output_type": "execute_result"
        }
      ],
      "source": [
        "# Check for texts that only contain number strings.\n",
        "df[df['text'].str.isnumeric()]"
      ]
    },
    {
      "attachments": {},
      "cell_type": "markdown",
      "metadata": {
        "id": "M_8DCpFAfEWP"
      },
      "source": [
        "The code snippets below are meant to remove the 'empty' and irrelevant rows after removing those specified substrings above (e.g., handler names, urls, etc.) since there are rows in the original dataset that only contains handler names, urls, and the like. We decided to not delete these code snippets just yet even if they don't explicitly do anything useful (for future reference or change of mind in the data cleaning procedures)."
      ]
    },
    {
      "cell_type": "code",
      "execution_count": 37,
      "metadata": {
        "id": "0qZLnoIRYFS4",
        "outputId": "b84878a8-add5-4625-c62a-0c83510656e2"
      },
      "outputs": [
        {
          "data": {
            "text/html": [
              "<div>\n",
              "<style scoped>\n",
              "    .dataframe tbody tr th:only-of-type {\n",
              "        vertical-align: middle;\n",
              "    }\n",
              "\n",
              "    .dataframe tbody tr th {\n",
              "        vertical-align: top;\n",
              "    }\n",
              "\n",
              "    .dataframe thead th {\n",
              "        text-align: right;\n",
              "    }\n",
              "</style>\n",
              "<table border=\"1\" class=\"dataframe\">\n",
              "  <thead>\n",
              "    <tr style=\"text-align: right;\">\n",
              "      <th></th>\n",
              "      <th>text</th>\n",
              "      <th>label</th>\n",
              "    </tr>\n",
              "  </thead>\n",
              "  <tbody>\n",
              "  </tbody>\n",
              "</table>\n",
              "</div>"
            ],
            "text/plain": [
              "Empty DataFrame\n",
              "Columns: [text, label]\n",
              "Index: []"
            ]
          },
          "execution_count": 37,
          "metadata": {},
          "output_type": "execute_result"
        }
      ],
      "source": [
        "# Check for empty strings.\n",
        "df[df['text'] == '']"
      ]
    },
    {
      "cell_type": "code",
      "execution_count": 38,
      "metadata": {
        "id": "HGZANkrsYFS4",
        "outputId": "ac5e2978-1a38-4efc-f5b4-c83a83750ba4"
      },
      "outputs": [
        {
          "data": {
            "text/html": [
              "<div>\n",
              "<style scoped>\n",
              "    .dataframe tbody tr th:only-of-type {\n",
              "        vertical-align: middle;\n",
              "    }\n",
              "\n",
              "    .dataframe tbody tr th {\n",
              "        vertical-align: top;\n",
              "    }\n",
              "\n",
              "    .dataframe thead th {\n",
              "        text-align: right;\n",
              "    }\n",
              "</style>\n",
              "<table border=\"1\" class=\"dataframe\">\n",
              "  <thead>\n",
              "    <tr style=\"text-align: right;\">\n",
              "      <th></th>\n",
              "      <th>text</th>\n",
              "      <th>label</th>\n",
              "    </tr>\n",
              "  </thead>\n",
              "  <tbody>\n",
              "    <tr>\n",
              "      <th>0</th>\n",
              "      <td>Inaasahan na ni Vice President Jejomar Binay n...</td>\n",
              "      <td>0</td>\n",
              "    </tr>\n",
              "    <tr>\n",
              "      <th>1</th>\n",
              "      <td>Mar Roxas TANG INA TUWID NA DAAN DAW .. EH SYA...</td>\n",
              "      <td>1</td>\n",
              "    </tr>\n",
              "    <tr>\n",
              "      <th>2</th>\n",
              "      <td>Salamat sa walang sawang suporta ng mga taga m...</td>\n",
              "      <td>0</td>\n",
              "    </tr>\n",
              "    <tr>\n",
              "      <th>3</th>\n",
              "      <td>@rapplerdotcom putangina mo binay TAKBO PA</td>\n",
              "      <td>1</td>\n",
              "    </tr>\n",
              "    <tr>\n",
              "      <th>4</th>\n",
              "      <td>Binay with selective amnesia, forgetting about...</td>\n",
              "      <td>0</td>\n",
              "    </tr>\n",
              "    <tr>\n",
              "      <th>...</th>\n",
              "      <td>...</td>\n",
              "      <td>...</td>\n",
              "    </tr>\n",
              "    <tr>\n",
              "      <th>69475</th>\n",
              "      <td>when baylor wins im talking so much trash</td>\n",
              "      <td>0</td>\n",
              "    </tr>\n",
              "    <tr>\n",
              "      <th>69476</th>\n",
              "      <td>who's downie like a brownie 4 brunch? Need mim...</td>\n",
              "      <td>0</td>\n",
              "    </tr>\n",
              "    <tr>\n",
              "      <th>69477</th>\n",
              "      <td>yea so about @N_tel 's new friend.. all my fri...</td>\n",
              "      <td>0</td>\n",
              "    </tr>\n",
              "    <tr>\n",
              "      <th>69478</th>\n",
              "      <td>you know what they say, the early bird gets th...</td>\n",
              "      <td>0</td>\n",
              "    </tr>\n",
              "    <tr>\n",
              "      <th>69479</th>\n",
              "      <td>you've gone and broke the wrong heart baby, an...</td>\n",
              "      <td>0</td>\n",
              "    </tr>\n",
              "  </tbody>\n",
              "</table>\n",
              "<p>69480 rows × 2 columns</p>\n",
              "</div>"
            ],
            "text/plain": [
              "                                                    text  label\n",
              "0      Inaasahan na ni Vice President Jejomar Binay n...      0\n",
              "1      Mar Roxas TANG INA TUWID NA DAAN DAW .. EH SYA...      1\n",
              "2      Salamat sa walang sawang suporta ng mga taga m...      0\n",
              "3             @rapplerdotcom putangina mo binay TAKBO PA      1\n",
              "4      Binay with selective amnesia, forgetting about...      0\n",
              "...                                                  ...    ...\n",
              "69475          when baylor wins im talking so much trash      0\n",
              "69476  who's downie like a brownie 4 brunch? Need mim...      0\n",
              "69477  yea so about @N_tel 's new friend.. all my fri...      0\n",
              "69478  you know what they say, the early bird gets th...      0\n",
              "69479  you've gone and broke the wrong heart baby, an...      0\n",
              "\n",
              "[69480 rows x 2 columns]"
            ]
          },
          "execution_count": 38,
          "metadata": {},
          "output_type": "execute_result"
        }
      ],
      "source": [
        "# Remove the rows with empty strings.\n",
        "df.drop(df[df['text'] == ''].index, inplace=True)\n",
        "\n",
        "# Reset the index.\n",
        "df.reset_index(drop=True, inplace=True)\n",
        "\n",
        "df"
      ]
    },
    {
      "cell_type": "code",
      "execution_count": 39,
      "metadata": {
        "id": "PNiu9NrrYFS5",
        "outputId": "e1880467-a73f-4198-c444-0f0a44a879f5"
      },
      "outputs": [
        {
          "data": {
            "text/html": [
              "<div>\n",
              "<style scoped>\n",
              "    .dataframe tbody tr th:only-of-type {\n",
              "        vertical-align: middle;\n",
              "    }\n",
              "\n",
              "    .dataframe tbody tr th {\n",
              "        vertical-align: top;\n",
              "    }\n",
              "\n",
              "    .dataframe thead th {\n",
              "        text-align: right;\n",
              "    }\n",
              "</style>\n",
              "<table border=\"1\" class=\"dataframe\">\n",
              "  <thead>\n",
              "    <tr style=\"text-align: right;\">\n",
              "      <th></th>\n",
              "      <th>text</th>\n",
              "      <th>label</th>\n",
              "    </tr>\n",
              "  </thead>\n",
              "  <tbody>\n",
              "  </tbody>\n",
              "</table>\n",
              "</div>"
            ],
            "text/plain": [
              "Empty DataFrame\n",
              "Columns: [text, label]\n",
              "Index: []"
            ]
          },
          "execution_count": 39,
          "metadata": {},
          "output_type": "execute_result"
        }
      ],
      "source": [
        "# Verify that there are no empty strings.\n",
        "df[df['text'] == '']"
      ]
    },
    {
      "attachments": {},
      "cell_type": "markdown",
      "metadata": {
        "id": "eos-FslUYqdR"
      },
      "source": [
        "# [ AI MODEL ]"
      ]
    },
    {
      "attachments": {},
      "cell_type": "markdown",
      "metadata": {
        "id": "V51a4EWFYFS5"
      },
      "source": [
        "## Creating a Train and Test sets"
      ]
    },
    {
      "cell_type": "code",
      "execution_count": 40,
      "metadata": {
        "id": "kWcd2H8RYFS5",
        "outputId": "4e684704-3fc2-4adb-f17a-490dec01c3f1"
      },
      "outputs": [
        {
          "name": "stdout",
          "output_type": "stream",
          "text": [
            "(69480,)\n",
            "(69480,)\n"
          ]
        }
      ],
      "source": [
        "X = df['text']\n",
        "y = df['label']\n",
        "\n",
        "print(X.shape)\n",
        "print(y.shape)"
      ]
    },
    {
      "cell_type": "code",
      "execution_count": 41,
      "metadata": {
        "id": "HuXycsf8YFS5",
        "outputId": "fd52e21a-2a22-4aaf-dbe4-b30b00753ca1"
      },
      "outputs": [
        {
          "name": "stdout",
          "output_type": "stream",
          "text": [
            "(52110,)\n",
            "(17370,)\n",
            "(52110,)\n",
            "(17370,)\n"
          ]
        }
      ],
      "source": [
        "# Split X and y into training and testing sets.\n",
        "\n",
        "from sklearn.model_selection import train_test_split\n",
        "\n",
        "X_train, X_test, y_train, y_test = train_test_split(X, y, random_state=69)\n",
        "\n",
        "print(X_train.shape)\n",
        "print(X_test.shape)\n",
        "print(y_train.shape)\n",
        "print(y_test.shape)"
      ]
    },
    {
      "attachments": {},
      "cell_type": "markdown",
      "metadata": {
        "id": "RY4aNlZdYFS5"
      },
      "source": [
        "## Vectorizing the dataset (w/o optimized params)."
      ]
    },
    {
      "cell_type": "code",
      "execution_count": 42,
      "metadata": {
        "id": "VRrUA34WYFS5"
      },
      "outputs": [],
      "source": [
        "# Instantiate the CountVectorizer.\n",
        "\n",
        "from sklearn.feature_extraction.text import CountVectorizer\n",
        "\n",
        "cvect = CountVectorizer()"
      ]
    },
    {
      "cell_type": "code",
      "execution_count": 43,
      "metadata": {
        "id": "XDoyudFUYFS5",
        "outputId": "ff754b25-939f-4361-f8a8-4715e63d0a14"
      },
      "outputs": [
        {
          "data": {
            "text/html": [
              "<style>#sk-container-id-1 {color: black;background-color: white;}#sk-container-id-1 pre{padding: 0;}#sk-container-id-1 div.sk-toggleable {background-color: white;}#sk-container-id-1 label.sk-toggleable__label {cursor: pointer;display: block;width: 100%;margin-bottom: 0;padding: 0.3em;box-sizing: border-box;text-align: center;}#sk-container-id-1 label.sk-toggleable__label-arrow:before {content: \"▸\";float: left;margin-right: 0.25em;color: #696969;}#sk-container-id-1 label.sk-toggleable__label-arrow:hover:before {color: black;}#sk-container-id-1 div.sk-estimator:hover label.sk-toggleable__label-arrow:before {color: black;}#sk-container-id-1 div.sk-toggleable__content {max-height: 0;max-width: 0;overflow: hidden;text-align: left;background-color: #f0f8ff;}#sk-container-id-1 div.sk-toggleable__content pre {margin: 0.2em;color: black;border-radius: 0.25em;background-color: #f0f8ff;}#sk-container-id-1 input.sk-toggleable__control:checked~div.sk-toggleable__content {max-height: 200px;max-width: 100%;overflow: auto;}#sk-container-id-1 input.sk-toggleable__control:checked~label.sk-toggleable__label-arrow:before {content: \"▾\";}#sk-container-id-1 div.sk-estimator input.sk-toggleable__control:checked~label.sk-toggleable__label {background-color: #d4ebff;}#sk-container-id-1 div.sk-label input.sk-toggleable__control:checked~label.sk-toggleable__label {background-color: #d4ebff;}#sk-container-id-1 input.sk-hidden--visually {border: 0;clip: rect(1px 1px 1px 1px);clip: rect(1px, 1px, 1px, 1px);height: 1px;margin: -1px;overflow: hidden;padding: 0;position: absolute;width: 1px;}#sk-container-id-1 div.sk-estimator {font-family: monospace;background-color: #f0f8ff;border: 1px dotted black;border-radius: 0.25em;box-sizing: border-box;margin-bottom: 0.5em;}#sk-container-id-1 div.sk-estimator:hover {background-color: #d4ebff;}#sk-container-id-1 div.sk-parallel-item::after {content: \"\";width: 100%;border-bottom: 1px solid gray;flex-grow: 1;}#sk-container-id-1 div.sk-label:hover label.sk-toggleable__label {background-color: #d4ebff;}#sk-container-id-1 div.sk-serial::before {content: \"\";position: absolute;border-left: 1px solid gray;box-sizing: border-box;top: 0;bottom: 0;left: 50%;z-index: 0;}#sk-container-id-1 div.sk-serial {display: flex;flex-direction: column;align-items: center;background-color: white;padding-right: 0.2em;padding-left: 0.2em;position: relative;}#sk-container-id-1 div.sk-item {position: relative;z-index: 1;}#sk-container-id-1 div.sk-parallel {display: flex;align-items: stretch;justify-content: center;background-color: white;position: relative;}#sk-container-id-1 div.sk-item::before, #sk-container-id-1 div.sk-parallel-item::before {content: \"\";position: absolute;border-left: 1px solid gray;box-sizing: border-box;top: 0;bottom: 0;left: 50%;z-index: -1;}#sk-container-id-1 div.sk-parallel-item {display: flex;flex-direction: column;z-index: 1;position: relative;background-color: white;}#sk-container-id-1 div.sk-parallel-item:first-child::after {align-self: flex-end;width: 50%;}#sk-container-id-1 div.sk-parallel-item:last-child::after {align-self: flex-start;width: 50%;}#sk-container-id-1 div.sk-parallel-item:only-child::after {width: 0;}#sk-container-id-1 div.sk-dashed-wrapped {border: 1px dashed gray;margin: 0 0.4em 0.5em 0.4em;box-sizing: border-box;padding-bottom: 0.4em;background-color: white;}#sk-container-id-1 div.sk-label label {font-family: monospace;font-weight: bold;display: inline-block;line-height: 1.2em;}#sk-container-id-1 div.sk-label-container {text-align: center;}#sk-container-id-1 div.sk-container {/* jupyter's `normalize.less` sets `[hidden] { display: none; }` but bootstrap.min.css set `[hidden] { display: none !important; }` so we also need the `!important` here to be able to override the default hidden behavior on the sphinx rendered scikit-learn.org. See: https://github.com/scikit-learn/scikit-learn/issues/21755 */display: inline-block !important;position: relative;}#sk-container-id-1 div.sk-text-repr-fallback {display: none;}</style><div id=\"sk-container-id-1\" class=\"sk-top-container\"><div class=\"sk-text-repr-fallback\"><pre>CountVectorizer()</pre><b>In a Jupyter environment, please rerun this cell to show the HTML representation or trust the notebook. <br />On GitHub, the HTML representation is unable to render, please try loading this page with nbviewer.org.</b></div><div class=\"sk-container\" hidden><div class=\"sk-item\"><div class=\"sk-estimator sk-toggleable\"><input class=\"sk-toggleable__control sk-hidden--visually\" id=\"sk-estimator-id-1\" type=\"checkbox\" checked><label for=\"sk-estimator-id-1\" class=\"sk-toggleable__label sk-toggleable__label-arrow\">CountVectorizer</label><div class=\"sk-toggleable__content\"><pre>CountVectorizer()</pre></div></div></div></div></div>"
            ],
            "text/plain": [
              "CountVectorizer()"
            ]
          },
          "execution_count": 43,
          "metadata": {},
          "output_type": "execute_result"
        }
      ],
      "source": [
        "# Learn the training data vocabulary, then use it to create a document-term matrix.\n",
        "\n",
        "cvect.fit(X_train)"
      ]
    },
    {
      "cell_type": "code",
      "execution_count": 44,
      "metadata": {
        "id": "wRR5lFZOYFS5",
        "outputId": "ca0fdd9a-72e7-42de-f478-a1290c88709d"
      },
      "outputs": [
        {
          "name": "stdout",
          "output_type": "stream",
          "text": [
            "['00' '000' '0000000000000' ... 'ð¾ñ' 'ó¾' 'ø¹ù']\n",
            "len: 69692\n"
          ]
        },
        {
          "data": {
            "text/html": [
              "<div>\n",
              "<style scoped>\n",
              "    .dataframe tbody tr th:only-of-type {\n",
              "        vertical-align: middle;\n",
              "    }\n",
              "\n",
              "    .dataframe tbody tr th {\n",
              "        vertical-align: top;\n",
              "    }\n",
              "\n",
              "    .dataframe thead th {\n",
              "        text-align: right;\n",
              "    }\n",
              "</style>\n",
              "<table border=\"1\" class=\"dataframe\">\n",
              "  <thead>\n",
              "    <tr style=\"text-align: right;\">\n",
              "      <th></th>\n",
              "      <th>0</th>\n",
              "    </tr>\n",
              "  </thead>\n",
              "  <tbody>\n",
              "    <tr>\n",
              "      <th>0</th>\n",
              "      <td>00</td>\n",
              "    </tr>\n",
              "    <tr>\n",
              "      <th>1</th>\n",
              "      <td>000</td>\n",
              "    </tr>\n",
              "    <tr>\n",
              "      <th>2</th>\n",
              "      <td>0000000000000</td>\n",
              "    </tr>\n",
              "    <tr>\n",
              "      <th>3</th>\n",
              "      <td>000001</td>\n",
              "    </tr>\n",
              "    <tr>\n",
              "      <th>4</th>\n",
              "      <td>002</td>\n",
              "    </tr>\n",
              "    <tr>\n",
              "      <th>...</th>\n",
              "      <td>...</td>\n",
              "    </tr>\n",
              "    <tr>\n",
              "      <th>69687</th>\n",
              "      <td>ð¾ð½ð</td>\n",
              "    </tr>\n",
              "    <tr>\n",
              "      <th>69688</th>\n",
              "      <td>ð¾ð½ðµð</td>\n",
              "    </tr>\n",
              "    <tr>\n",
              "      <th>69689</th>\n",
              "      <td>ð¾ñ</td>\n",
              "    </tr>\n",
              "    <tr>\n",
              "      <th>69690</th>\n",
              "      <td>ó¾</td>\n",
              "    </tr>\n",
              "    <tr>\n",
              "      <th>69691</th>\n",
              "      <td>ø¹ù</td>\n",
              "    </tr>\n",
              "  </tbody>\n",
              "</table>\n",
              "<p>69692 rows × 1 columns</p>\n",
              "</div>"
            ],
            "text/plain": [
              "                   0\n",
              "0                 00\n",
              "1                000\n",
              "2      0000000000000\n",
              "3             000001\n",
              "4                002\n",
              "...              ...\n",
              "69687          ð¾ð½ð\n",
              "69688        ð¾ð½ðµð\n",
              "69689            ð¾ñ\n",
              "69690             ó¾\n",
              "69691            ø¹ù\n",
              "\n",
              "[69692 rows x 1 columns]"
            ]
          },
          "execution_count": 44,
          "metadata": {},
          "output_type": "execute_result"
        }
      ],
      "source": [
        "# Examine the fitted vocabulary.\n",
        "\n",
        "feature_names = cvect.get_feature_names_out()\n",
        "print(feature_names)\n",
        "print('len:', len(feature_names))\n",
        "pd.DataFrame(feature_names)\n"
      ]
    },
    {
      "attachments": {},
      "cell_type": "markdown",
      "metadata": {
        "id": "pm2I2IXygHLK"
      },
      "source": [
        "There are a lot of extracted unique tokens. This would mean a larger runtime in fitting the model later on."
      ]
    },
    {
      "cell_type": "code",
      "execution_count": 45,
      "metadata": {
        "id": "LheO6EnUYFS6"
      },
      "outputs": [],
      "source": [
        "# Transform the training data into a document-term matrix.\n",
        "\n",
        "# X_train_dtm = vect.transform(X_train)\n",
        "X_train_dtm = cvect.fit_transform(X_train)"
      ]
    },
    {
      "cell_type": "code",
      "execution_count": 46,
      "metadata": {
        "id": "x0ejkQuTYFS6",
        "outputId": "8c1fc91c-1f19-4d0e-c112-b3ef65f0e9da"
      },
      "outputs": [
        {
          "data": {
            "text/plain": [
              "<52110x69692 sparse matrix of type '<class 'numpy.int64'>'\n",
              "\twith 653595 stored elements in Compressed Sparse Row format>"
            ]
          },
          "execution_count": 46,
          "metadata": {},
          "output_type": "execute_result"
        }
      ],
      "source": [
        "# Examine the document-term matrix.\n",
        "\n",
        "X_train_dtm"
      ]
    },
    {
      "attachments": {},
      "cell_type": "markdown",
      "metadata": {
        "id": "kQ8voyMKgtQ6"
      },
      "source": [
        "Converting it to a dtm is really useful. We have found out that if we did not do this, we will need approximately 45+GB memory in building the AI model."
      ]
    },
    {
      "cell_type": "code",
      "execution_count": 47,
      "metadata": {
        "id": "tkfRAbM3YFS6",
        "outputId": "ffec23f2-c829-4220-d61d-eea619b56215"
      },
      "outputs": [
        {
          "data": {
            "text/plain": [
              "<17370x69692 sparse matrix of type '<class 'numpy.int64'>'\n",
              "\twith 202486 stored elements in Compressed Sparse Row format>"
            ]
          },
          "execution_count": 47,
          "metadata": {},
          "output_type": "execute_result"
        }
      ],
      "source": [
        "# Transform the testing data (using fitted vocabulary) into a document-term matrix.\n",
        "\n",
        "X_test_dtm = cvect.transform(X_test)\n",
        "X_test_dtm"
      ]
    },
    {
      "attachments": {},
      "cell_type": "markdown",
      "metadata": {
        "id": "jP4u_kAsYFS6"
      },
      "source": [
        "# 2 | Building and Evaluating the MNB model"
      ]
    },
    {
      "attachments": {},
      "cell_type": "markdown",
      "metadata": {
        "id": "5r8Nxl_PkVMX"
      },
      "source": [
        "We chose Monomial Naive Bayes classifier because it can be effective in classifying toxic speeches for several reasons:\n",
        "\n",
        "1. **Simplicity and efficiency:** Monomial Naive Bayes classifiers are relatively simple and computationally efficient. They are based on the assumption of feature independence, which means they treat each feature (word) in isolation, disregarding any relationships or dependencies between them. This assumption allows for faster training and classification compared to more complex models.\n",
        "\n",
        "2. **Bag-of-words representation:** Monomial Naive Bayes classifiers commonly use a bag-of-words representation, where the order of words is disregarded and only the occurrence or frequency of each word is considered. This approach is suitable for toxic speech classification because toxic speeches often contain specific keywords or phrases that can be indicative of their toxicity. By focusing on individual words, the classifier can capture these patterns effectively.\n",
        "\n",
        "3. **Text categorization:** Naive Bayes classifiers are particularly well-suited for text categorization tasks like toxic speech classification. They calculate the probability of a given speech belonging to a particular class (e.g., toxic or non-toxic) based on the occurrence of words in the speech. This makes them effective in identifying toxic patterns by analyzing the presence or absence of specific words associated with toxic speech.\n",
        "\n",
        "4. **Reasonable performance:** Despite their simplicity, Naive Bayes classifiers have shown good performance in various text classification tasks, including toxic speech detection. They can achieve reasonably high accuracy when trained on appropriately labeled data. Moreover, they can handle large feature spaces (vocabulary size) efficiently, making them suitable for tasks involving a wide range of words.\n",
        "\n",
        "It's worth noting that while Monomial Naive Bayes classifiers can be effective in toxic speech classification, they have limitations. For example, they assume independence between features, which may not always hold in the context of language. Although, we can use a trick to let this model 'understand' the context of specific substrings by increasing the n-gram param value. Additionally, they may struggle with capturing more complex linguistic structures or context beyond individual words. Nonetheless, with proper feature engineering and training data, they can be a valuable tool in identifying toxic speeches."
      ]
    },
    {
      "attachments": {},
      "cell_type": "markdown",
      "metadata": {
        "id": "AvUzNZxfYFS6"
      },
      "source": [
        "## Building the MNB model (w/o optimized params)."
      ]
    },
    {
      "cell_type": "code",
      "execution_count": 48,
      "metadata": {
        "id": "aTYJvduQYFS6"
      },
      "outputs": [],
      "source": [
        "# Import and instantiate a Multinomial Naive Bayes model.\n",
        "\n",
        "from sklearn.naive_bayes import MultinomialNB\n",
        "\n",
        "mnb = MultinomialNB()"
      ]
    },
    {
      "cell_type": "code",
      "execution_count": 49,
      "metadata": {
        "id": "RZAzniz0YFS6",
        "outputId": "88477d0e-07ba-4bd9-b9df-96a81ee40dcd"
      },
      "outputs": [
        {
          "data": {
            "text/html": [
              "<style>#sk-container-id-2 {color: black;background-color: white;}#sk-container-id-2 pre{padding: 0;}#sk-container-id-2 div.sk-toggleable {background-color: white;}#sk-container-id-2 label.sk-toggleable__label {cursor: pointer;display: block;width: 100%;margin-bottom: 0;padding: 0.3em;box-sizing: border-box;text-align: center;}#sk-container-id-2 label.sk-toggleable__label-arrow:before {content: \"▸\";float: left;margin-right: 0.25em;color: #696969;}#sk-container-id-2 label.sk-toggleable__label-arrow:hover:before {color: black;}#sk-container-id-2 div.sk-estimator:hover label.sk-toggleable__label-arrow:before {color: black;}#sk-container-id-2 div.sk-toggleable__content {max-height: 0;max-width: 0;overflow: hidden;text-align: left;background-color: #f0f8ff;}#sk-container-id-2 div.sk-toggleable__content pre {margin: 0.2em;color: black;border-radius: 0.25em;background-color: #f0f8ff;}#sk-container-id-2 input.sk-toggleable__control:checked~div.sk-toggleable__content {max-height: 200px;max-width: 100%;overflow: auto;}#sk-container-id-2 input.sk-toggleable__control:checked~label.sk-toggleable__label-arrow:before {content: \"▾\";}#sk-container-id-2 div.sk-estimator input.sk-toggleable__control:checked~label.sk-toggleable__label {background-color: #d4ebff;}#sk-container-id-2 div.sk-label input.sk-toggleable__control:checked~label.sk-toggleable__label {background-color: #d4ebff;}#sk-container-id-2 input.sk-hidden--visually {border: 0;clip: rect(1px 1px 1px 1px);clip: rect(1px, 1px, 1px, 1px);height: 1px;margin: -1px;overflow: hidden;padding: 0;position: absolute;width: 1px;}#sk-container-id-2 div.sk-estimator {font-family: monospace;background-color: #f0f8ff;border: 1px dotted black;border-radius: 0.25em;box-sizing: border-box;margin-bottom: 0.5em;}#sk-container-id-2 div.sk-estimator:hover {background-color: #d4ebff;}#sk-container-id-2 div.sk-parallel-item::after {content: \"\";width: 100%;border-bottom: 1px solid gray;flex-grow: 1;}#sk-container-id-2 div.sk-label:hover label.sk-toggleable__label {background-color: #d4ebff;}#sk-container-id-2 div.sk-serial::before {content: \"\";position: absolute;border-left: 1px solid gray;box-sizing: border-box;top: 0;bottom: 0;left: 50%;z-index: 0;}#sk-container-id-2 div.sk-serial {display: flex;flex-direction: column;align-items: center;background-color: white;padding-right: 0.2em;padding-left: 0.2em;position: relative;}#sk-container-id-2 div.sk-item {position: relative;z-index: 1;}#sk-container-id-2 div.sk-parallel {display: flex;align-items: stretch;justify-content: center;background-color: white;position: relative;}#sk-container-id-2 div.sk-item::before, #sk-container-id-2 div.sk-parallel-item::before {content: \"\";position: absolute;border-left: 1px solid gray;box-sizing: border-box;top: 0;bottom: 0;left: 50%;z-index: -1;}#sk-container-id-2 div.sk-parallel-item {display: flex;flex-direction: column;z-index: 1;position: relative;background-color: white;}#sk-container-id-2 div.sk-parallel-item:first-child::after {align-self: flex-end;width: 50%;}#sk-container-id-2 div.sk-parallel-item:last-child::after {align-self: flex-start;width: 50%;}#sk-container-id-2 div.sk-parallel-item:only-child::after {width: 0;}#sk-container-id-2 div.sk-dashed-wrapped {border: 1px dashed gray;margin: 0 0.4em 0.5em 0.4em;box-sizing: border-box;padding-bottom: 0.4em;background-color: white;}#sk-container-id-2 div.sk-label label {font-family: monospace;font-weight: bold;display: inline-block;line-height: 1.2em;}#sk-container-id-2 div.sk-label-container {text-align: center;}#sk-container-id-2 div.sk-container {/* jupyter's `normalize.less` sets `[hidden] { display: none; }` but bootstrap.min.css set `[hidden] { display: none !important; }` so we also need the `!important` here to be able to override the default hidden behavior on the sphinx rendered scikit-learn.org. See: https://github.com/scikit-learn/scikit-learn/issues/21755 */display: inline-block !important;position: relative;}#sk-container-id-2 div.sk-text-repr-fallback {display: none;}</style><div id=\"sk-container-id-2\" class=\"sk-top-container\"><div class=\"sk-text-repr-fallback\"><pre>MultinomialNB()</pre><b>In a Jupyter environment, please rerun this cell to show the HTML representation or trust the notebook. <br />On GitHub, the HTML representation is unable to render, please try loading this page with nbviewer.org.</b></div><div class=\"sk-container\" hidden><div class=\"sk-item\"><div class=\"sk-estimator sk-toggleable\"><input class=\"sk-toggleable__control sk-hidden--visually\" id=\"sk-estimator-id-2\" type=\"checkbox\" checked><label for=\"sk-estimator-id-2\" class=\"sk-toggleable__label sk-toggleable__label-arrow\">MultinomialNB</label><div class=\"sk-toggleable__content\"><pre>MultinomialNB()</pre></div></div></div></div></div>"
            ],
            "text/plain": [
              "MultinomialNB()"
            ]
          },
          "execution_count": 49,
          "metadata": {},
          "output_type": "execute_result"
        }
      ],
      "source": [
        "# Train the model using X_train_dtm and the fit() method.\n",
        "\n",
        "mnb.fit(X_train_dtm, y_train)"
      ]
    },
    {
      "attachments": {},
      "cell_type": "markdown",
      "metadata": {
        "id": "HeM4mTlcYFS7"
      },
      "source": [
        "## Evaluating the MNB model (baseline performance)."
      ]
    },
    {
      "cell_type": "code",
      "execution_count": 50,
      "metadata": {
        "id": "5OvYLt1ZYFS7"
      },
      "outputs": [],
      "source": [
        "# Make class predictions for the X_test_dtm. Store it in the y_pred_class variable.\n",
        "\n",
        "y_pred_class = mnb.predict(X_test_dtm)"
      ]
    },
    {
      "cell_type": "code",
      "execution_count": 51,
      "metadata": {
        "id": "HMy8NkXuYFS7",
        "outputId": "88b7e328-3f6f-4365-9502-13c608999c6d"
      },
      "outputs": [
        {
          "data": {
            "text/plain": [
              "0.8637881404720783"
            ]
          },
          "execution_count": 51,
          "metadata": {},
          "output_type": "execute_result"
        }
      ],
      "source": [
        "# Calculate the accuracy of the predictions.\n",
        "\n",
        "from sklearn import metrics\n",
        "\n",
        "metrics.accuracy_score(y_test, y_pred_class)"
      ]
    },
    {
      "cell_type": "code",
      "execution_count": 52,
      "metadata": {
        "id": "5kpRliwMYFS7",
        "outputId": "c920ebb7-544c-4b33-911e-f578312f75b1"
      },
      "outputs": [
        {
          "data": {
            "text/plain": [
              "array([[8391, 1409],\n",
              "       [ 957, 6613]], dtype=int64)"
            ]
          },
          "execution_count": 52,
          "metadata": {},
          "output_type": "execute_result"
        },
        {
          "data": {
            "image/png": "[encoded data removed]",
            "text/plain": [
              "<Figure size 640x480 with 1 Axes>"
            ]
          },
          "metadata": {},
          "output_type": "display_data"
        }
      ],
      "source": [
        "# Print the confusion matrix.\n",
        "\n",
        "from sklearn.metrics import confusion_matrix\n",
        "import seaborn as sns\n",
        "import matplotlib.pyplot as plt\n",
        "\n",
        "mat = confusion_matrix(y_test, y_pred_class)\n",
        "sns.heatmap(mat.T, square=True, annot=True, fmt='d', cbar=False, \n",
        "            xticklabels=['Not Toxic', 'Toxic'], yticklabels=['Not Toxic', 'Toxic'])\n",
        "plt.xlabel('True Label')\n",
        "plt.ylabel('Predicted Label')\n",
        "\n",
        "metrics.confusion_matrix(y_test, y_pred_class)"
      ]
    },
    {
      "cell_type": "code",
      "execution_count": 53,
      "metadata": {
        "id": "Z7hZCuUQYFS7",
        "outputId": "2548849b-8254-4be2-92dc-81e869f6c188"
      },
      "outputs": [
        {
          "name": "stdout",
          "output_type": "stream",
          "text": [
            "              precision    recall  f1-score   support\n",
            "\n",
            "           0       0.90      0.86      0.88      9800\n",
            "           1       0.82      0.87      0.85      7570\n",
            "\n",
            "    accuracy                           0.86     17370\n",
            "   macro avg       0.86      0.86      0.86     17370\n",
            "weighted avg       0.87      0.86      0.86     17370\n",
            "\n"
          ]
        }
      ],
      "source": [
        "# Print the classification report.\n",
        "\n",
        "from sklearn.metrics import classification_report\n",
        "\n",
        "print(classification_report(y_test, y_pred_class))"
      ]
    },
    {
      "cell_type": "code",
      "execution_count": 54,
      "metadata": {
        "id": "P01AYqS7YFS7",
        "outputId": "3023ce21-91e4-49f6-a625-cb944d81654f"
      },
      "outputs": [
        {
          "data": {
            "text/plain": [
              "array([9.99969555e-01, 9.99999783e-01, 9.99999990e-01, ...,\n",
              "       8.30752541e-01, 3.98301173e-07, 4.51200757e-04])"
            ]
          },
          "execution_count": 54,
          "metadata": {},
          "output_type": "execute_result"
        }
      ],
      "source": [
        "# Show the predicted probabilities for the X_test_dtm.\n",
        "\n",
        "y_pred_prob = mnb.predict_proba(X_test_dtm)[:, 1]\n",
        "y_pred_prob"
      ]
    },
    {
      "cell_type": "code",
      "execution_count": 55,
      "metadata": {
        "id": "zErA-Jr9YFS7",
        "outputId": "71abb37b-1673-40ca-fa45-bf53831591fb"
      },
      "outputs": [
        {
          "data": {
            "text/html": [
              "<div>\n",
              "<style scoped>\n",
              "    .dataframe tbody tr th:only-of-type {\n",
              "        vertical-align: middle;\n",
              "    }\n",
              "\n",
              "    .dataframe tbody tr th {\n",
              "        vertical-align: top;\n",
              "    }\n",
              "\n",
              "    .dataframe thead th {\n",
              "        text-align: right;\n",
              "    }\n",
              "</style>\n",
              "<table border=\"1\" class=\"dataframe\">\n",
              "  <thead>\n",
              "    <tr style=\"text-align: right;\">\n",
              "      <th></th>\n",
              "      <th>text</th>\n",
              "      <th>actual</th>\n",
              "      <th>predicted</th>\n",
              "      <th>prob</th>\n",
              "    </tr>\n",
              "  </thead>\n",
              "  <tbody>\n",
              "    <tr>\n",
              "      <th>5488</th>\n",
              "      <td>Di ako makapaniwala na pangalawa si Mar Roxas ...</td>\n",
              "      <td>1</td>\n",
              "      <td>1</td>\n",
              "      <td>9.999696e-01</td>\n",
              "    </tr>\n",
              "    <tr>\n",
              "      <th>50853</th>\n",
              "      <td>A lot of you niggas turned these bitches into ...</td>\n",
              "      <td>1</td>\n",
              "      <td>1</td>\n",
              "      <td>9.999998e-01</td>\n",
              "    </tr>\n",
              "    <tr>\n",
              "      <th>61636</th>\n",
              "      <td>RT @ZitlalyL: @Vic_Manzan0 just like you&amp;#1280...</td>\n",
              "      <td>1</td>\n",
              "      <td>1</td>\n",
              "      <td>1.000000e+00</td>\n",
              "    </tr>\n",
              "    <tr>\n",
              "      <th>35506</th>\n",
              "      <td>our playground for the morning.  big bear tri ...</td>\n",
              "      <td>0</td>\n",
              "      <td>0</td>\n",
              "      <td>4.488642e-03</td>\n",
              "    </tr>\n",
              "    <tr>\n",
              "      <th>2918</th>\n",
              "      <td>\"@ellisluciano: Binay as President #ShortHorro...</td>\n",
              "      <td>1</td>\n",
              "      <td>1</td>\n",
              "      <td>5.873902e-01</td>\n",
              "    </tr>\n",
              "    <tr>\n",
              "      <th>...</th>\n",
              "      <td>...</td>\n",
              "      <td>...</td>\n",
              "      <td>...</td>\n",
              "      <td>...</td>\n",
              "    </tr>\n",
              "    <tr>\n",
              "      <th>56103</th>\n",
              "      <td>Mad respect to Affleck for refusing to wear a ...</td>\n",
              "      <td>0</td>\n",
              "      <td>0</td>\n",
              "      <td>3.120894e-02</td>\n",
              "    </tr>\n",
              "    <tr>\n",
              "      <th>60913</th>\n",
              "      <td>RT @TAXSTONE: If YA bitch ex is a nigga u thin...</td>\n",
              "      <td>1</td>\n",
              "      <td>1</td>\n",
              "      <td>1.000000e+00</td>\n",
              "    </tr>\n",
              "    <tr>\n",
              "      <th>4524</th>\n",
              "      <td>@imcessfederico trillion yan ! Wala eh... Only...</td>\n",
              "      <td>0</td>\n",
              "      <td>1</td>\n",
              "      <td>8.307525e-01</td>\n",
              "    </tr>\n",
              "    <tr>\n",
              "      <th>16801</th>\n",
              "      <td>fathersdaymessage  #fathers #day #message buy...</td>\n",
              "      <td>0</td>\n",
              "      <td>0</td>\n",
              "      <td>3.983012e-07</td>\n",
              "    </tr>\n",
              "    <tr>\n",
              "      <th>40422</th>\n",
              "      <td>@user my woodpecker shot in this months issue...</td>\n",
              "      <td>0</td>\n",
              "      <td>0</td>\n",
              "      <td>4.512008e-04</td>\n",
              "    </tr>\n",
              "  </tbody>\n",
              "</table>\n",
              "<p>17370 rows × 4 columns</p>\n",
              "</div>"
            ],
            "text/plain": [
              "                                                    text  actual  predicted  \\\n",
              "5488   Di ako makapaniwala na pangalawa si Mar Roxas ...       1          1   \n",
              "50853  A lot of you niggas turned these bitches into ...       1          1   \n",
              "61636  RT @ZitlalyL: @Vic_Manzan0 just like you&#1280...       1          1   \n",
              "35506  our playground for the morning.  big bear tri ...       0          0   \n",
              "2918   \"@ellisluciano: Binay as President #ShortHorro...       1          1   \n",
              "...                                                  ...     ...        ...   \n",
              "56103  Mad respect to Affleck for refusing to wear a ...       0          0   \n",
              "60913  RT @TAXSTONE: If YA bitch ex is a nigga u thin...       1          1   \n",
              "4524   @imcessfederico trillion yan ! Wala eh... Only...       0          1   \n",
              "16801   fathersdaymessage  #fathers #day #message buy...       0          0   \n",
              "40422   @user my woodpecker shot in this months issue...       0          0   \n",
              "\n",
              "               prob  \n",
              "5488   9.999696e-01  \n",
              "50853  9.999998e-01  \n",
              "61636  1.000000e+00  \n",
              "35506  4.488642e-03  \n",
              "2918   5.873902e-01  \n",
              "...             ...  \n",
              "56103  3.120894e-02  \n",
              "60913  1.000000e+00  \n",
              "4524   8.307525e-01  \n",
              "16801  3.983012e-07  \n",
              "40422  4.512008e-04  \n",
              "\n",
              "[17370 rows x 4 columns]"
            ]
          },
          "execution_count": 55,
          "metadata": {},
          "output_type": "execute_result"
        }
      ],
      "source": [
        "# Build a data frame with the input text, actual class, predicted class, and the predicted probabilities.\n",
        "\n",
        "test_results_df = pd.DataFrame({'text': X_test, 'actual': y_test, 'predicted': y_pred_class, 'prob': y_pred_prob})\n",
        "test_results_df\n"
      ]
    },
    {
      "attachments": {},
      "cell_type": "markdown",
      "metadata": {
        "id": "6zSvXrzgYFS7"
      },
      "source": [
        "# 3 | Hypertuning the parameters."
      ]
    },
    {
      "attachments": {},
      "cell_type": "markdown",
      "metadata": {
        "id": "HeNzh4HVmVCy"
      },
      "source": [
        "Since our dataset also contains Filipino and TagLish entries, we decided to make a custom stopwords list that include these languages."
      ]
    },
    {
      "attachments": {},
      "cell_type": "markdown",
      "metadata": {
        "id": "TyyqW7C1YFS8"
      },
      "source": [
        "## Making a custom stop words."
      ]
    },
    {
      "cell_type": "code",
      "execution_count": 56,
      "metadata": {
        "id": "OyBUhkfoYFS8"
      },
      "outputs": [],
      "source": [
        "# Making a custom stop words list that includes the Filipino language.\n",
        "\n",
        "# Built-in English stop words.\n",
        "english_stop_words = CountVectorizer(stop_words='english').get_stop_words()\n",
        "\n",
        "# Generated by ChatGPT.\n",
        "filipino_stop_words1 = [\n",
        "    \"ako\", \"akin\", \"ako'y\", \"amin\", \"aming\", \"ang\", \"ano\", \"anuman\", \"apat\", \"at\", \"atin\", \"ating\",\n",
        "    \"ay\", \"bababa\", \"bago\", \"bakit\", \"bawat\", \"bilang\", \"dahil\", \"dalawa\", \"dapat\", \"din\", \"dito\", \"doon\",\n",
        "    \"gagawin\", \"gayunman\", \"ginagawa\", \"ginawa\", \"ginawang\", \"gumawa\", \"gusto\", \"habang\", \"hanggang\", \"hindi\", \"huwag\", \"iba\",\n",
        "    \"ibaba\", \"ibabaw\", \"ibig\", \"ikaw\", \"ilagay\", \"ilalim\", \"ilan\", \"inyong\", \"isa\", \"isang\", \"ito\", \"iyo\",\n",
        "    \"iyon\", \"iyong\", \"ka\", \"kahit\", \"kailangan\", \"kailanman\", \"kami\", \"kanila\", \"kanilang\", \"kanino\", \"kanya\", \"kanyang\",\n",
        "    \"kapag\", \"kapwa\", \"karamihan\", \"katiyakan\", \"katulad\", \"kay\", \"kaya\", \"kaysa\", \"ko\", \"kung\", \"laban\",\n",
        "    \"lahat\", \"lamang\", \"likod\", \"lima\", \"maaari\", \"maaaring\", \"maging\", \"mahusay\", \"makita\", \"marami\", \"marapat\", \"mga\",\n",
        "    \"minsan\", \"mismo\", \"mula\", \"muli\", \"na\", \"nabanggit\", \"naging\", \"nagkaroon\", \"nais\", \"nakita\", \"namin\", \"napaka\",\n",
        "    \"narito\", \"nasaan\", \"ng\", \"nga\", \"ngayon\", \"ni\", \"nila\", \"nilang\", \"nito\", \"niya\", \"niyang\", \"noon\",\n",
        "    \"o\", \"pag\", \"pala\", \"para\", \"pati\", \"pero\", \"pumunta\", \"pumupunta\", \"sa\", \"saan\", \"sabi\", \"sabihin\",\n",
        "    \"sarili\", \"si\", \"sila\", \"sino\", \"siya\", \"tatlo\", \"tayo\", \"tulad\", \"tungkol\", \"una\", \"walang\"\n",
        "]\n",
        "\n",
        "# From an open-source GitHub repo (ref: https://github.com/stopwords-iso/stopwords-tl).\n",
        "filipino_stop_words2 = [\n",
        "    'ako', 'sa', 'akin', 'ko', 'aking', 'sarili', 'kami', 'atin', 'ang', 'aming', 'amin', 'ating',\n",
        "    'ka', 'iyong', 'iyo', 'inyong', 'siya', 'kanya', 'mismo', 'ito', 'nito', 'kanyang', 'sila', 'nila',\n",
        "    'kanila', 'kanilang', 'kung', 'ano', 'alin', 'sino', 'kanino', 'na', 'mga', 'iyon', 'am', 'ay',\n",
        "    'maging', 'naging', 'mayroon', 'may', 'nagkaroon', 'pagkakaroon', 'gumawa', 'ginagawa', 'ginawa', 'paggawa',\n",
        "    'ibig', 'dapat', 'maaari', 'marapat', 'kong', 'ikaw', 'tayo', 'hindi', 'namin', 'gusto', 'nais',\n",
        "    'niyang', 'nilang', 'niya', 'huwag', 'ginawang', 'gagawin', 'maaaring', 'sabihin', 'narito', 'kapag', 'ni',\n",
        "    'nasaan', 'bakit', 'paano', 'kailangan', 'walang', 'katiyakan', 'isang', 'at', 'pero', 'o', 'dahil',\n",
        "    'bilang', 'hanggang', 'habang', 'ng', 'pamamagitan', 'para', 'tungkol', 'laban', 'pagitan', 'panahon', 'bago',\n",
        "    'pagkatapos', 'itaas', 'ibaba', 'mula', 'pataas', 'pababa', 'palabas', 'ibabaw', 'ilalim', 'muli', 'pa',\n",
        "    'minsan', 'dito', 'doon', 'saan', 'lahat', 'anumang', 'kapwa', 'bawat', 'ilan', 'karamihan', 'iba', 'tulad',\n",
        "    'lamang', 'pareho', 'kaya', 'kaysa', 'masyado', 'napaka', 'isa', 'bababa', 'kulang', 'marami', 'ngayon',\n",
        "    'kailanman', 'sabi', 'nabanggit', 'din', 'kumuha', 'pumunta', 'pumupunta', 'ilagay', 'makita', 'nakita',\n",
        "    'katulad', 'mahusay', 'likod', 'kahit', 'paraan', 'noon', 'gayunman', 'dalawa', 'tatlo', 'apat', 'lima',\n",
        "    'una', 'pangalawa'\n",
        "]\n",
        "\n",
        "# Get the union of the two filipino stop words lists.\n",
        "filipino_stop_words = list(set(filipino_stop_words1).union(set(filipino_stop_words2)))\n",
        "\n",
        "# Get the union of the english and filipino stop words lists.\n",
        "custom_stop_words = list(english_stop_words.union(filipino_stop_words))\n"
      ]
    },
    {
      "attachments": {},
      "cell_type": "markdown",
      "metadata": {
        "id": "1z_llSMBYFS8"
      },
      "source": [
        "## Search for the optimal parameters."
      ]
    },
    {
      "cell_type": "code",
      "execution_count": null,
      "metadata": {
        "id": "Zr-B9-RkYFS8",
        "outputId": "44610b39-796b-4ab9-fdc1-422dc3b3b311"
      },
      "outputs": [
        {
          "name": "stdout",
          "output_type": "stream",
          "text": [
            "Fitting 5 folds for each of 192 candidates, totalling 960 fits\n"
          ]
        },
        {
          "data": {
            "text/plain": [
              "{'cvec__max_df': 0.2,\n",
              " 'cvec__min_df': 2,\n",
              " 'cvec__ngram_range': (1, 2),\n",
              " 'cvec__stop_words': ['sabi',\n",
              "  'pumunta',\n",
              "  'however',\n",
              "  'yours',\n",
              "  'down',\n",
              "  'una',\n",
              "  'due',\n",
              "  'meanwhile',\n",
              "  'together',\n",
              "  'with',\n",
              "  'after',\n",
              "  'sarili',\n",
              "  'kapwa',\n",
              "  'had',\n",
              "  'anything',\n",
              "  'back',\n",
              "  'he',\n",
              "  'itaas',\n",
              "  'eleven',\n",
              "  'as',\n",
              "  'against',\n",
              "  'four',\n",
              "  'much',\n",
              "  'per',\n",
              "  'someone',\n",
              "  'whole',\n",
              "  'along',\n",
              "  'but',\n",
              "  'around',\n",
              "  'six',\n",
              "  'hindi',\n",
              "  'kahit',\n",
              "  'panahon',\n",
              "  'tulad',\n",
              "  'kanilang',\n",
              "  'maaaring',\n",
              "  'latter',\n",
              "  'ginawang',\n",
              "  'now',\n",
              "  'perhaps',\n",
              "  'she',\n",
              "  'ilan',\n",
              "  'nothing',\n",
              "  'indeed',\n",
              "  'thence',\n",
              "  'not',\n",
              "  'front',\n",
              "  'through',\n",
              "  'many',\n",
              "  'sino',\n",
              "  'gayunman',\n",
              "  'we',\n",
              "  'ako',\n",
              "  'sila',\n",
              "  'detail',\n",
              "  'saan',\n",
              "  'bawat',\n",
              "  'do',\n",
              "  'therefore',\n",
              "  'interest',\n",
              "  'move',\n",
              "  'amount',\n",
              "  'towards',\n",
              "  'whither',\n",
              "  'where',\n",
              "  'you',\n",
              "  'noone',\n",
              "  'atin',\n",
              "  'thereby',\n",
              "  'isang',\n",
              "  'para',\n",
              "  'whence',\n",
              "  'cry',\n",
              "  'his',\n",
              "  'whenever',\n",
              "  'fifteen',\n",
              "  'hanggang',\n",
              "  'seeming',\n",
              "  'at',\n",
              "  'kung',\n",
              "  'marami',\n",
              "  'while',\n",
              "  'or',\n",
              "  'everyone',\n",
              "  'noon',\n",
              "  'then',\n",
              "  'within',\n",
              "  'sincere',\n",
              "  're',\n",
              "  'thereupon',\n",
              "  'habang',\n",
              "  'anyone',\n",
              "  'latterly',\n",
              "  'pagkatapos',\n",
              "  'own',\n",
              "  'is',\n",
              "  'ibig',\n",
              "  'might',\n",
              "  'ni',\n",
              "  'from',\n",
              "  'further',\n",
              "  'nais',\n",
              "  'empty',\n",
              "  'became',\n",
              "  'why',\n",
              "  'pataas',\n",
              "  'any',\n",
              "  'bilang',\n",
              "  'kanino',\n",
              "  'kaysa',\n",
              "  'con',\n",
              "  'none',\n",
              "  'ours',\n",
              "  'when',\n",
              "  'eight',\n",
              "  'apat',\n",
              "  'mula',\n",
              "  'whatever',\n",
              "  'inc',\n",
              "  'put',\n",
              "  'him',\n",
              "  'whereupon',\n",
              "  'by',\n",
              "  'laban',\n",
              "  'describe',\n",
              "  'found',\n",
              "  'also',\n",
              "  'nevertheless',\n",
              "  'those',\n",
              "  'whereafter',\n",
              "  'gusto',\n",
              "  'are',\n",
              "  'anumang',\n",
              "  'for',\n",
              "  'paraan',\n",
              "  'between',\n",
              "  'herself',\n",
              "  'again',\n",
              "  'other',\n",
              "  'beside',\n",
              "  'kumuha',\n",
              "  'kong',\n",
              "  'alin',\n",
              "  'wherever',\n",
              "  'made',\n",
              "  'they',\n",
              "  'will',\n",
              "  'three',\n",
              "  'sometimes',\n",
              "  'aking',\n",
              "  'rather',\n",
              "  'same',\n",
              "  'few',\n",
              "  'there',\n",
              "  'should',\n",
              "  'without',\n",
              "  'un',\n",
              "  'almost',\n",
              "  'more',\n",
              "  'toward',\n",
              "  'mga',\n",
              "  'afterwards',\n",
              "  'thereafter',\n",
              "  'paano',\n",
              "  'nasaan',\n",
              "  'ano',\n",
              "  'others',\n",
              "  'iyo',\n",
              "  'ngayon',\n",
              "  'twenty',\n",
              "  'co',\n",
              "  'twelve',\n",
              "  'kami',\n",
              "  'itself',\n",
              "  'de',\n",
              "  'her',\n",
              "  'here',\n",
              "  'until',\n",
              "  'on',\n",
              "  'give',\n",
              "  'else',\n",
              "  'already',\n",
              "  'amoungst',\n",
              "  'niya',\n",
              "  'whoever',\n",
              "  'if',\n",
              "  'me',\n",
              "  'take',\n",
              "  'these',\n",
              "  'yourselves',\n",
              "  'kulang',\n",
              "  'pagitan',\n",
              "  'hasnt',\n",
              "  'amongst',\n",
              "  'them',\n",
              "  'would',\n",
              "  'amin',\n",
              "  'behind',\n",
              "  'been',\n",
              "  'show',\n",
              "  'ever',\n",
              "  'serious',\n",
              "  'couldnt',\n",
              "  'because',\n",
              "  'nakita',\n",
              "  'how',\n",
              "  'next',\n",
              "  'anywhere',\n",
              "  'himself',\n",
              "  'hereupon',\n",
              "  'ginagawa',\n",
              "  'iyong',\n",
              "  \"ako'y\",\n",
              "  'inyong',\n",
              "  'beyond',\n",
              "  'being',\n",
              "  'can',\n",
              "  'lamang',\n",
              "  'always',\n",
              "  'everywhere',\n",
              "  'fifty',\n",
              "  'tayo',\n",
              "  'bill',\n",
              "  'whereby',\n",
              "  'who',\n",
              "  'i',\n",
              "  'bago',\n",
              "  'former',\n",
              "  'forty',\n",
              "  'the',\n",
              "  'what',\n",
              "  'thin',\n",
              "  'otherwise',\n",
              "  'walang',\n",
              "  'an',\n",
              "  'part',\n",
              "  'some',\n",
              "  'karamihan',\n",
              "  'every',\n",
              "  'of',\n",
              "  'upon',\n",
              "  'pababa',\n",
              "  'off',\n",
              "  'ten',\n",
              "  'beforehand',\n",
              "  'kapag',\n",
              "  'anuman',\n",
              "  'several',\n",
              "  'pagkakaroon',\n",
              "  'pero',\n",
              "  'namin',\n",
              "  'pumupunta',\n",
              "  'side',\n",
              "  'very',\n",
              "  'only',\n",
              "  'thick',\n",
              "  'ang',\n",
              "  'gumawa',\n",
              "  'hereafter',\n",
              "  'dahil',\n",
              "  'masyado',\n",
              "  'herein',\n",
              "  'marapat',\n",
              "  'kanya',\n",
              "  'etc',\n",
              "  'last',\n",
              "  'na',\n",
              "  'during',\n",
              "  'least',\n",
              "  'your',\n",
              "  'name',\n",
              "  'go',\n",
              "  'paggawa',\n",
              "  'besides',\n",
              "  'though',\n",
              "  'could',\n",
              "  'over',\n",
              "  'minsan',\n",
              "  'and',\n",
              "  'than',\n",
              "  'pala',\n",
              "  'were',\n",
              "  'maaari',\n",
              "  'ibabaw',\n",
              "  'siya',\n",
              "  'become',\n",
              "  'ito',\n",
              "  'makita',\n",
              "  'nabanggit',\n",
              "  'nor',\n",
              "  'formerly',\n",
              "  'hundred',\n",
              "  'aming',\n",
              "  'napaka',\n",
              "  'katiyakan',\n",
              "  'nagkaroon',\n",
              "  'myself',\n",
              "  'no',\n",
              "  'moreover',\n",
              "  'ka',\n",
              "  'katulad',\n",
              "  'see',\n",
              "  'bakit',\n",
              "  'lima',\n",
              "  'our',\n",
              "  'am',\n",
              "  'ibaba',\n",
              "  'has',\n",
              "  'kailangan',\n",
              "  'narito',\n",
              "  'was',\n",
              "  'pati',\n",
              "  'five',\n",
              "  'mayroon',\n",
              "  'must',\n",
              "  'eg',\n",
              "  'ikaw',\n",
              "  'dito',\n",
              "  'its',\n",
              "  'kaya',\n",
              "  'ie',\n",
              "  'each',\n",
              "  'yet',\n",
              "  'in',\n",
              "  'sometime',\n",
              "  'anyway',\n",
              "  'tungkol',\n",
              "  'ating',\n",
              "  'lahat',\n",
              "  'my',\n",
              "  'before',\n",
              "  'once',\n",
              "  'under',\n",
              "  'please',\n",
              "  'seemed',\n",
              "  'up',\n",
              "  'never',\n",
              "  'ourselves',\n",
              "  'most',\n",
              "  'full',\n",
              "  'have',\n",
              "  'likod',\n",
              "  'mismo',\n",
              "  'muli',\n",
              "  'mahusay',\n",
              "  'doon',\n",
              "  'hers',\n",
              "  'therein',\n",
              "  'mine',\n",
              "  'pag',\n",
              "  'find',\n",
              "  'fire',\n",
              "  'may',\n",
              "  'which',\n",
              "  'dapat',\n",
              "  'still',\n",
              "  'huwag',\n",
              "  'it',\n",
              "  'so',\n",
              "  'nobody',\n",
              "  'via',\n",
              "  'nila',\n",
              "  'din',\n",
              "  'either',\n",
              "  'top',\n",
              "  'something',\n",
              "  'well',\n",
              "  'above',\n",
              "  'bababa',\n",
              "  'ay',\n",
              "  'yourself',\n",
              "  'whether',\n",
              "  'sa',\n",
              "  'whereas',\n",
              "  'wherein',\n",
              "  'cant',\n",
              "  'ng',\n",
              "  'kanyang',\n",
              "  'first',\n",
              "  'kailanman',\n",
              "  'onto',\n",
              "  'ilagay',\n",
              "  'gagawin',\n",
              "  'that',\n",
              "  'us',\n",
              "  'becoming',\n",
              "  'even',\n",
              "  'among',\n",
              "  'two',\n",
              "  'naging',\n",
              "  'thru',\n",
              "  'into',\n",
              "  'o',\n",
              "  'somewhere',\n",
              "  'be',\n",
              "  'their',\n",
              "  'sixty',\n",
              "  'alone',\n",
              "  'hence',\n",
              "  'nowhere',\n",
              "  'mostly',\n",
              "  'fill',\n",
              "  'becomes',\n",
              "  'seems',\n",
              "  'bottom',\n",
              "  'about',\n",
              "  'elsewhere',\n",
              "  'iba',\n",
              "  'ltd',\n",
              "  'maging',\n",
              "  'iyon',\n",
              "  'nine',\n",
              "  'cannot',\n",
              "  'done',\n",
              "  'system',\n",
              "  'niyang',\n",
              "  'akin',\n",
              "  'ginawa',\n",
              "  'somehow',\n",
              "  'tatlo',\n",
              "  'both',\n",
              "  'sabihin',\n",
              "  'ko',\n",
              "  'dalawa',\n",
              "  'too',\n",
              "  'themselves',\n",
              "  'although',\n",
              "  'kanila',\n",
              "  'keep',\n",
              "  'nito',\n",
              "  'out',\n",
              "  'si',\n",
              "  'to',\n",
              "  'this',\n",
              "  'everything',\n",
              "  'nga',\n",
              "  'one',\n",
              "  'enough',\n",
              "  'pa',\n",
              "  'whom',\n",
              "  'neither',\n",
              "  'below',\n",
              "  'another',\n",
              "  'less',\n",
              "  'hereby',\n",
              "  'isa',\n",
              "  'namely',\n",
              "  'thus',\n",
              "  'pareho',\n",
              "  'get',\n",
              "  'since',\n",
              "  'seem',\n",
              "  'ilalim',\n",
              "  'pamamagitan',\n",
              "  'nilang',\n",
              "  'kay',\n",
              "  'throughout',\n",
              "  'a',\n",
              "  'except',\n",
              "  'whose',\n",
              "  'anyhow',\n",
              "  'such',\n",
              "  'third',\n",
              "  'often',\n",
              "  'call',\n",
              "  'across',\n",
              "  'palabas',\n",
              "  'pangalawa',\n",
              "  'all',\n",
              "  'mill'],\n",
              " 'mnb__alpha': 1.0}"
            ]
          },
          "execution_count": 57,
          "metadata": {},
          "output_type": "execute_result"
        }
      ],
      "source": [
        "# Hyperparameter tuning using GridSearchCV.\n",
        "\n",
        "from sklearn.model_selection import GridSearchCV\n",
        "from sklearn.pipeline import Pipeline\n",
        "\n",
        "# Create a pipeline with CountVectorizer and MultinomialNB.\n",
        "pipe = Pipeline([\n",
        "    ('cvec', CountVectorizer()),\n",
        "    ('mnb', MultinomialNB())\n",
        "])\n",
        "\n",
        "# Create a dictionary of parameters to search.\n",
        "params = {\n",
        "    'cvec__stop_words': [custom_stop_words],\n",
        "    'cvec__ngram_range': [(1, 1), (1, 2), (1, 3)],\n",
        "    'cvec__min_df': [1, 2, 3, 4],\n",
        "    'cvec__max_df': [0.01, 0.1, 0.2, 0.3],\n",
        "    'mnb__alpha': [0.01, 0.1, 1.0, 10.0],\n",
        "}\n",
        "\n",
        "# Instantiate GridSearchCV.\n",
        "gs = GridSearchCV(pipe, param_grid=params, cv=5, verbose=2, n_jobs=-1, scoring='accuracy', refit=True)\n",
        "\n",
        "# Fit GridSearch to training data.\n",
        "gs.fit(X_train, y_train)\n",
        "gs.best_params_"
      ]
    },
    {
      "attachments": {},
      "cell_type": "markdown",
      "metadata": {
        "id": "CwXRUzJ2YFS8"
      },
      "source": [
        "# 4 | Using the new parameters."
      ]
    },
    {
      "attachments": {},
      "cell_type": "markdown",
      "metadata": {
        "id": "isX_lNYRYFS8"
      },
      "source": [
        "## Building the model."
      ]
    },
    {
      "cell_type": "code",
      "execution_count": 57,
      "metadata": {
        "id": "-b2JcjCHYFS8",
        "outputId": "29ad5ff4-17db-44f5-de75-dd2759379915"
      },
      "outputs": [
        {
          "data": {
            "text/html": [
              "<style>#sk-container-id-3 {color: black;background-color: white;}#sk-container-id-3 pre{padding: 0;}#sk-container-id-3 div.sk-toggleable {background-color: white;}#sk-container-id-3 label.sk-toggleable__label {cursor: pointer;display: block;width: 100%;margin-bottom: 0;padding: 0.3em;box-sizing: border-box;text-align: center;}#sk-container-id-3 label.sk-toggleable__label-arrow:before {content: \"▸\";float: left;margin-right: 0.25em;color: #696969;}#sk-container-id-3 label.sk-toggleable__label-arrow:hover:before {color: black;}#sk-container-id-3 div.sk-estimator:hover label.sk-toggleable__label-arrow:before {color: black;}#sk-container-id-3 div.sk-toggleable__content {max-height: 0;max-width: 0;overflow: hidden;text-align: left;background-color: #f0f8ff;}#sk-container-id-3 div.sk-toggleable__content pre {margin: 0.2em;color: black;border-radius: 0.25em;background-color: #f0f8ff;}#sk-container-id-3 input.sk-toggleable__control:checked~div.sk-toggleable__content {max-height: 200px;max-width: 100%;overflow: auto;}#sk-container-id-3 input.sk-toggleable__control:checked~label.sk-toggleable__label-arrow:before {content: \"▾\";}#sk-container-id-3 div.sk-estimator input.sk-toggleable__control:checked~label.sk-toggleable__label {background-color: #d4ebff;}#sk-container-id-3 div.sk-label input.sk-toggleable__control:checked~label.sk-toggleable__label {background-color: #d4ebff;}#sk-container-id-3 input.sk-hidden--visually {border: 0;clip: rect(1px 1px 1px 1px);clip: rect(1px, 1px, 1px, 1px);height: 1px;margin: -1px;overflow: hidden;padding: 0;position: absolute;width: 1px;}#sk-container-id-3 div.sk-estimator {font-family: monospace;background-color: #f0f8ff;border: 1px dotted black;border-radius: 0.25em;box-sizing: border-box;margin-bottom: 0.5em;}#sk-container-id-3 div.sk-estimator:hover {background-color: #d4ebff;}#sk-container-id-3 div.sk-parallel-item::after {content: \"\";width: 100%;border-bottom: 1px solid gray;flex-grow: 1;}#sk-container-id-3 div.sk-label:hover label.sk-toggleable__label {background-color: #d4ebff;}#sk-container-id-3 div.sk-serial::before {content: \"\";position: absolute;border-left: 1px solid gray;box-sizing: border-box;top: 0;bottom: 0;left: 50%;z-index: 0;}#sk-container-id-3 div.sk-serial {display: flex;flex-direction: column;align-items: center;background-color: white;padding-right: 0.2em;padding-left: 0.2em;position: relative;}#sk-container-id-3 div.sk-item {position: relative;z-index: 1;}#sk-container-id-3 div.sk-parallel {display: flex;align-items: stretch;justify-content: center;background-color: white;position: relative;}#sk-container-id-3 div.sk-item::before, #sk-container-id-3 div.sk-parallel-item::before {content: \"\";position: absolute;border-left: 1px solid gray;box-sizing: border-box;top: 0;bottom: 0;left: 50%;z-index: -1;}#sk-container-id-3 div.sk-parallel-item {display: flex;flex-direction: column;z-index: 1;position: relative;background-color: white;}#sk-container-id-3 div.sk-parallel-item:first-child::after {align-self: flex-end;width: 50%;}#sk-container-id-3 div.sk-parallel-item:last-child::after {align-self: flex-start;width: 50%;}#sk-container-id-3 div.sk-parallel-item:only-child::after {width: 0;}#sk-container-id-3 div.sk-dashed-wrapped {border: 1px dashed gray;margin: 0 0.4em 0.5em 0.4em;box-sizing: border-box;padding-bottom: 0.4em;background-color: white;}#sk-container-id-3 div.sk-label label {font-family: monospace;font-weight: bold;display: inline-block;line-height: 1.2em;}#sk-container-id-3 div.sk-label-container {text-align: center;}#sk-container-id-3 div.sk-container {/* jupyter's `normalize.less` sets `[hidden] { display: none; }` but bootstrap.min.css set `[hidden] { display: none !important; }` so we also need the `!important` here to be able to override the default hidden behavior on the sphinx rendered scikit-learn.org. See: https://github.com/scikit-learn/scikit-learn/issues/21755 */display: inline-block !important;position: relative;}#sk-container-id-3 div.sk-text-repr-fallback {display: none;}</style><div id=\"sk-container-id-3\" class=\"sk-top-container\"><div class=\"sk-text-repr-fallback\"><pre>MultinomialNB()</pre><b>In a Jupyter environment, please rerun this cell to show the HTML representation or trust the notebook. <br />On GitHub, the HTML representation is unable to render, please try loading this page with nbviewer.org.</b></div><div class=\"sk-container\" hidden><div class=\"sk-item\"><div class=\"sk-estimator sk-toggleable\"><input class=\"sk-toggleable__control sk-hidden--visually\" id=\"sk-estimator-id-3\" type=\"checkbox\" checked><label for=\"sk-estimator-id-3\" class=\"sk-toggleable__label sk-toggleable__label-arrow\">MultinomialNB</label><div class=\"sk-toggleable__content\"><pre>MultinomialNB()</pre></div></div></div></div></div>"
            ],
            "text/plain": [
              "MultinomialNB()"
            ]
          },
          "execution_count": 57,
          "metadata": {},
          "output_type": "execute_result"
        }
      ],
      "source": [
        "# Build a new model using the best parameters.\n",
        "\n",
        "cvect = CountVectorizer(stop_words=custom_stop_words, ngram_range=(1, 2), max_df=0.2, min_df=2, lowercase=False, binary=True)\n",
        "mnb = MultinomialNB(alpha=1.0)\n",
        "\n",
        "# Vectorize the data.\n",
        "X_train_dtm = cvect.fit_transform(X_train)\n",
        "X_test_dtm = cvect.transform(X_test)\n",
        "\n",
        "# Fit the data to the model.\n",
        "mnb.fit(X_train_dtm, y_train)"
      ]
    },
    {
      "attachments": {},
      "cell_type": "markdown",
      "metadata": {
        "id": "lbtVeKtjYFS8"
      },
      "source": [
        "## Evaluating the model."
      ]
    },
    {
      "cell_type": "code",
      "execution_count": 58,
      "metadata": {
        "id": "fGsH_ijqYFS8"
      },
      "outputs": [],
      "source": [
        "# Make class predictions for the X_test_dtm. Store it in the y_pred_class variable.\n",
        "y_pred_class = mnb.predict(X_test_dtm)"
      ]
    },
    {
      "cell_type": "code",
      "execution_count": 59,
      "metadata": {
        "id": "yryK5FD3YFS9",
        "outputId": "3099cf0c-b3c0-40bf-c05d-34b041fb3f62"
      },
      "outputs": [
        {
          "data": {
            "text/plain": [
              "0.8709268854346575"
            ]
          },
          "execution_count": 59,
          "metadata": {},
          "output_type": "execute_result"
        }
      ],
      "source": [
        "\n",
        "metrics.accuracy_score(y_test, y_pred_class)"
      ]
    },
    {
      "cell_type": "code",
      "execution_count": 61,
      "metadata": {
        "id": "WhyDUgf8YFS9",
        "outputId": "327808be-7c12-44b8-bfed-532be15787ab"
      },
      "outputs": [
        {
          "data": {
            "text/plain": [
              "array([[8495, 1305],\n",
              "       [ 937, 6633]], dtype=int64)"
            ]
          },
          "execution_count": 61,
          "metadata": {},
          "output_type": "execute_result"
        },
        {
          "data": {
            "image/png": "[encoded data removed]",
            "text/plain": [
              "<Figure size 640x480 with 1 Axes>"
            ]
          },
          "metadata": {},
          "output_type": "display_data"
        }
      ],
      "source": [
        "mat = confusion_matrix(y_test, y_pred_class)\n",
        "sns.heatmap(mat.T, square=True, annot=True, fmt='d', cbar=False, \n",
        "            xticklabels=['Not Toxic', 'Toxic'], yticklabels=['Not Toxic', 'Toxic'])\n",
        "plt.xlabel('True Label')\n",
        "plt.ylabel('Predicted Label')\n",
        "\n",
        "metrics.confusion_matrix(y_test, y_pred_class)"
      ]
    },
    {
      "cell_type": "code",
      "execution_count": 62,
      "metadata": {
        "id": "w-yTunCvYFS9",
        "outputId": "b72a063e-4a5c-4dc6-be98-cc705efbf0f0"
      },
      "outputs": [
        {
          "name": "stdout",
          "output_type": "stream",
          "text": [
            "              precision    recall  f1-score   support\n",
            "\n",
            "           0       0.90      0.87      0.88      9800\n",
            "           1       0.84      0.88      0.86      7570\n",
            "\n",
            "    accuracy                           0.87     17370\n",
            "   macro avg       0.87      0.87      0.87     17370\n",
            "weighted avg       0.87      0.87      0.87     17370\n",
            "\n"
          ]
        }
      ],
      "source": [
        "print(classification_report(y_test, y_pred_class))"
      ]
    },
    {
      "cell_type": "code",
      "execution_count": 63,
      "metadata": {
        "id": "fsjvOBwVYFS9",
        "outputId": "8318f853-3cb9-409f-e740-e1aa465e700d"
      },
      "outputs": [
        {
          "data": {
            "text/plain": [
              "array([[7.55255859e-03, 9.92447441e-01],\n",
              "       [1.15466699e-06, 9.99998845e-01],\n",
              "       [4.16633513e-10, 1.00000000e+00],\n",
              "       ...,\n",
              "       [8.71676839e-02, 9.12832316e-01],\n",
              "       [1.00000000e+00, 2.77420961e-11],\n",
              "       [9.93314764e-01, 6.68523605e-03]])"
            ]
          },
          "execution_count": 63,
          "metadata": {},
          "output_type": "execute_result"
        }
      ],
      "source": [
        "raw = mnb.predict_proba(X_test_dtm)\n",
        "raw"
      ]
    },
    {
      "cell_type": "code",
      "execution_count": 64,
      "metadata": {
        "id": "0YqaXFCnYFS9",
        "outputId": "ea478193-3118-4648-a230-087f7b0da4fb"
      },
      "outputs": [
        {
          "data": {
            "text/plain": [
              "array([7.55255859e-03, 1.15466699e-06, 4.16633513e-10, ...,\n",
              "       8.71676839e-02, 1.00000000e+00, 9.93314764e-01])"
            ]
          },
          "execution_count": 64,
          "metadata": {},
          "output_type": "execute_result"
        }
      ],
      "source": [
        "# Show the predicted probabilities for the X_test_dtm (non-toxic class).\n",
        "\n",
        "y_pred_prob_non_toxic_class = mnb.predict_proba(X_test_dtm)[:, 0]\n",
        "y_pred_prob_non_toxic_class"
      ]
    },
    {
      "cell_type": "code",
      "execution_count": 65,
      "metadata": {
        "id": "Nc8vKTgRYFS9",
        "outputId": "88bf7d90-1abb-44ae-d08f-f3da09a13d84"
      },
      "outputs": [
        {
          "data": {
            "text/plain": [
              "array([9.92447441e-01, 9.99998845e-01, 1.00000000e+00, ...,\n",
              "       9.12832316e-01, 2.77420961e-11, 6.68523605e-03])"
            ]
          },
          "execution_count": 65,
          "metadata": {},
          "output_type": "execute_result"
        }
      ],
      "source": [
        "# Show the predicted probabilities for the X_test_dtm (toxic class).\n",
        "\n",
        "y_pred_prob_toxic_class = mnb.predict_proba(X_test_dtm)[:, 1]\n",
        "y_pred_prob_toxic_class"
      ]
    },
    {
      "cell_type": "code",
      "execution_count": 66,
      "metadata": {
        "id": "p2wFoXqrYFS9",
        "outputId": "a286de4a-c1a6-4b74-e3c8-d948d6f98a25"
      },
      "outputs": [
        {
          "data": {
            "text/html": [
              "<div>\n",
              "<style scoped>\n",
              "    .dataframe tbody tr th:only-of-type {\n",
              "        vertical-align: middle;\n",
              "    }\n",
              "\n",
              "    .dataframe tbody tr th {\n",
              "        vertical-align: top;\n",
              "    }\n",
              "\n",
              "    .dataframe thead th {\n",
              "        text-align: right;\n",
              "    }\n",
              "</style>\n",
              "<table border=\"1\" class=\"dataframe\">\n",
              "  <thead>\n",
              "    <tr style=\"text-align: right;\">\n",
              "      <th></th>\n",
              "      <th>text</th>\n",
              "      <th>actual</th>\n",
              "      <th>predicted</th>\n",
              "      <th>prob_non_toxic</th>\n",
              "      <th>prob_toxic</th>\n",
              "    </tr>\n",
              "  </thead>\n",
              "  <tbody>\n",
              "    <tr>\n",
              "      <th>0</th>\n",
              "      <td>Di ako makapaniwala na pangalawa si Mar Roxas ...</td>\n",
              "      <td>1</td>\n",
              "      <td>1</td>\n",
              "      <td>7.552559e-03</td>\n",
              "      <td>9.924474e-01</td>\n",
              "    </tr>\n",
              "    <tr>\n",
              "      <th>1</th>\n",
              "      <td>A lot of you niggas turned these bitches into ...</td>\n",
              "      <td>1</td>\n",
              "      <td>1</td>\n",
              "      <td>1.154667e-06</td>\n",
              "      <td>9.999988e-01</td>\n",
              "    </tr>\n",
              "    <tr>\n",
              "      <th>2</th>\n",
              "      <td>RT @ZitlalyL: @Vic_Manzan0 just like you&amp;#1280...</td>\n",
              "      <td>1</td>\n",
              "      <td>1</td>\n",
              "      <td>4.166335e-10</td>\n",
              "      <td>1.000000e+00</td>\n",
              "    </tr>\n",
              "    <tr>\n",
              "      <th>3</th>\n",
              "      <td>our playground for the morning.  big bear tri ...</td>\n",
              "      <td>0</td>\n",
              "      <td>0</td>\n",
              "      <td>9.396200e-01</td>\n",
              "      <td>6.038000e-02</td>\n",
              "    </tr>\n",
              "    <tr>\n",
              "      <th>4</th>\n",
              "      <td>\"@ellisluciano: Binay as President #ShortHorro...</td>\n",
              "      <td>1</td>\n",
              "      <td>0</td>\n",
              "      <td>7.096837e-01</td>\n",
              "      <td>2.903163e-01</td>\n",
              "    </tr>\n",
              "    <tr>\n",
              "      <th>...</th>\n",
              "      <td>...</td>\n",
              "      <td>...</td>\n",
              "      <td>...</td>\n",
              "      <td>...</td>\n",
              "      <td>...</td>\n",
              "    </tr>\n",
              "    <tr>\n",
              "      <th>17365</th>\n",
              "      <td>Mad respect to Affleck for refusing to wear a ...</td>\n",
              "      <td>0</td>\n",
              "      <td>0</td>\n",
              "      <td>9.530769e-01</td>\n",
              "      <td>4.692311e-02</td>\n",
              "    </tr>\n",
              "    <tr>\n",
              "      <th>17366</th>\n",
              "      <td>RT @TAXSTONE: If YA bitch ex is a nigga u thin...</td>\n",
              "      <td>1</td>\n",
              "      <td>1</td>\n",
              "      <td>5.077755e-13</td>\n",
              "      <td>1.000000e+00</td>\n",
              "    </tr>\n",
              "    <tr>\n",
              "      <th>17367</th>\n",
              "      <td>@imcessfederico trillion yan ! Wala eh... Only...</td>\n",
              "      <td>0</td>\n",
              "      <td>1</td>\n",
              "      <td>8.716768e-02</td>\n",
              "      <td>9.128323e-01</td>\n",
              "    </tr>\n",
              "    <tr>\n",
              "      <th>17368</th>\n",
              "      <td>fathersdaymessage  #fathers #day #message buy...</td>\n",
              "      <td>0</td>\n",
              "      <td>0</td>\n",
              "      <td>1.000000e+00</td>\n",
              "      <td>2.774210e-11</td>\n",
              "    </tr>\n",
              "    <tr>\n",
              "      <th>17369</th>\n",
              "      <td>@user my woodpecker shot in this months issue...</td>\n",
              "      <td>0</td>\n",
              "      <td>0</td>\n",
              "      <td>9.933148e-01</td>\n",
              "      <td>6.685236e-03</td>\n",
              "    </tr>\n",
              "  </tbody>\n",
              "</table>\n",
              "<p>17370 rows × 5 columns</p>\n",
              "</div>"
            ],
            "text/plain": [
              "                                                    text  actual  predicted  \\\n",
              "0      Di ako makapaniwala na pangalawa si Mar Roxas ...       1          1   \n",
              "1      A lot of you niggas turned these bitches into ...       1          1   \n",
              "2      RT @ZitlalyL: @Vic_Manzan0 just like you&#1280...       1          1   \n",
              "3      our playground for the morning.  big bear tri ...       0          0   \n",
              "4      \"@ellisluciano: Binay as President #ShortHorro...       1          0   \n",
              "...                                                  ...     ...        ...   \n",
              "17365  Mad respect to Affleck for refusing to wear a ...       0          0   \n",
              "17366  RT @TAXSTONE: If YA bitch ex is a nigga u thin...       1          1   \n",
              "17367  @imcessfederico trillion yan ! Wala eh... Only...       0          1   \n",
              "17368   fathersdaymessage  #fathers #day #message buy...       0          0   \n",
              "17369   @user my woodpecker shot in this months issue...       0          0   \n",
              "\n",
              "       prob_non_toxic    prob_toxic  \n",
              "0        7.552559e-03  9.924474e-01  \n",
              "1        1.154667e-06  9.999988e-01  \n",
              "2        4.166335e-10  1.000000e+00  \n",
              "3        9.396200e-01  6.038000e-02  \n",
              "4        7.096837e-01  2.903163e-01  \n",
              "...               ...           ...  \n",
              "17365    9.530769e-01  4.692311e-02  \n",
              "17366    5.077755e-13  1.000000e+00  \n",
              "17367    8.716768e-02  9.128323e-01  \n",
              "17368    1.000000e+00  2.774210e-11  \n",
              "17369    9.933148e-01  6.685236e-03  \n",
              "\n",
              "[17370 rows x 5 columns]"
            ]
          },
          "execution_count": 66,
          "metadata": {},
          "output_type": "execute_result"
        }
      ],
      "source": [
        "# Build a data frame with the input text, actual class, predicted class, and the predicted probabilities.\n",
        "\n",
        "test_results_df = pd.DataFrame({'text': X_test, 'actual': y_test, 'predicted': y_pred_class, 'prob_non_toxic': y_pred_prob_non_toxic_class, 'prob_toxic': y_pred_prob_toxic_class})\n",
        "\n",
        "# Reset the index.\n",
        "test_results_df.reset_index(drop=True, inplace=True)\n",
        "\n",
        "test_results_df"
      ]
    },
    {
      "attachments": {},
      "cell_type": "markdown",
      "metadata": {
        "id": "u-bSN6iOYFS-"
      },
      "source": [
        "# 5 | Using Other AI Model (for comparison)"
      ]
    },
    {
      "cell_type": "code",
      "execution_count": 67,
      "metadata": {
        "id": "XjXjHN6jYFS-",
        "outputId": "9e1d3b7e-201e-48a8-a3a1-046a46f82816"
      },
      "outputs": [
        {
          "data": {
            "text/html": [
              "<div>\n",
              "<style scoped>\n",
              "    .dataframe tbody tr th:only-of-type {\n",
              "        vertical-align: middle;\n",
              "    }\n",
              "\n",
              "    .dataframe tbody tr th {\n",
              "        vertical-align: top;\n",
              "    }\n",
              "\n",
              "    .dataframe thead th {\n",
              "        text-align: right;\n",
              "    }\n",
              "</style>\n",
              "<table border=\"1\" class=\"dataframe\">\n",
              "  <thead>\n",
              "    <tr style=\"text-align: right;\">\n",
              "      <th></th>\n",
              "      <th>text</th>\n",
              "      <th>label</th>\n",
              "    </tr>\n",
              "  </thead>\n",
              "  <tbody>\n",
              "    <tr>\n",
              "      <th>0</th>\n",
              "      <td>Inaasahan na ni Vice President Jejomar Binay n...</td>\n",
              "      <td>0</td>\n",
              "    </tr>\n",
              "    <tr>\n",
              "      <th>1</th>\n",
              "      <td>Mar Roxas TANG INA TUWID NA DAAN DAW .. EH SYA...</td>\n",
              "      <td>1</td>\n",
              "    </tr>\n",
              "    <tr>\n",
              "      <th>2</th>\n",
              "      <td>Salamat sa walang sawang suporta ng mga taga m...</td>\n",
              "      <td>0</td>\n",
              "    </tr>\n",
              "    <tr>\n",
              "      <th>3</th>\n",
              "      <td>@rapplerdotcom putangina mo binay TAKBO PA</td>\n",
              "      <td>1</td>\n",
              "    </tr>\n",
              "    <tr>\n",
              "      <th>4</th>\n",
              "      <td>Binay with selective amnesia, forgetting about...</td>\n",
              "      <td>0</td>\n",
              "    </tr>\n",
              "    <tr>\n",
              "      <th>...</th>\n",
              "      <td>...</td>\n",
              "      <td>...</td>\n",
              "    </tr>\n",
              "    <tr>\n",
              "      <th>69475</th>\n",
              "      <td>when baylor wins im talking so much trash</td>\n",
              "      <td>0</td>\n",
              "    </tr>\n",
              "    <tr>\n",
              "      <th>69476</th>\n",
              "      <td>who's downie like a brownie 4 brunch? Need mim...</td>\n",
              "      <td>0</td>\n",
              "    </tr>\n",
              "    <tr>\n",
              "      <th>69477</th>\n",
              "      <td>yea so about @N_tel 's new friend.. all my fri...</td>\n",
              "      <td>0</td>\n",
              "    </tr>\n",
              "    <tr>\n",
              "      <th>69478</th>\n",
              "      <td>you know what they say, the early bird gets th...</td>\n",
              "      <td>0</td>\n",
              "    </tr>\n",
              "    <tr>\n",
              "      <th>69479</th>\n",
              "      <td>you've gone and broke the wrong heart baby, an...</td>\n",
              "      <td>0</td>\n",
              "    </tr>\n",
              "  </tbody>\n",
              "</table>\n",
              "<p>69480 rows × 2 columns</p>\n",
              "</div>"
            ],
            "text/plain": [
              "                                                    text  label\n",
              "0      Inaasahan na ni Vice President Jejomar Binay n...      0\n",
              "1      Mar Roxas TANG INA TUWID NA DAAN DAW .. EH SYA...      1\n",
              "2      Salamat sa walang sawang suporta ng mga taga m...      0\n",
              "3             @rapplerdotcom putangina mo binay TAKBO PA      1\n",
              "4      Binay with selective amnesia, forgetting about...      0\n",
              "...                                                  ...    ...\n",
              "69475          when baylor wins im talking so much trash      0\n",
              "69476  who's downie like a brownie 4 brunch? Need mim...      0\n",
              "69477  yea so about @N_tel 's new friend.. all my fri...      0\n",
              "69478  you know what they say, the early bird gets th...      0\n",
              "69479  you've gone and broke the wrong heart baby, an...      0\n",
              "\n",
              "[69480 rows x 2 columns]"
            ]
          },
          "execution_count": 67,
          "metadata": {},
          "output_type": "execute_result"
        }
      ],
      "source": [
        "df"
      ]
    },
    {
      "attachments": {},
      "cell_type": "markdown",
      "metadata": {
        "id": "loVbPgD8YFS-"
      },
      "source": [
        "## 5.1 | K-Means using 2 clusters."
      ]
    },
    {
      "cell_type": "code",
      "execution_count": 68,
      "metadata": {
        "id": "GIPgyQltYFS-",
        "outputId": "13ede6da-c07f-4580-e09a-84ec03208ab5"
      },
      "outputs": [
        {
          "data": {
            "text/plain": [
              "(2, 68698)"
            ]
          },
          "execution_count": 68,
          "metadata": {},
          "output_type": "execute_result"
        }
      ],
      "source": [
        "from sklearn.cluster import KMeans\n",
        "\n",
        "kmeans = KMeans(n_clusters=2, n_init=10, random_state=42)\n",
        "clusters = kmeans.fit_predict(X_train_dtm)\n",
        "kmeans.cluster_centers_.shape"
      ]
    },
    {
      "cell_type": "code",
      "execution_count": 69,
      "metadata": {
        "id": "Nuur0wo-YFS-"
      },
      "outputs": [],
      "source": [
        "import numpy as np\n",
        "from scipy.stats import mode\n",
        "\n",
        "labels = np.zeros_like(clusters)\n",
        "for i in range(2):\n",
        "    mask = (clusters == i)\n",
        "    labels[mask] = mode(y_train[mask], keepdims=True)[0]"
      ]
    },
    {
      "attachments": {},
      "cell_type": "markdown",
      "metadata": {
        "id": "TKGiI2GPYFS_"
      },
      "source": [
        "### Check for accuracy."
      ]
    },
    {
      "cell_type": "code",
      "execution_count": 70,
      "metadata": {
        "id": "n6_d7WlAYFS_",
        "outputId": "d6596641-ed5d-4cf3-e02c-44bdd4cf89f8"
      },
      "outputs": [
        {
          "data": {
            "text/plain": [
              "0.6751871042026483"
            ]
          },
          "execution_count": 70,
          "metadata": {},
          "output_type": "execute_result"
        }
      ],
      "source": [
        "from sklearn.metrics import accuracy_score\n",
        "\n",
        "accuracy_score(y_train, labels)"
      ]
    },
    {
      "cell_type": "code",
      "execution_count": 71,
      "metadata": {
        "id": "syOh1cEsYFS_",
        "outputId": "073525c8-44c2-4227-94db-4c07356cf513"
      },
      "outputs": [
        {
          "data": {
            "text/plain": [
              "Text(113.9222222222222, 0.5, 'Predicted label')"
            ]
          },
          "execution_count": 71,
          "metadata": {},
          "output_type": "execute_result"
        },
        {
          "data": {
            "image/png": "[encoded data removed]",
            "text/plain": [
              "<Figure size 640x480 with 1 Axes>"
            ]
          },
          "metadata": {},
          "output_type": "display_data"
        }
      ],
      "source": [
        "mat = confusion_matrix(y_train, labels)\n",
        "sns.heatmap(mat.T, square=True, annot=True, fmt='d', cbar=False,\n",
        "             xticklabels=['Not Toxic', 'Toxic'], yticklabels=['Not Toxic', 'Toxic'])\n",
        "plt.xlabel('True label')\n",
        "plt.ylabel('Predicted label')"
      ]
    },
    {
      "attachments": {},
      "cell_type": "markdown",
      "metadata": {
        "id": "lQOxb4hbYFS_"
      },
      "source": [
        "## 5.2 | K-Means using 2 clusters with t-SNE."
      ]
    },
    {
      "cell_type": "code",
      "execution_count": 72,
      "metadata": {
        "id": "OjOoa7sIYFS_"
      },
      "outputs": [],
      "source": [
        "from sklearn.manifold import TSNE\n",
        "\n",
        "# Using t-SNE\n",
        "\n",
        "# Project the data: this step will take several seconds\n",
        "tsne = TSNE(n_components=2, init='random', random_state=69)\n",
        "projection = tsne.fit_transform(X_train_dtm)\n",
        "\n",
        "# Compute the clusters\n",
        "kmeans = KMeans(n_clusters=2, n_init=10, random_state=69)\n",
        "clusters = kmeans.fit_predict(projection)\n",
        "\n",
        "# Permute the labels\n",
        "labels = np.zeros_like(clusters)\n",
        "for i in range(2):\n",
        "    mask = (clusters == i)\n",
        "    labels[mask] = mode(y_train[mask], keepdims=True)[0]"
      ]
    },
    {
      "attachments": {},
      "cell_type": "markdown",
      "metadata": {
        "id": "dHqIido1YFS_"
      },
      "source": [
        "### Check for accuracy."
      ]
    },
    {
      "cell_type": "code",
      "execution_count": 73,
      "metadata": {
        "id": "uazBSi4xYFS_",
        "outputId": "747817d1-453a-49bb-b227-8b357d67cb63"
      },
      "outputs": [
        {
          "data": {
            "text/plain": [
              "0.7403185568988678"
            ]
          },
          "execution_count": 73,
          "metadata": {},
          "output_type": "execute_result"
        }
      ],
      "source": [
        "accuracy_score(y_train, labels)"
      ]
    },
    {
      "cell_type": "code",
      "execution_count": 74,
      "metadata": {
        "id": "Ruj6FicLYFS_",
        "outputId": "7a4482bd-215d-41e9-d9ed-ea2c29c928f9"
      },
      "outputs": [
        {
          "data": {
            "text/plain": [
              "Text(113.9222222222222, 0.5, 'Predicted label')"
            ]
          },
          "execution_count": 74,
          "metadata": {},
          "output_type": "execute_result"
        },
        {
          "data": {
            "image/png": "[encoded data removed]",
            "text/plain": [
              "<Figure size 640x480 with 1 Axes>"
            ]
          },
          "metadata": {},
          "output_type": "display_data"
        }
      ],
      "source": [
        "mat = confusion_matrix(y_train, labels)\n",
        "sns.heatmap(mat.T, square=True, annot=True, fmt='d', cbar=False,\n",
        "             xticklabels=['Not Toxic', 'Toxic'], yticklabels=['Not Toxic', 'Toxic'])\n",
        "plt.xlabel('True label')\n",
        "plt.ylabel('Predicted label')"
      ]
    },
    {
      "attachments": {},
      "cell_type": "markdown",
      "metadata": {
        "id": "wABSsJf-YFS_"
      },
      "source": [
        "There is a significant increase in accuracy rate when using t-SNE. Moving forward, we will use it to determine the best cluster size."
      ]
    },
    {
      "attachments": {},
      "cell_type": "markdown",
      "metadata": {
        "id": "xnI_-Qf5YFS_"
      },
      "source": [
        "## 5.3 | Try 1-10 clusters while using t-SNE."
      ]
    },
    {
      "cell_type": "code",
      "execution_count": null,
      "metadata": {
        "id": "IQF2bNEmYFTA",
        "outputId": "5baaa001-9e37-40b1-8038-b230c3125860"
      },
      "outputs": [
        {
          "name": "stderr",
          "output_type": "stream",
          "text": [
            "c:\\Users\\floss\\anaconda3\\lib\\site-packages\\numpy\\core\\fromnumeric.py:3432: RuntimeWarning: Mean of empty slice.\n",
            "  return _methods._mean(a, axis=axis, dtype=dtype,\n",
            "c:\\Users\\floss\\anaconda3\\lib\\site-packages\\numpy\\core\\_methods.py:182: RuntimeWarning: invalid value encountered in divide\n",
            "  ret = um.true_divide(\n"
          ]
        }
      ],
      "source": [
        "kmeans = []\n",
        "accuracy_scores = []\n",
        "inertias = []\n",
        "\n",
        "for i in range(1, 11):\n",
        "    # Project the data: this step will take several seconds\n",
        "    temp_tsne = TSNE(n_components=2, init='random', random_state=69)\n",
        "    temp_projection = temp_tsne.fit_transform(X_train_dtm)\n",
        "\n",
        "    # Compute the clusters\n",
        "    temp_kmeans = KMeans(n_clusters=i, n_init=10, random_state=69)\n",
        "    temp_clusters = temp_kmeans.fit_predict(temp_projection)\n",
        "    kmeans.append(temp_kmeans)\n",
        "\n",
        "    # Permute the labels\n",
        "    temp_labels = np.zeros_like(temp_clusters)\n",
        "    for j in range(2):\n",
        "        mask = (temp_clusters == j)\n",
        "        temp_labels[mask] = mode(y_train[mask], keepdims=True)[0]\n",
        "\n",
        "    # Compute the accuracy\n",
        "    temp_accuracy_score = accuracy_score(y_train, temp_labels)\n",
        "    accuracy_scores.append(temp_accuracy_score)\n",
        "\n",
        "    # Get the inertia\n",
        "    temp_inertia = temp_kmeans.inertia_\n",
        "    inertias.append(temp_inertia)\n"
      ]
    },
    {
      "attachments": {},
      "cell_type": "markdown",
      "metadata": {
        "id": "XXV9SFCTYFTA"
      },
      "source": [
        "### Determine the best cluster size."
      ]
    },
    {
      "cell_type": "code",
      "execution_count": null,
      "metadata": {
        "id": "Ow0-fLNQYFTA",
        "outputId": "8ca7d65f-f1cb-40ab-93d7-71a519084b75"
      },
      "outputs": [
        {
          "data": {
            "image/png": "[encoded data removed]",
            "text/plain": [
              "<Figure size 640x480 with 1 Axes>"
            ]
          },
          "metadata": {},
          "output_type": "display_data"
        }
      ],
      "source": [
        "# Display the Elbow Curve graph.\n",
        "\n",
        "plt.plot(range(1, 11), inertias)\n",
        "plt.xlabel('K-value')\n",
        "plt.ylabel('Inertia Score')\n",
        "plt.title('Elbow Curve')\n",
        "plt.show()"
      ]
    },
    {
      "cell_type": "code",
      "execution_count": null,
      "metadata": {
        "id": "zx0X3uRmYFTA",
        "outputId": "78965ed7-1fa5-41c1-eba8-f2c2eeef524b"
      },
      "outputs": [
        {
          "data": {
            "image/png": "[encoded data removed]",
            "text/plain": [
              "<Figure size 640x480 with 1 Axes>"
            ]
          },
          "metadata": {},
          "output_type": "display_data"
        }
      ],
      "source": [
        "# Display the Accuracy Score Curve graph.\n",
        "\n",
        "plt.plot(range(1, 11), accuracy_scores)\n",
        "plt.xlabel('K-value')\n",
        "plt.ylabel('Accuracy Score')\n",
        "plt.title('Accuracy Score Curve')\n",
        "plt.show()"
      ]
    },
    {
      "cell_type": "code",
      "execution_count": null,
      "metadata": {
        "id": "vPk88dYXYFTA",
        "outputId": "643ab2c5-916b-49d8-e2c7-fecd5de32a21"
      },
      "outputs": [
        {
          "data": {
            "text/html": [
              "<div>\n",
              "<style scoped>\n",
              "    .dataframe tbody tr th:only-of-type {\n",
              "        vertical-align: middle;\n",
              "    }\n",
              "\n",
              "    .dataframe tbody tr th {\n",
              "        vertical-align: top;\n",
              "    }\n",
              "\n",
              "    .dataframe thead th {\n",
              "        text-align: right;\n",
              "    }\n",
              "</style>\n",
              "<table border=\"1\" class=\"dataframe\">\n",
              "  <thead>\n",
              "    <tr style=\"text-align: right;\">\n",
              "      <th></th>\n",
              "      <th>k</th>\n",
              "      <th>accuracy_score</th>\n",
              "    </tr>\n",
              "  </thead>\n",
              "  <tbody>\n",
              "    <tr>\n",
              "      <th>0</th>\n",
              "      <td>1</td>\n",
              "      <td>0.562042</td>\n",
              "    </tr>\n",
              "    <tr>\n",
              "      <th>1</th>\n",
              "      <td>2</td>\n",
              "      <td>0.740319</td>\n",
              "    </tr>\n",
              "    <tr>\n",
              "      <th>2</th>\n",
              "      <td>3</td>\n",
              "      <td>0.718634</td>\n",
              "    </tr>\n",
              "    <tr>\n",
              "      <th>3</th>\n",
              "      <td>4</td>\n",
              "      <td>0.672117</td>\n",
              "    </tr>\n",
              "    <tr>\n",
              "      <th>4</th>\n",
              "      <td>5</td>\n",
              "      <td>0.562042</td>\n",
              "    </tr>\n",
              "    <tr>\n",
              "      <th>5</th>\n",
              "      <td>6</td>\n",
              "      <td>0.664479</td>\n",
              "    </tr>\n",
              "    <tr>\n",
              "      <th>6</th>\n",
              "      <td>7</td>\n",
              "      <td>0.663942</td>\n",
              "    </tr>\n",
              "    <tr>\n",
              "      <th>7</th>\n",
              "      <td>8</td>\n",
              "      <td>0.663692</td>\n",
              "    </tr>\n",
              "    <tr>\n",
              "      <th>8</th>\n",
              "      <td>9</td>\n",
              "      <td>0.623028</td>\n",
              "    </tr>\n",
              "    <tr>\n",
              "      <th>9</th>\n",
              "      <td>10</td>\n",
              "      <td>0.657379</td>\n",
              "    </tr>\n",
              "  </tbody>\n",
              "</table>\n",
              "</div>"
            ],
            "text/plain": [
              "    k  accuracy_score\n",
              "0   1        0.562042\n",
              "1   2        0.740319\n",
              "2   3        0.718634\n",
              "3   4        0.672117\n",
              "4   5        0.562042\n",
              "5   6        0.664479\n",
              "6   7        0.663942\n",
              "7   8        0.663692\n",
              "8   9        0.623028\n",
              "9  10        0.657379"
            ]
          },
          "execution_count": 81,
          "metadata": {},
          "output_type": "execute_result"
        }
      ],
      "source": [
        "# Construct a data frame with the K-value and the corresponding accuracy score.\n",
        "\n",
        "kmeans_accuracy_df = pd.DataFrame({'k': range(1, 11), 'accuracy_score': accuracy_scores})\n",
        "kmeans_accuracy_df"
      ]
    },
    {
      "attachments": {},
      "cell_type": "markdown",
      "metadata": {
        "id": "78mAWlYwYFTA"
      },
      "source": [
        "The best cluster size is **n_clusters=2** with an accuracy of 74.03%."
      ]
    },
    {
      "attachments": {},
      "cell_type": "markdown",
      "metadata": {
        "id": "GWqzujPO0iT3"
      },
      "source": [
        "# [ RESULTS ]"
      ]
    },
    {
      "attachments": {},
      "cell_type": "markdown",
      "metadata": {
        "id": "MDzEJzcj0iT3"
      },
      "source": [
        "# 6 | Results and Discussions"
      ]
    },
    {
      "attachments": {},
      "cell_type": "markdown",
      "metadata": {
        "id": "XUqwSRHa0iT3"
      },
      "source": [
        "## 6.1 | Existing Solutions for the 'Toxic Speech Classifier' problem."
      ]
    },
    {
      "attachments": {},
      "cell_type": "markdown",
      "metadata": {
        "id": "SGHtx4ko_iGK"
      },
      "source": [
        "The [**Perspective API**](https://perspectiveapi.com/) exposed by [Firebase Extensions](https://extensions.dev/extensions/jigsaw/firestore-perspective-toxicity) (BaaS - Backend as a Service) is a commercialize toxic speech classifier produced by the [Jigsaw](https://jigsaw.google.com/) company.\n",
        "\n",
        "![Perspective API in the Firebase Extensions Hub](https://github.com/Qubits-01/toxic-speech-classifier/blob/main/assets/sample1_perspective_api.png?raw=true)\n",
        "\n",
        "The downside is that this toxic classifier only supports **few** languages (e.g., it does not support the Filipino language). That is why, we decided to make our own classifier (this project) that supports Filipino and Taglish (aside from English) so that we can use it locally here in our country - Philippines.\n",
        "\n",
        "Many other toxic classfiers, hate speech classifiers, profanity classifiers, and the like exist in the ever booming market of SaaS and AIaaS digital products. But why they do all have in common is that they don't support the Filipino language (and its dialects - Ilokano, Bicolano, 'TagLish', etc.)."
      ]
    },
    {
      "attachments": {},
      "cell_type": "markdown",
      "metadata": {
        "id": "OthLO-3F0iT3"
      },
      "source": [
        "## 6.2 | Monomial Naive Bayes Classifier"
      ]
    },
    {
      "attachments": {},
      "cell_type": "markdown",
      "metadata": {
        "id": "LnraOFDb0iT3"
      },
      "source": [
        "MNB accuracy rate *before* hypertuning the parameters: **~86.379%**\n",
        "\n",
        "![MNB without optimized parameters - Confusion Matrix](https://github.com/Qubits-01/toxic-speech-classifier/blob/main/assets/MNB_without_optimized_params.png)\n",
        "![MNB without optimized parameters - Classification Report](https://github.com/Qubits-01/toxic-speech-classifier/blob/main/assets/MNB_without_optimized_params_classification_report.png?raw=true)\n",
        "\n",
        "\n",
        "MNB accuracy rate *after* hypertuning the parameters: **~87.093%**\n",
        "\n",
        "![MNB with optimized parameters - Confusion Matrix](https://github.com/Qubits-01/toxic-speech-classifier/blob/main/assets/MNB_with_optimized_params.png)\n",
        "![MNB without optimized parameters - Classification Report](https://github.com/Qubits-01/toxic-speech-classifier/blob/main/assets/MNB_with_optimized_params_classification_report.png?raw=true)\n",
        "\n",
        "There is an improvement of **0.714%**.\n",
        "\n",
        "Looking at the confusion matrices of both models, we see that both the True Negatives and True Positives have a higher value while the False Negatives and False Positives have a lower value in the confusion matrix of the MNB with optimized parameters. This is the cause of the increase in accuracy rate in the optimized MNB model. Looking at the classification report, we also see that all the values regarding precision, recall, and f1-score have a higher value in the optimized MNB model. This means that hypertuning the model was able to greatly aid in accuracy.\n",
        "\n",
        "For the remaining parts of the paper, the MNB model will refer to the optimized MNB model since it has a higher accuracy score."
      ]
    },
    {
      "attachments": {},
      "cell_type": "markdown",
      "metadata": {
        "id": "FlyEqcRG0iT3"
      },
      "source": [
        "## 6.3 | KMeans Classifier"
      ]
    },
    {
      "attachments": {},
      "cell_type": "markdown",
      "metadata": {
        "id": "xPsboVLm0xny"
      },
      "source": [
        "KMeans accuracy rate *before* using tSNE (n_clusters=2): **~67.519%**\n",
        "\n",
        "![MNB without tSNE](https://github.com/Qubits-01/toxic-speech-classifier/blob/main/assets/KMeans_without_tSNE.png?raw=true)\n",
        "\n",
        "\n",
        "KMeans accuracy rate *after* use tSNE (n_clusters=2): **~74.032%**\n",
        "\n",
        "![MNB with tSNE](https://github.com/Qubits-01/toxic-speech-classifier/blob/main/assets/KMeans_with_tSNE.png?raw=true)\n",
        "\n",
        "There is an improvement of **6.513%**.\n",
        "\n",
        "From the confusion matrices of both K-means models, we see that the model without using tSNE had a higher value for True Negatives, classifying non-toxic tweets as non-toxic, and a lower value for False Positives, classifying non-toxic tweets as toxic, when compare to the K-means model that uses tSNE. This shows that the model without using tSNE is more efficient in classifying tweets that are non-toxic rather than identifying tweets that are toxic.\n",
        "\n",
        "This model is a highly conservative model that has strict implementations on classifying a tweet as toxic. This is proven by the high number of False Negatives as seen in the confusion matrix. Though the high number of True Negatives is appealing, the aim of the project is to identify toxic tweets rather than non-toxic tweets, therefore the model is not ideal for the objectives of the project.\n",
        "\n",
        "Looking at the confusion matrix of the K-means model where tSNE was applied, we see that the model has a lower rate of classifying non-toxic tweets correctly, in exchange for correctly classifying toxic tweets. This model is more ideal towards the project's objectives and has a higher accuracy rate. Therefore, the tSNE K-means model is better, with regards to the scope of the project.\n",
        "\n",
        "Moving forward, the K-means model will refer to the K-means model where tSNE was applied."
      ]
    },
    {
      "attachments": {},
      "cell_type": "markdown",
      "metadata": {
        "id": "Tgx7SEqf-AEi"
      },
      "source": [
        "We used a k-mean value of **2** since it gives the best accuracy score (as can be seen in the **Elbow Curve** and **Accuracy Score Curve**). This makes sense since the dataset is primarily separated by **two distinct** classes afterall (i.e., non-toxic and toxic class).\n",
        "\n",
        "![Elbow Curve](https://github.com/Qubits-01/toxic-speech-classifier/blob/main/assets/KMeans_elbow_curve.png?raw=true)\n",
        "![Accuraccy Score Curve](https://github.com/Qubits-01/toxic-speech-classifier/blob/main/assets/KMeans_accurarcy_score_curve.png?raw=true)"
      ]
    },
    {
      "attachments": {},
      "cell_type": "markdown",
      "metadata": {
        "id": "PTItbBLK0iT3"
      },
      "source": [
        "## 6.4 | Multinomial Naive Bayes vs K-means Model"
      ]
    },
    {
      "attachments": {},
      "cell_type": "markdown",
      "metadata": {
        "id": "Cp14cd53_dBO"
      },
      "source": [
        "(Add some discussion here)"
      ]
    },
    {
      "attachments": {},
      "cell_type": "markdown",
      "metadata": {
        "id": "xC1EP4vsEcvJ"
      },
      "source": [
        "## 6.5 | Conclusion"
      ]
    },
    {
      "attachments": {},
      "cell_type": "markdown",
      "metadata": {
        "id": "ZW0rk-fvEcvJ"
      },
      "source": [
        "(Add some discussion here)"
      ]
    },
    {
      "attachments": {},
      "cell_type": "markdown",
      "metadata": {
        "id": "KH-vSLua0iT4"
      },
      "source": [
        "# 7 | Some Results Showcase"
      ]
    },
    {
      "cell_type": "code",
      "execution_count": 75,
      "metadata": {
        "id": "_2CHUR3G0iT4",
        "outputId": "b7064e0b-626b-4998-c094-166f0b4a934a"
      },
      "outputs": [
        {
          "data": {
            "text/html": [
              "<div>\n",
              "<style scoped>\n",
              "    .dataframe tbody tr th:only-of-type {\n",
              "        vertical-align: middle;\n",
              "    }\n",
              "\n",
              "    .dataframe tbody tr th {\n",
              "        vertical-align: top;\n",
              "    }\n",
              "\n",
              "    .dataframe thead th {\n",
              "        text-align: right;\n",
              "    }\n",
              "</style>\n",
              "<table border=\"1\" class=\"dataframe\">\n",
              "  <thead>\n",
              "    <tr style=\"text-align: right;\">\n",
              "      <th></th>\n",
              "      <th>text</th>\n",
              "      <th>actual</th>\n",
              "      <th>predicted</th>\n",
              "      <th>prob_non_toxic</th>\n",
              "      <th>prob_toxic</th>\n",
              "    </tr>\n",
              "  </thead>\n",
              "  <tbody>\n",
              "    <tr>\n",
              "      <th>0</th>\n",
              "      <td>Di ako makapaniwala na pangalawa si Mar Roxas ...</td>\n",
              "      <td>1</td>\n",
              "      <td>1</td>\n",
              "      <td>7.552559e-03</td>\n",
              "      <td>9.924474e-01</td>\n",
              "    </tr>\n",
              "    <tr>\n",
              "      <th>1</th>\n",
              "      <td>A lot of you niggas turned these bitches into ...</td>\n",
              "      <td>1</td>\n",
              "      <td>1</td>\n",
              "      <td>1.154667e-06</td>\n",
              "      <td>9.999988e-01</td>\n",
              "    </tr>\n",
              "    <tr>\n",
              "      <th>2</th>\n",
              "      <td>RT @ZitlalyL: @Vic_Manzan0 just like you&amp;#1280...</td>\n",
              "      <td>1</td>\n",
              "      <td>1</td>\n",
              "      <td>4.166335e-10</td>\n",
              "      <td>1.000000e+00</td>\n",
              "    </tr>\n",
              "    <tr>\n",
              "      <th>3</th>\n",
              "      <td>our playground for the morning.  big bear tri ...</td>\n",
              "      <td>0</td>\n",
              "      <td>0</td>\n",
              "      <td>9.396200e-01</td>\n",
              "      <td>6.038000e-02</td>\n",
              "    </tr>\n",
              "    <tr>\n",
              "      <th>5</th>\n",
              "      <td>#nazi #swastika #ebay! #trump #donaldtrump #re...</td>\n",
              "      <td>1</td>\n",
              "      <td>1</td>\n",
              "      <td>5.883882e-02</td>\n",
              "      <td>9.411612e-01</td>\n",
              "    </tr>\n",
              "    <tr>\n",
              "      <th>...</th>\n",
              "      <td>...</td>\n",
              "      <td>...</td>\n",
              "      <td>...</td>\n",
              "      <td>...</td>\n",
              "      <td>...</td>\n",
              "    </tr>\n",
              "    <tr>\n",
              "      <th>17364</th>\n",
              "      <td>RT @ImNeverChillin: Niggas drop outta high sch...</td>\n",
              "      <td>1</td>\n",
              "      <td>1</td>\n",
              "      <td>3.443211e-11</td>\n",
              "      <td>1.000000e+00</td>\n",
              "    </tr>\n",
              "    <tr>\n",
              "      <th>17365</th>\n",
              "      <td>Mad respect to Affleck for refusing to wear a ...</td>\n",
              "      <td>0</td>\n",
              "      <td>0</td>\n",
              "      <td>9.530769e-01</td>\n",
              "      <td>4.692311e-02</td>\n",
              "    </tr>\n",
              "    <tr>\n",
              "      <th>17366</th>\n",
              "      <td>RT @TAXSTONE: If YA bitch ex is a nigga u thin...</td>\n",
              "      <td>1</td>\n",
              "      <td>1</td>\n",
              "      <td>5.077755e-13</td>\n",
              "      <td>1.000000e+00</td>\n",
              "    </tr>\n",
              "    <tr>\n",
              "      <th>17368</th>\n",
              "      <td>fathersdaymessage  #fathers #day #message buy...</td>\n",
              "      <td>0</td>\n",
              "      <td>0</td>\n",
              "      <td>1.000000e+00</td>\n",
              "      <td>2.774210e-11</td>\n",
              "    </tr>\n",
              "    <tr>\n",
              "      <th>17369</th>\n",
              "      <td>@user my woodpecker shot in this months issue...</td>\n",
              "      <td>0</td>\n",
              "      <td>0</td>\n",
              "      <td>9.933148e-01</td>\n",
              "      <td>6.685236e-03</td>\n",
              "    </tr>\n",
              "  </tbody>\n",
              "</table>\n",
              "<p>15128 rows × 5 columns</p>\n",
              "</div>"
            ],
            "text/plain": [
              "                                                    text  actual  predicted  \\\n",
              "0      Di ako makapaniwala na pangalawa si Mar Roxas ...       1          1   \n",
              "1      A lot of you niggas turned these bitches into ...       1          1   \n",
              "2      RT @ZitlalyL: @Vic_Manzan0 just like you&#1280...       1          1   \n",
              "3      our playground for the morning.  big bear tri ...       0          0   \n",
              "5      #nazi #swastika #ebay! #trump #donaldtrump #re...       1          1   \n",
              "...                                                  ...     ...        ...   \n",
              "17364  RT @ImNeverChillin: Niggas drop outta high sch...       1          1   \n",
              "17365  Mad respect to Affleck for refusing to wear a ...       0          0   \n",
              "17366  RT @TAXSTONE: If YA bitch ex is a nigga u thin...       1          1   \n",
              "17368   fathersdaymessage  #fathers #day #message buy...       0          0   \n",
              "17369   @user my woodpecker shot in this months issue...       0          0   \n",
              "\n",
              "       prob_non_toxic    prob_toxic  \n",
              "0        7.552559e-03  9.924474e-01  \n",
              "1        1.154667e-06  9.999988e-01  \n",
              "2        4.166335e-10  1.000000e+00  \n",
              "3        9.396200e-01  6.038000e-02  \n",
              "5        5.883882e-02  9.411612e-01  \n",
              "...               ...           ...  \n",
              "17364    3.443211e-11  1.000000e+00  \n",
              "17365    9.530769e-01  4.692311e-02  \n",
              "17366    5.077755e-13  1.000000e+00  \n",
              "17368    1.000000e+00  2.774210e-11  \n",
              "17369    9.933148e-01  6.685236e-03  \n",
              "\n",
              "[15128 rows x 5 columns]"
            ]
          },
          "execution_count": 75,
          "metadata": {},
          "output_type": "execute_result"
        }
      ],
      "source": [
        "# Show the correctly classified text.\n",
        "\n",
        "test_results_df[(test_results_df['actual'] == test_results_df['predicted']) & ((test_results_df['prob_toxic'] > 0.5) | (test_results_df['prob_non_toxic'] > 0.5))]"
      ]
    },
    {
      "cell_type": "code",
      "execution_count": 76,
      "metadata": {
        "id": "Pg00qn2Y0iT4",
        "outputId": "7e9857bb-4dd9-4b3b-89a8-aa93eec2ee46"
      },
      "outputs": [
        {
          "data": {
            "text/html": [
              "<div>\n",
              "<style scoped>\n",
              "    .dataframe tbody tr th:only-of-type {\n",
              "        vertical-align: middle;\n",
              "    }\n",
              "\n",
              "    .dataframe tbody tr th {\n",
              "        vertical-align: top;\n",
              "    }\n",
              "\n",
              "    .dataframe thead th {\n",
              "        text-align: right;\n",
              "    }\n",
              "</style>\n",
              "<table border=\"1\" class=\"dataframe\">\n",
              "  <thead>\n",
              "    <tr style=\"text-align: right;\">\n",
              "      <th></th>\n",
              "      <th>text</th>\n",
              "      <th>actual</th>\n",
              "      <th>predicted</th>\n",
              "      <th>prob_non_toxic</th>\n",
              "      <th>prob_toxic</th>\n",
              "    </tr>\n",
              "  </thead>\n",
              "  <tbody>\n",
              "    <tr>\n",
              "      <th>4</th>\n",
              "      <td>\"@ellisluciano: Binay as President #ShortHorro...</td>\n",
              "      <td>1</td>\n",
              "      <td>0</td>\n",
              "      <td>0.709684</td>\n",
              "      <td>0.290316</td>\n",
              "    </tr>\n",
              "    <tr>\n",
              "      <th>31</th>\n",
              "      <td>Anyone want to share their thoughts on their m...</td>\n",
              "      <td>1</td>\n",
              "      <td>0</td>\n",
              "      <td>0.672222</td>\n",
              "      <td>0.327778</td>\n",
              "    </tr>\n",
              "    <tr>\n",
              "      <th>32</th>\n",
              "      <td>\"..a broader phenomenon: the reemergence of #r...</td>\n",
              "      <td>1</td>\n",
              "      <td>0</td>\n",
              "      <td>0.975314</td>\n",
              "      <td>0.024686</td>\n",
              "    </tr>\n",
              "    <tr>\n",
              "      <th>35</th>\n",
              "      <td>Nakakabeast mode naman. Di ka pa nga botante, ...</td>\n",
              "      <td>1</td>\n",
              "      <td>0</td>\n",
              "      <td>0.639222</td>\n",
              "      <td>0.360778</td>\n",
              "    </tr>\n",
              "    <tr>\n",
              "      <th>45</th>\n",
              "      <td>joshwin is always like this! ðð what's w...</td>\n",
              "      <td>0</td>\n",
              "      <td>1</td>\n",
              "      <td>0.283788</td>\n",
              "      <td>0.716212</td>\n",
              "    </tr>\n",
              "    <tr>\n",
              "      <th>...</th>\n",
              "      <td>...</td>\n",
              "      <td>...</td>\n",
              "      <td>...</td>\n",
              "      <td>...</td>\n",
              "      <td>...</td>\n",
              "    </tr>\n",
              "    <tr>\n",
              "      <th>17337</th>\n",
              "      <td>expes explain the best way to deal with  frien...</td>\n",
              "      <td>1</td>\n",
              "      <td>0</td>\n",
              "      <td>0.999352</td>\n",
              "      <td>0.000648</td>\n",
              "    </tr>\n",
              "    <tr>\n",
              "      <th>17338</th>\n",
              "      <td>this! #cambersands deaths blamed on victims' \"...</td>\n",
              "      <td>1</td>\n",
              "      <td>0</td>\n",
              "      <td>0.957978</td>\n",
              "      <td>0.042022</td>\n",
              "    </tr>\n",
              "    <tr>\n",
              "      <th>17339</th>\n",
              "      <td>RT @Elisaa_Martinez: Happy birthday cotton pic...</td>\n",
              "      <td>0</td>\n",
              "      <td>1</td>\n",
              "      <td>0.001537</td>\n",
              "      <td>0.998463</td>\n",
              "    </tr>\n",
              "    <tr>\n",
              "      <th>17343</th>\n",
              "      <td>Hindi ko maintindihan bat nasa fifth spot si S...</td>\n",
              "      <td>1</td>\n",
              "      <td>0</td>\n",
              "      <td>0.906055</td>\n",
              "      <td>0.093945</td>\n",
              "    </tr>\n",
              "    <tr>\n",
              "      <th>17367</th>\n",
              "      <td>@imcessfederico trillion yan ! Wala eh... Only...</td>\n",
              "      <td>0</td>\n",
              "      <td>1</td>\n",
              "      <td>0.087168</td>\n",
              "      <td>0.912832</td>\n",
              "    </tr>\n",
              "  </tbody>\n",
              "</table>\n",
              "<p>2242 rows × 5 columns</p>\n",
              "</div>"
            ],
            "text/plain": [
              "                                                    text  actual  predicted  \\\n",
              "4      \"@ellisluciano: Binay as President #ShortHorro...       1          0   \n",
              "31     Anyone want to share their thoughts on their m...       1          0   \n",
              "32     \"..a broader phenomenon: the reemergence of #r...       1          0   \n",
              "35     Nakakabeast mode naman. Di ka pa nga botante, ...       1          0   \n",
              "45     joshwin is always like this! ðð what's w...       0          1   \n",
              "...                                                  ...     ...        ...   \n",
              "17337  expes explain the best way to deal with  frien...       1          0   \n",
              "17338  this! #cambersands deaths blamed on victims' \"...       1          0   \n",
              "17339  RT @Elisaa_Martinez: Happy birthday cotton pic...       0          1   \n",
              "17343  Hindi ko maintindihan bat nasa fifth spot si S...       1          0   \n",
              "17367  @imcessfederico trillion yan ! Wala eh... Only...       0          1   \n",
              "\n",
              "       prob_non_toxic  prob_toxic  \n",
              "4            0.709684    0.290316  \n",
              "31           0.672222    0.327778  \n",
              "32           0.975314    0.024686  \n",
              "35           0.639222    0.360778  \n",
              "45           0.283788    0.716212  \n",
              "...               ...         ...  \n",
              "17337        0.999352    0.000648  \n",
              "17338        0.957978    0.042022  \n",
              "17339        0.001537    0.998463  \n",
              "17343        0.906055    0.093945  \n",
              "17367        0.087168    0.912832  \n",
              "\n",
              "[2242 rows x 5 columns]"
            ]
          },
          "execution_count": 76,
          "metadata": {},
          "output_type": "execute_result"
        }
      ],
      "source": [
        "# Show the misclassified text.\n",
        "\n",
        "test_results_df[(test_results_df['actual'] != test_results_df['predicted'])]"
      ]
    },
    {
      "cell_type": "code",
      "execution_count": 77,
      "metadata": {
        "id": "GitH9-g70iT4",
        "outputId": "aa8c889c-77e6-4c3d-af20-5c8c026e87d8"
      },
      "outputs": [
        {
          "data": {
            "text/html": [
              "<div>\n",
              "<style scoped>\n",
              "    .dataframe tbody tr th:only-of-type {\n",
              "        vertical-align: middle;\n",
              "    }\n",
              "\n",
              "    .dataframe tbody tr th {\n",
              "        vertical-align: top;\n",
              "    }\n",
              "\n",
              "    .dataframe thead th {\n",
              "        text-align: right;\n",
              "    }\n",
              "</style>\n",
              "<table border=\"1\" class=\"dataframe\">\n",
              "  <thead>\n",
              "    <tr style=\"text-align: right;\">\n",
              "      <th></th>\n",
              "      <th>text</th>\n",
              "      <th>actual</th>\n",
              "      <th>predicted</th>\n",
              "      <th>prob_non_toxic</th>\n",
              "      <th>prob_toxic</th>\n",
              "    </tr>\n",
              "  </thead>\n",
              "  <tbody>\n",
              "    <tr>\n",
              "      <th>13532</th>\n",
              "      <td>Stern fixed the image of the league.. NBA play...</td>\n",
              "      <td>1</td>\n",
              "      <td>1</td>\n",
              "      <td>0.049795</td>\n",
              "      <td>0.950205</td>\n",
              "    </tr>\n",
              "    <tr>\n",
              "      <th>9314</th>\n",
              "      <td>@nCrusade @GodManiac_ come wage with us fag</td>\n",
              "      <td>1</td>\n",
              "      <td>1</td>\n",
              "      <td>0.049670</td>\n",
              "      <td>0.950330</td>\n",
              "    </tr>\n",
              "    <tr>\n",
              "      <th>9106</th>\n",
              "      <td>shet ibabalik yung martial law at take note ma...</td>\n",
              "      <td>1</td>\n",
              "      <td>1</td>\n",
              "      <td>0.049488</td>\n",
              "      <td>0.950512</td>\n",
              "    </tr>\n",
              "    <tr>\n",
              "      <th>12506</th>\n",
              "      <td>@cnnphilippines Good job, Mrs. Poe! But Dutert...</td>\n",
              "      <td>1</td>\n",
              "      <td>1</td>\n",
              "      <td>0.049032</td>\n",
              "      <td>0.950968</td>\n",
              "    </tr>\n",
              "    <tr>\n",
              "      <th>8479</th>\n",
              "      <td>@MoenKiana I am working fag</td>\n",
              "      <td>1</td>\n",
              "      <td>1</td>\n",
              "      <td>0.049030</td>\n",
              "      <td>0.950970</td>\n",
              "    </tr>\n",
              "    <tr>\n",
              "      <th>15432</th>\n",
              "      <td>Ugh! Another annoying from VP Binay. ??</td>\n",
              "      <td>1</td>\n",
              "      <td>1</td>\n",
              "      <td>0.048755</td>\n",
              "      <td>0.951245</td>\n",
              "    </tr>\n",
              "    <tr>\n",
              "      <th>2352</th>\n",
              "      <td>magsama sila ni binay. Mukhang pera.</td>\n",
              "      <td>1</td>\n",
              "      <td>1</td>\n",
              "      <td>0.048528</td>\n",
              "      <td>0.951472</td>\n",
              "    </tr>\n",
              "    <tr>\n",
              "      <th>6999</th>\n",
              "      <td>Ate M: Pinatunayan ni nognog na may mas maitim...</td>\n",
              "      <td>1</td>\n",
              "      <td>1</td>\n",
              "      <td>0.048387</td>\n",
              "      <td>0.951613</td>\n",
              "    </tr>\n",
              "    <tr>\n",
              "      <th>10094</th>\n",
              "      <td>Wow my dad just racked me what a fag</td>\n",
              "      <td>1</td>\n",
              "      <td>1</td>\n",
              "      <td>0.048249</td>\n",
              "      <td>0.951751</td>\n",
              "    </tr>\n",
              "    <tr>\n",
              "      <th>9587</th>\n",
              "      <td>RT @BeYouTiful_Pris: Recognize that I'm a star...</td>\n",
              "      <td>1</td>\n",
              "      <td>1</td>\n",
              "      <td>0.048197</td>\n",
              "      <td>0.951803</td>\n",
              "    </tr>\n",
              "    <tr>\n",
              "      <th>17149</th>\n",
              "      <td>Bakit top 2 si Mar Roxas? Pakiexplain!!! #Daya...</td>\n",
              "      <td>1</td>\n",
              "      <td>1</td>\n",
              "      <td>0.048146</td>\n",
              "      <td>0.951854</td>\n",
              "    </tr>\n",
              "    <tr>\n",
              "      <th>16737</th>\n",
              "      <td>Wow naman Mar Roxas, napaka hardworking mo nam...</td>\n",
              "      <td>1</td>\n",
              "      <td>1</td>\n",
              "      <td>0.047980</td>\n",
              "      <td>0.952020</td>\n",
              "    </tr>\n",
              "    <tr>\n",
              "      <th>4701</th>\n",
              "      <td>Binay, you are so fucking desperate.</td>\n",
              "      <td>1</td>\n",
              "      <td>1</td>\n",
              "      <td>0.047815</td>\n",
              "      <td>0.952185</td>\n",
              "    </tr>\n",
              "    <tr>\n",
              "      <th>11824</th>\n",
              "      <td>Yan na naman ang walang kwentang commercial ni...</td>\n",
              "      <td>1</td>\n",
              "      <td>1</td>\n",
              "      <td>0.047572</td>\n",
              "      <td>0.952428</td>\n",
              "    </tr>\n",
              "    <tr>\n",
              "      <th>12460</th>\n",
              "      <td>RT @Comp10Tx: Rihanna really is trash</td>\n",
              "      <td>1</td>\n",
              "      <td>1</td>\n",
              "      <td>0.047457</td>\n",
              "      <td>0.952543</td>\n",
              "    </tr>\n",
              "    <tr>\n",
              "      <th>2507</th>\n",
              "      <td>eto na naman si Bakit kay Binay? bwiset @abcde...</td>\n",
              "      <td>1</td>\n",
              "      <td>1</td>\n",
              "      <td>0.047443</td>\n",
              "      <td>0.952557</td>\n",
              "    </tr>\n",
              "    <tr>\n",
              "      <th>2277</th>\n",
              "      <td>@user fuck you you #homophobic  #misogynistic ...</td>\n",
              "      <td>1</td>\n",
              "      <td>1</td>\n",
              "      <td>0.047272</td>\n",
              "      <td>0.952728</td>\n",
              "    </tr>\n",
              "    <tr>\n",
              "      <th>6928</th>\n",
              "      <td>@carlomer ahahahaha. Di kasi makikita si binay...</td>\n",
              "      <td>1</td>\n",
              "      <td>1</td>\n",
              "      <td>0.047249</td>\n",
              "      <td>0.952751</td>\n",
              "    </tr>\n",
              "    <tr>\n",
              "      <th>10955</th>\n",
              "      <td>Pinaka korning commercial yung kay Mar Roxas.??</td>\n",
              "      <td>1</td>\n",
              "      <td>1</td>\n",
              "      <td>0.047133</td>\n",
              "      <td>0.952867</td>\n",
              "    </tr>\n",
              "    <tr>\n",
              "      <th>1964</th>\n",
              "      <td>@RespectBox @lefthooklounge @Rodriguez5_ he's ...</td>\n",
              "      <td>1</td>\n",
              "      <td>1</td>\n",
              "      <td>0.047044</td>\n",
              "      <td>0.952956</td>\n",
              "    </tr>\n",
              "  </tbody>\n",
              "</table>\n",
              "</div>"
            ],
            "text/plain": [
              "                                                    text  actual  predicted  \\\n",
              "13532  Stern fixed the image of the league.. NBA play...       1          1   \n",
              "9314         @nCrusade @GodManiac_ come wage with us fag       1          1   \n",
              "9106   shet ibabalik yung martial law at take note ma...       1          1   \n",
              "12506  @cnnphilippines Good job, Mrs. Poe! But Dutert...       1          1   \n",
              "8479                         @MoenKiana I am working fag       1          1   \n",
              "15432            Ugh! Another annoying from VP Binay. ??       1          1   \n",
              "2352                magsama sila ni binay. Mukhang pera.       1          1   \n",
              "6999   Ate M: Pinatunayan ni nognog na may mas maitim...       1          1   \n",
              "10094               Wow my dad just racked me what a fag       1          1   \n",
              "9587   RT @BeYouTiful_Pris: Recognize that I'm a star...       1          1   \n",
              "17149  Bakit top 2 si Mar Roxas? Pakiexplain!!! #Daya...       1          1   \n",
              "16737  Wow naman Mar Roxas, napaka hardworking mo nam...       1          1   \n",
              "4701                Binay, you are so fucking desperate.       1          1   \n",
              "11824  Yan na naman ang walang kwentang commercial ni...       1          1   \n",
              "12460              RT @Comp10Tx: Rihanna really is trash       1          1   \n",
              "2507   eto na naman si Bakit kay Binay? bwiset @abcde...       1          1   \n",
              "2277   @user fuck you you #homophobic  #misogynistic ...       1          1   \n",
              "6928   @carlomer ahahahaha. Di kasi makikita si binay...       1          1   \n",
              "10955    Pinaka korning commercial yung kay Mar Roxas.??       1          1   \n",
              "1964   @RespectBox @lefthooklounge @Rodriguez5_ he's ...       1          1   \n",
              "\n",
              "       prob_non_toxic  prob_toxic  \n",
              "13532        0.049795    0.950205  \n",
              "9314         0.049670    0.950330  \n",
              "9106         0.049488    0.950512  \n",
              "12506        0.049032    0.950968  \n",
              "8479         0.049030    0.950970  \n",
              "15432        0.048755    0.951245  \n",
              "2352         0.048528    0.951472  \n",
              "6999         0.048387    0.951613  \n",
              "10094        0.048249    0.951751  \n",
              "9587         0.048197    0.951803  \n",
              "17149        0.048146    0.951854  \n",
              "16737        0.047980    0.952020  \n",
              "4701         0.047815    0.952185  \n",
              "11824        0.047572    0.952428  \n",
              "12460        0.047457    0.952543  \n",
              "2507         0.047443    0.952557  \n",
              "2277         0.047272    0.952728  \n",
              "6928         0.047249    0.952751  \n",
              "10955        0.047133    0.952867  \n",
              "1964         0.047044    0.952956  "
            ]
          },
          "execution_count": 77,
          "metadata": {},
          "output_type": "execute_result"
        }
      ],
      "source": [
        "# Show some toxic text that were correctly classified.\n",
        "\n",
        "test_results_df[(test_results_df['actual'] == test_results_df['predicted']) & (test_results_df['predicted'] == 1) &(test_results_df['prob_toxic'] > 0.95)].sort_values(by='prob_toxic').head(20)"
      ]
    },
    {
      "cell_type": "code",
      "execution_count": 78,
      "metadata": {
        "id": "bk9z-2UIYFS-",
        "outputId": "b7b96d98-7877-4715-bf3d-d480261c9fa8"
      },
      "outputs": [
        {
          "data": {
            "text/html": [
              "<div>\n",
              "<style scoped>\n",
              "    .dataframe tbody tr th:only-of-type {\n",
              "        vertical-align: middle;\n",
              "    }\n",
              "\n",
              "    .dataframe tbody tr th {\n",
              "        vertical-align: top;\n",
              "    }\n",
              "\n",
              "    .dataframe thead th {\n",
              "        text-align: right;\n",
              "    }\n",
              "</style>\n",
              "<table border=\"1\" class=\"dataframe\">\n",
              "  <thead>\n",
              "    <tr style=\"text-align: right;\">\n",
              "      <th></th>\n",
              "      <th>text</th>\n",
              "      <th>actual</th>\n",
              "      <th>predicted</th>\n",
              "      <th>prob_non_toxic</th>\n",
              "      <th>prob_toxic</th>\n",
              "    </tr>\n",
              "  </thead>\n",
              "  <tbody>\n",
              "    <tr>\n",
              "      <th>3870</th>\n",
              "      <td>this time they did it #belgium  ððð</td>\n",
              "      <td>0</td>\n",
              "      <td>0</td>\n",
              "      <td>0.950027</td>\n",
              "      <td>0.049973</td>\n",
              "    </tr>\n",
              "    <tr>\n",
              "      <th>6678</th>\n",
              "      <td>@user the only person behaving as an idiot wo...</td>\n",
              "      <td>0</td>\n",
              "      <td>0</td>\n",
              "      <td>0.950081</td>\n",
              "      <td>0.049919</td>\n",
              "    </tr>\n",
              "    <tr>\n",
              "      <th>11938</th>\n",
              "      <td>#RoxasRobredo</td>\n",
              "      <td>0</td>\n",
              "      <td>0</td>\n",
              "      <td>0.950092</td>\n",
              "      <td>0.049908</td>\n",
              "    </tr>\n",
              "    <tr>\n",
              "      <th>8827</th>\n",
              "      <td>@GabeJGonzalez @RPopBox and a prime Leija woul...</td>\n",
              "      <td>0</td>\n",
              "      <td>0</td>\n",
              "      <td>0.950168</td>\n",
              "      <td>0.049832</td>\n",
              "    </tr>\n",
              "    <tr>\n",
              "      <th>9335</th>\n",
              "      <td>5 proven #habits that   people have</td>\n",
              "      <td>0</td>\n",
              "      <td>0</td>\n",
              "      <td>0.950203</td>\n",
              "      <td>0.049797</td>\n",
              "    </tr>\n",
              "    <tr>\n",
              "      <th>6906</th>\n",
              "      <td>Great picture, could stand for Binay, Marcos, ...</td>\n",
              "      <td>0</td>\n",
              "      <td>0</td>\n",
              "      <td>0.950307</td>\n",
              "      <td>0.049693</td>\n",
              "    </tr>\n",
              "    <tr>\n",
              "      <th>3763</th>\n",
              "      <td>i was so pumped cause bones will be having fou...</td>\n",
              "      <td>0</td>\n",
              "      <td>0</td>\n",
              "      <td>0.950412</td>\n",
              "      <td>0.049588</td>\n",
              "    </tr>\n",
              "    <tr>\n",
              "      <th>13686</th>\n",
              "      <td>can you guess what i did friday?ðð½ #barn...</td>\n",
              "      <td>0</td>\n",
              "      <td>0</td>\n",
              "      <td>0.950553</td>\n",
              "      <td>0.049447</td>\n",
              "    </tr>\n",
              "    <tr>\n",
              "      <th>14210</th>\n",
              "      <td>smiling, cheering, crying ... #americanninjawa...</td>\n",
              "      <td>0</td>\n",
              "      <td>0</td>\n",
              "      <td>0.950559</td>\n",
              "      <td>0.049441</td>\n",
              "    </tr>\n",
              "    <tr>\n",
              "      <th>13800</th>\n",
              "      <td>For Mar Roxas ? think 100x Duterte Solid to! h...</td>\n",
              "      <td>0</td>\n",
              "      <td>0</td>\n",
              "      <td>0.950687</td>\n",
              "      <td>0.049313</td>\n",
              "    </tr>\n",
              "    <tr>\n",
              "      <th>8074</th>\n",
              "      <td>some   #customers at the #brewery. :)</td>\n",
              "      <td>0</td>\n",
              "      <td>0</td>\n",
              "      <td>0.950693</td>\n",
              "      <td>0.049307</td>\n",
              "    </tr>\n",
              "    <tr>\n",
              "      <th>6132</th>\n",
              "      <td>#newcomeback #stellar #newconcept i'm excited</td>\n",
              "      <td>0</td>\n",
              "      <td>0</td>\n",
              "      <td>0.950737</td>\n",
              "      <td>0.049263</td>\n",
              "    </tr>\n",
              "    <tr>\n",
              "      <th>15873</th>\n",
              "      <td>@user it's been #bad for a while now</td>\n",
              "      <td>0</td>\n",
              "      <td>0</td>\n",
              "      <td>0.951049</td>\n",
              "      <td>0.048951</td>\n",
              "    </tr>\n",
              "    <tr>\n",
              "      <th>14042</th>\n",
              "      <td>wawo nic gud  bless  you</td>\n",
              "      <td>0</td>\n",
              "      <td>0</td>\n",
              "      <td>0.951087</td>\n",
              "      <td>0.048913</td>\n",
              "    </tr>\n",
              "    <tr>\n",
              "      <th>1937</th>\n",
              "      <td>Here's what Mar Roxas has to say about  https:...</td>\n",
              "      <td>0</td>\n",
              "      <td>0</td>\n",
              "      <td>0.951106</td>\n",
              "      <td>0.048894</td>\n",
              "    </tr>\n",
              "    <tr>\n",
              "      <th>9492</th>\n",
              "      <td>RT @profmssyj: did u seek audit of Binay befor...</td>\n",
              "      <td>0</td>\n",
              "      <td>0</td>\n",
              "      <td>0.951152</td>\n",
              "      <td>0.048848</td>\n",
              "    </tr>\n",
              "    <tr>\n",
              "      <th>14809</th>\n",
              "      <td>Binay’s birthday wish: Poverty alleviation for...</td>\n",
              "      <td>0</td>\n",
              "      <td>0</td>\n",
              "      <td>0.951275</td>\n",
              "      <td>0.048725</td>\n",
              "    </tr>\n",
              "    <tr>\n",
              "      <th>11015</th>\n",
              "      <td>@user wtf this is gross</td>\n",
              "      <td>0</td>\n",
              "      <td>0</td>\n",
              "      <td>0.951385</td>\n",
              "      <td>0.048615</td>\n",
              "    </tr>\n",
              "    <tr>\n",
              "      <th>9567</th>\n",
              "      <td>Rose colored glasses only, you guys. #wvnextin6</td>\n",
              "      <td>0</td>\n",
              "      <td>0</td>\n",
              "      <td>0.951540</td>\n",
              "      <td>0.048460</td>\n",
              "    </tr>\n",
              "    <tr>\n",
              "      <th>3871</th>\n",
              "      <td>#RoxasRising https://t.co/XHp3YNpv61</td>\n",
              "      <td>0</td>\n",
              "      <td>0</td>\n",
              "      <td>0.951561</td>\n",
              "      <td>0.048439</td>\n",
              "    </tr>\n",
              "  </tbody>\n",
              "</table>\n",
              "</div>"
            ],
            "text/plain": [
              "                                                    text  actual  predicted  \\\n",
              "3870        this time they did it #belgium  ððð       0          0   \n",
              "6678    @user the only person behaving as an idiot wo...       0          0   \n",
              "11938                                      #RoxasRobredo       0          0   \n",
              "8827   @GabeJGonzalez @RPopBox and a prime Leija woul...       0          0   \n",
              "9335                5 proven #habits that   people have        0          0   \n",
              "6906   Great picture, could stand for Binay, Marcos, ...       0          0   \n",
              "3763   i was so pumped cause bones will be having fou...       0          0   \n",
              "13686  can you guess what i did friday?ðð½ #barn...       0          0   \n",
              "14210  smiling, cheering, crying ... #americanninjawa...       0          0   \n",
              "13800  For Mar Roxas ? think 100x Duterte Solid to! h...       0          0   \n",
              "8074              some   #customers at the #brewery. :)        0          0   \n",
              "6132    #newcomeback #stellar #newconcept i'm excited          0          0   \n",
              "15873             @user it's been #bad for a while now         0          0   \n",
              "14042                          wawo nic gud  bless  you        0          0   \n",
              "1937   Here's what Mar Roxas has to say about  https:...       0          0   \n",
              "9492   RT @profmssyj: did u seek audit of Binay befor...       0          0   \n",
              "14809  Binay’s birthday wish: Poverty alleviation for...       0          0   \n",
              "11015                           @user wtf this is gross        0          0   \n",
              "9567     Rose colored glasses only, you guys. #wvnextin6       0          0   \n",
              "3871                #RoxasRising https://t.co/XHp3YNpv61       0          0   \n",
              "\n",
              "       prob_non_toxic  prob_toxic  \n",
              "3870         0.950027    0.049973  \n",
              "6678         0.950081    0.049919  \n",
              "11938        0.950092    0.049908  \n",
              "8827         0.950168    0.049832  \n",
              "9335         0.950203    0.049797  \n",
              "6906         0.950307    0.049693  \n",
              "3763         0.950412    0.049588  \n",
              "13686        0.950553    0.049447  \n",
              "14210        0.950559    0.049441  \n",
              "13800        0.950687    0.049313  \n",
              "8074         0.950693    0.049307  \n",
              "6132         0.950737    0.049263  \n",
              "15873        0.951049    0.048951  \n",
              "14042        0.951087    0.048913  \n",
              "1937         0.951106    0.048894  \n",
              "9492         0.951152    0.048848  \n",
              "14809        0.951275    0.048725  \n",
              "11015        0.951385    0.048615  \n",
              "9567         0.951540    0.048460  \n",
              "3871         0.951561    0.048439  "
            ]
          },
          "execution_count": 78,
          "metadata": {},
          "output_type": "execute_result"
        }
      ],
      "source": [
        "#  Show some non-toxic text that were correctly classified.\n",
        "\n",
        "test_results_df[(test_results_df['actual'] == test_results_df['predicted']) & (test_results_df['predicted'] == 0) &(test_results_df['prob_non_toxic'] > 0.95)].sort_values(by='prob_non_toxic').head(20)\n"
      ]
    },
    {
      "attachments": {},
      "cell_type": "markdown",
      "metadata": {
        "id": "ARpxplt6YFTA"
      },
      "source": [
        "# 8 | For Bonus Points (AIaaS - AI as a service)"
      ]
    },
    {
      "cell_type": "code",
      "execution_count": 79,
      "metadata": {
        "id": "mr6RbPsnYFTA",
        "outputId": "0e970b62-3a6a-4588-8fcc-4e92df15ae33"
      },
      "outputs": [
        {
          "data": {
            "text/plain": [
              "['./backend/mnb_model.joblib']"
            ]
          },
          "execution_count": 79,
          "metadata": {},
          "output_type": "execute_result"
        }
      ],
      "source": [
        "# Save the fitted Monomial Naive Bayes model locally.\n",
        "# This will be used for the FastAPI backend.\n",
        "\n",
        "import joblib\n",
        "\n",
        "joblib.dump(mnb, './backend/mnb_model.joblib')"
      ]
    },
    {
      "cell_type": "code",
      "execution_count": 80,
      "metadata": {
        "id": "lrqnfuEBYFTB"
      },
      "outputs": [],
      "source": [
        "# Save the X_train data frame locally.\n",
        "# This will be used for the FastAPI backend.\n",
        "# (i.e., to fit the CountVectorizer instance there).\n",
        "\n",
        "X_train.to_csv('./backend/X_train.csv', index=False)"
      ]
    },
    {
      "cell_type": "code",
      "execution_count": 81,
      "metadata": {
        "id": "CwrCuymhCk_b"
      },
      "outputs": [],
      "source": [
        "# Save the custom stopwords list to a text file locally.\n",
        "# This will be used for the FastAPI backend.\n",
        "\n",
        "with open('./backend/custom_stopwords.txt', 'w') as file:\n",
        "    for word in custom_stop_words:\n",
        "        file.write(word + '\\n')\n",
        "\n",
        "# Close the file.\n",
        "file.close()"
      ]
    }
  ],
  "metadata": {
    "colab": {
      "provenance": [],
      "toc_visible": true
    },
    "kernelspec": {
      "display_name": "base",
      "language": "python",
      "name": "python3"
    },
    "language_info": {
      "codemirror_mode": {
        "name": "ipython",
        "version": 3
      },
      "file_extension": ".py",
      "mimetype": "text/x-python",
      "name": "python",
      "nbconvert_exporter": "python",
      "pygments_lexer": "ipython3",
      "version": "3.9.13"
    },
    "orig_nbformat": 4
  },
  "nbformat": 4,
  "nbformat_minor": 0
}
